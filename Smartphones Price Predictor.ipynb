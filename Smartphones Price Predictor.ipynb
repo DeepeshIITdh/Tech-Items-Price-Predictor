{
 "cells": [
  {
   "cell_type": "code",
   "execution_count": 1,
   "id": "35e89f35",
   "metadata": {},
   "outputs": [],
   "source": [
    "# importing libraries\n",
    "import pandas as pd \n",
    "import numpy as np \n",
    "import matplotlib.pyplot as plt\n",
    "import seaborn as sns"
   ]
  },
  {
   "cell_type": "code",
   "execution_count": 2,
   "id": "4b816c94",
   "metadata": {},
   "outputs": [],
   "source": [
    "df = pd.read_csv('smartphones.csv')"
   ]
  },
  {
   "cell_type": "markdown",
   "id": "4948efc9",
   "metadata": {},
   "source": [
    "## Understanding the Data :"
   ]
  },
  {
   "cell_type": "code",
   "execution_count": 3,
   "id": "71ae1d5b",
   "metadata": {},
   "outputs": [
    {
     "data": {
      "text/html": [
       "<div>\n",
       "<style scoped>\n",
       "    .dataframe tbody tr th:only-of-type {\n",
       "        vertical-align: middle;\n",
       "    }\n",
       "\n",
       "    .dataframe tbody tr th {\n",
       "        vertical-align: top;\n",
       "    }\n",
       "\n",
       "    .dataframe thead th {\n",
       "        text-align: right;\n",
       "    }\n",
       "</style>\n",
       "<table border=\"1\" class=\"dataframe\">\n",
       "  <thead>\n",
       "    <tr style=\"text-align: right;\">\n",
       "      <th></th>\n",
       "      <th>model</th>\n",
       "      <th>price</th>\n",
       "      <th>rating</th>\n",
       "      <th>sim</th>\n",
       "      <th>processor</th>\n",
       "      <th>ram</th>\n",
       "      <th>battery</th>\n",
       "      <th>display</th>\n",
       "      <th>camera</th>\n",
       "      <th>card</th>\n",
       "      <th>os</th>\n",
       "    </tr>\n",
       "  </thead>\n",
       "  <tbody>\n",
       "    <tr>\n",
       "      <th>0</th>\n",
       "      <td>OnePlus 11 5G</td>\n",
       "      <td>₹54,999</td>\n",
       "      <td>89.0</td>\n",
       "      <td>Dual Sim, 3G, 4G, 5G, VoLTE, Wi-Fi, NFC</td>\n",
       "      <td>Snapdragon 8 Gen2, Octa Core, 3.2 GHz Processor</td>\n",
       "      <td>12 GB RAM, 256 GB inbuilt</td>\n",
       "      <td>5000 mAh Battery with 100W Fast Charging</td>\n",
       "      <td>6.7 inches, 1440 x 3216 px, 120 Hz Display wit...</td>\n",
       "      <td>50 MP + 48 MP + 32 MP Triple Rear &amp; 16 MP Fron...</td>\n",
       "      <td>Memory Card Not Supported</td>\n",
       "      <td>Android v13</td>\n",
       "    </tr>\n",
       "    <tr>\n",
       "      <th>1</th>\n",
       "      <td>OnePlus Nord CE 2 Lite 5G</td>\n",
       "      <td>₹19,989</td>\n",
       "      <td>81.0</td>\n",
       "      <td>Dual Sim, 3G, 4G, 5G, VoLTE, Wi-Fi</td>\n",
       "      <td>Snapdragon 695, Octa Core, 2.2 GHz Processor</td>\n",
       "      <td>6 GB RAM, 128 GB inbuilt</td>\n",
       "      <td>5000 mAh Battery with 33W Fast Charging</td>\n",
       "      <td>6.59 inches, 1080 x 2412 px, 120 Hz Display wi...</td>\n",
       "      <td>64 MP + 2 MP + 2 MP Triple Rear &amp; 16 MP Front ...</td>\n",
       "      <td>Memory Card (Hybrid), upto 1 TB</td>\n",
       "      <td>Android v12</td>\n",
       "    </tr>\n",
       "    <tr>\n",
       "      <th>2</th>\n",
       "      <td>Samsung Galaxy A14 5G</td>\n",
       "      <td>₹16,499</td>\n",
       "      <td>75.0</td>\n",
       "      <td>Dual Sim, 3G, 4G, 5G, VoLTE, Wi-Fi</td>\n",
       "      <td>Exynos 1330, Octa Core, 2.4 GHz Processor</td>\n",
       "      <td>4 GB RAM, 64 GB inbuilt</td>\n",
       "      <td>5000 mAh Battery with 15W Fast Charging</td>\n",
       "      <td>6.6 inches, 1080 x 2408 px, 90 Hz Display with...</td>\n",
       "      <td>50 MP + 2 MP + 2 MP Triple Rear &amp; 13 MP Front ...</td>\n",
       "      <td>Memory Card Supported, upto 1 TB</td>\n",
       "      <td>Android v13</td>\n",
       "    </tr>\n",
       "    <tr>\n",
       "      <th>3</th>\n",
       "      <td>Motorola Moto G62 5G</td>\n",
       "      <td>₹14,999</td>\n",
       "      <td>81.0</td>\n",
       "      <td>Dual Sim, 3G, 4G, 5G, VoLTE, Wi-Fi</td>\n",
       "      <td>Snapdragon  695, Octa Core, 2.2 GHz Processor</td>\n",
       "      <td>6 GB RAM, 128 GB inbuilt</td>\n",
       "      <td>5000 mAh Battery with Fast Charging</td>\n",
       "      <td>6.55 inches, 1080 x 2400 px, 120 Hz Display wi...</td>\n",
       "      <td>50 MP + 8 MP + 2 MP Triple Rear &amp; 16 MP Front ...</td>\n",
       "      <td>Memory Card (Hybrid), upto 1 TB</td>\n",
       "      <td>Android v12</td>\n",
       "    </tr>\n",
       "    <tr>\n",
       "      <th>4</th>\n",
       "      <td>Realme 10 Pro Plus</td>\n",
       "      <td>₹24,999</td>\n",
       "      <td>82.0</td>\n",
       "      <td>Dual Sim, 3G, 4G, 5G, VoLTE, Wi-Fi</td>\n",
       "      <td>Dimensity 1080, Octa Core, 2.6 GHz Processor</td>\n",
       "      <td>6 GB RAM, 128 GB inbuilt</td>\n",
       "      <td>5000 mAh Battery with 67W Fast Charging</td>\n",
       "      <td>6.7 inches, 1080 x 2412 px, 120 Hz Display wit...</td>\n",
       "      <td>108 MP + 8 MP + 2 MP Triple Rear &amp; 16 MP Front...</td>\n",
       "      <td>Memory Card Not Supported</td>\n",
       "      <td>Android v13</td>\n",
       "    </tr>\n",
       "  </tbody>\n",
       "</table>\n",
       "</div>"
      ],
      "text/plain": [
       "                       model    price  rating  \\\n",
       "0              OnePlus 11 5G  ₹54,999    89.0   \n",
       "1  OnePlus Nord CE 2 Lite 5G  ₹19,989    81.0   \n",
       "2      Samsung Galaxy A14 5G  ₹16,499    75.0   \n",
       "3       Motorola Moto G62 5G  ₹14,999    81.0   \n",
       "4         Realme 10 Pro Plus  ₹24,999    82.0   \n",
       "\n",
       "                                       sim  \\\n",
       "0  Dual Sim, 3G, 4G, 5G, VoLTE, Wi-Fi, NFC   \n",
       "1       Dual Sim, 3G, 4G, 5G, VoLTE, Wi-Fi   \n",
       "2       Dual Sim, 3G, 4G, 5G, VoLTE, Wi-Fi   \n",
       "3       Dual Sim, 3G, 4G, 5G, VoLTE, Wi-Fi   \n",
       "4       Dual Sim, 3G, 4G, 5G, VoLTE, Wi-Fi   \n",
       "\n",
       "                                         processor                        ram  \\\n",
       "0  Snapdragon 8 Gen2, Octa Core, 3.2 GHz Processor  12 GB RAM, 256 GB inbuilt   \n",
       "1     Snapdragon 695, Octa Core, 2.2 GHz Processor   6 GB RAM, 128 GB inbuilt   \n",
       "2        Exynos 1330, Octa Core, 2.4 GHz Processor    4 GB RAM, 64 GB inbuilt   \n",
       "3    Snapdragon  695, Octa Core, 2.2 GHz Processor   6 GB RAM, 128 GB inbuilt   \n",
       "4     Dimensity 1080, Octa Core, 2.6 GHz Processor   6 GB RAM, 128 GB inbuilt   \n",
       "\n",
       "                                    battery  \\\n",
       "0  5000 mAh Battery with 100W Fast Charging   \n",
       "1   5000 mAh Battery with 33W Fast Charging   \n",
       "2   5000 mAh Battery with 15W Fast Charging   \n",
       "3       5000 mAh Battery with Fast Charging   \n",
       "4   5000 mAh Battery with 67W Fast Charging   \n",
       "\n",
       "                                             display  \\\n",
       "0  6.7 inches, 1440 x 3216 px, 120 Hz Display wit...   \n",
       "1  6.59 inches, 1080 x 2412 px, 120 Hz Display wi...   \n",
       "2  6.6 inches, 1080 x 2408 px, 90 Hz Display with...   \n",
       "3  6.55 inches, 1080 x 2400 px, 120 Hz Display wi...   \n",
       "4  6.7 inches, 1080 x 2412 px, 120 Hz Display wit...   \n",
       "\n",
       "                                              camera  \\\n",
       "0  50 MP + 48 MP + 32 MP Triple Rear & 16 MP Fron...   \n",
       "1  64 MP + 2 MP + 2 MP Triple Rear & 16 MP Front ...   \n",
       "2  50 MP + 2 MP + 2 MP Triple Rear & 13 MP Front ...   \n",
       "3  50 MP + 8 MP + 2 MP Triple Rear & 16 MP Front ...   \n",
       "4  108 MP + 8 MP + 2 MP Triple Rear & 16 MP Front...   \n",
       "\n",
       "                               card           os  \n",
       "0         Memory Card Not Supported  Android v13  \n",
       "1   Memory Card (Hybrid), upto 1 TB  Android v12  \n",
       "2  Memory Card Supported, upto 1 TB  Android v13  \n",
       "3   Memory Card (Hybrid), upto 1 TB  Android v12  \n",
       "4         Memory Card Not Supported  Android v13  "
      ]
     },
     "execution_count": 3,
     "metadata": {},
     "output_type": "execute_result"
    }
   ],
   "source": [
    "df.head()"
   ]
  },
  {
   "cell_type": "code",
   "execution_count": 4,
   "id": "eea42a1d",
   "metadata": {},
   "outputs": [
    {
     "data": {
      "text/plain": [
       "(1020, 11)"
      ]
     },
     "execution_count": 4,
     "metadata": {},
     "output_type": "execute_result"
    }
   ],
   "source": [
    "# rows and columns in the data\n",
    "df.shape"
   ]
  },
  {
   "cell_type": "code",
   "execution_count": 5,
   "id": "ef2570c6",
   "metadata": {},
   "outputs": [
    {
     "name": "stdout",
     "output_type": "stream",
     "text": [
      "<class 'pandas.core.frame.DataFrame'>\n",
      "RangeIndex: 1020 entries, 0 to 1019\n",
      "Data columns (total 11 columns):\n",
      " #   Column     Non-Null Count  Dtype  \n",
      "---  ------     --------------  -----  \n",
      " 0   model      1020 non-null   object \n",
      " 1   price      1020 non-null   object \n",
      " 2   rating     879 non-null    float64\n",
      " 3   sim        1020 non-null   object \n",
      " 4   processor  1020 non-null   object \n",
      " 5   ram        1020 non-null   object \n",
      " 6   battery    1020 non-null   object \n",
      " 7   display    1020 non-null   object \n",
      " 8   camera     1019 non-null   object \n",
      " 9   card       1013 non-null   object \n",
      " 10  os         1003 non-null   object \n",
      "dtypes: float64(1), object(10)\n",
      "memory usage: 87.8+ KB\n"
     ]
    }
   ],
   "source": [
    "# info about columns\n",
    "df.info()"
   ]
  },
  {
   "cell_type": "code",
   "execution_count": 6,
   "id": "7901f412",
   "metadata": {},
   "outputs": [
    {
     "data": {
      "text/plain": [
       "model          0\n",
       "price          0\n",
       "rating       141\n",
       "sim            0\n",
       "processor      0\n",
       "ram            0\n",
       "battery        0\n",
       "display        0\n",
       "camera         1\n",
       "card           7\n",
       "os            17\n",
       "dtype: int64"
      ]
     },
     "execution_count": 6,
     "metadata": {},
     "output_type": "execute_result"
    }
   ],
   "source": [
    "# missing values\n",
    "df.isnull().sum()"
   ]
  },
  {
   "cell_type": "code",
   "execution_count": 7,
   "id": "7bc18c91",
   "metadata": {},
   "outputs": [
    {
     "data": {
      "text/plain": [
       "0"
      ]
     },
     "execution_count": 7,
     "metadata": {},
     "output_type": "execute_result"
    }
   ],
   "source": [
    "# duplicate values \n",
    "df.duplicated().sum()"
   ]
  },
  {
   "cell_type": "code",
   "execution_count": 8,
   "id": "12fc466e",
   "metadata": {},
   "outputs": [
    {
     "data": {
      "text/html": [
       "<div>\n",
       "<style scoped>\n",
       "    .dataframe tbody tr th:only-of-type {\n",
       "        vertical-align: middle;\n",
       "    }\n",
       "\n",
       "    .dataframe tbody tr th {\n",
       "        vertical-align: top;\n",
       "    }\n",
       "\n",
       "    .dataframe thead th {\n",
       "        text-align: right;\n",
       "    }\n",
       "</style>\n",
       "<table border=\"1\" class=\"dataframe\">\n",
       "  <thead>\n",
       "    <tr style=\"text-align: right;\">\n",
       "      <th></th>\n",
       "      <th>rating</th>\n",
       "    </tr>\n",
       "  </thead>\n",
       "  <tbody>\n",
       "    <tr>\n",
       "      <th>count</th>\n",
       "      <td>879.000000</td>\n",
       "    </tr>\n",
       "    <tr>\n",
       "      <th>mean</th>\n",
       "      <td>78.258248</td>\n",
       "    </tr>\n",
       "    <tr>\n",
       "      <th>std</th>\n",
       "      <td>7.402854</td>\n",
       "    </tr>\n",
       "    <tr>\n",
       "      <th>min</th>\n",
       "      <td>60.000000</td>\n",
       "    </tr>\n",
       "    <tr>\n",
       "      <th>25%</th>\n",
       "      <td>74.000000</td>\n",
       "    </tr>\n",
       "    <tr>\n",
       "      <th>50%</th>\n",
       "      <td>80.000000</td>\n",
       "    </tr>\n",
       "    <tr>\n",
       "      <th>75%</th>\n",
       "      <td>84.000000</td>\n",
       "    </tr>\n",
       "    <tr>\n",
       "      <th>max</th>\n",
       "      <td>89.000000</td>\n",
       "    </tr>\n",
       "  </tbody>\n",
       "</table>\n",
       "</div>"
      ],
      "text/plain": [
       "           rating\n",
       "count  879.000000\n",
       "mean    78.258248\n",
       "std      7.402854\n",
       "min     60.000000\n",
       "25%     74.000000\n",
       "50%     80.000000\n",
       "75%     84.000000\n",
       "max     89.000000"
      ]
     },
     "execution_count": 8,
     "metadata": {},
     "output_type": "execute_result"
    }
   ],
   "source": [
    "# statistical info \n",
    "df.describe()"
   ]
  },
  {
   "cell_type": "markdown",
   "id": "57b608b1",
   "metadata": {},
   "source": [
    "## Data Preprocessing :"
   ]
  },
  {
   "cell_type": "code",
   "execution_count": 9,
   "id": "1c1b4de1",
   "metadata": {},
   "outputs": [
    {
     "data": {
      "text/html": [
       "<div>\n",
       "<style scoped>\n",
       "    .dataframe tbody tr th:only-of-type {\n",
       "        vertical-align: middle;\n",
       "    }\n",
       "\n",
       "    .dataframe tbody tr th {\n",
       "        vertical-align: top;\n",
       "    }\n",
       "\n",
       "    .dataframe thead th {\n",
       "        text-align: right;\n",
       "    }\n",
       "</style>\n",
       "<table border=\"1\" class=\"dataframe\">\n",
       "  <thead>\n",
       "    <tr style=\"text-align: right;\">\n",
       "      <th></th>\n",
       "      <th>model</th>\n",
       "      <th>price</th>\n",
       "      <th>rating</th>\n",
       "      <th>sim</th>\n",
       "      <th>processor</th>\n",
       "      <th>ram</th>\n",
       "      <th>battery</th>\n",
       "      <th>display</th>\n",
       "      <th>camera</th>\n",
       "      <th>card</th>\n",
       "      <th>os</th>\n",
       "    </tr>\n",
       "  </thead>\n",
       "  <tbody>\n",
       "    <tr>\n",
       "      <th>0</th>\n",
       "      <td>OnePlus 11 5G</td>\n",
       "      <td>₹54,999</td>\n",
       "      <td>89.0</td>\n",
       "      <td>Dual Sim, 3G, 4G, 5G, VoLTE, Wi-Fi, NFC</td>\n",
       "      <td>Snapdragon 8 Gen2, Octa Core, 3.2 GHz Processor</td>\n",
       "      <td>12 GB RAM, 256 GB inbuilt</td>\n",
       "      <td>5000 mAh Battery with 100W Fast Charging</td>\n",
       "      <td>6.7 inches, 1440 x 3216 px, 120 Hz Display wit...</td>\n",
       "      <td>50 MP + 48 MP + 32 MP Triple Rear &amp; 16 MP Fron...</td>\n",
       "      <td>Memory Card Not Supported</td>\n",
       "      <td>Android v13</td>\n",
       "    </tr>\n",
       "    <tr>\n",
       "      <th>1</th>\n",
       "      <td>OnePlus Nord CE 2 Lite 5G</td>\n",
       "      <td>₹19,989</td>\n",
       "      <td>81.0</td>\n",
       "      <td>Dual Sim, 3G, 4G, 5G, VoLTE, Wi-Fi</td>\n",
       "      <td>Snapdragon 695, Octa Core, 2.2 GHz Processor</td>\n",
       "      <td>6 GB RAM, 128 GB inbuilt</td>\n",
       "      <td>5000 mAh Battery with 33W Fast Charging</td>\n",
       "      <td>6.59 inches, 1080 x 2412 px, 120 Hz Display wi...</td>\n",
       "      <td>64 MP + 2 MP + 2 MP Triple Rear &amp; 16 MP Front ...</td>\n",
       "      <td>Memory Card (Hybrid), upto 1 TB</td>\n",
       "      <td>Android v12</td>\n",
       "    </tr>\n",
       "    <tr>\n",
       "      <th>2</th>\n",
       "      <td>Samsung Galaxy A14 5G</td>\n",
       "      <td>₹16,499</td>\n",
       "      <td>75.0</td>\n",
       "      <td>Dual Sim, 3G, 4G, 5G, VoLTE, Wi-Fi</td>\n",
       "      <td>Exynos 1330, Octa Core, 2.4 GHz Processor</td>\n",
       "      <td>4 GB RAM, 64 GB inbuilt</td>\n",
       "      <td>5000 mAh Battery with 15W Fast Charging</td>\n",
       "      <td>6.6 inches, 1080 x 2408 px, 90 Hz Display with...</td>\n",
       "      <td>50 MP + 2 MP + 2 MP Triple Rear &amp; 13 MP Front ...</td>\n",
       "      <td>Memory Card Supported, upto 1 TB</td>\n",
       "      <td>Android v13</td>\n",
       "    </tr>\n",
       "    <tr>\n",
       "      <th>3</th>\n",
       "      <td>Motorola Moto G62 5G</td>\n",
       "      <td>₹14,999</td>\n",
       "      <td>81.0</td>\n",
       "      <td>Dual Sim, 3G, 4G, 5G, VoLTE, Wi-Fi</td>\n",
       "      <td>Snapdragon  695, Octa Core, 2.2 GHz Processor</td>\n",
       "      <td>6 GB RAM, 128 GB inbuilt</td>\n",
       "      <td>5000 mAh Battery with Fast Charging</td>\n",
       "      <td>6.55 inches, 1080 x 2400 px, 120 Hz Display wi...</td>\n",
       "      <td>50 MP + 8 MP + 2 MP Triple Rear &amp; 16 MP Front ...</td>\n",
       "      <td>Memory Card (Hybrid), upto 1 TB</td>\n",
       "      <td>Android v12</td>\n",
       "    </tr>\n",
       "    <tr>\n",
       "      <th>4</th>\n",
       "      <td>Realme 10 Pro Plus</td>\n",
       "      <td>₹24,999</td>\n",
       "      <td>82.0</td>\n",
       "      <td>Dual Sim, 3G, 4G, 5G, VoLTE, Wi-Fi</td>\n",
       "      <td>Dimensity 1080, Octa Core, 2.6 GHz Processor</td>\n",
       "      <td>6 GB RAM, 128 GB inbuilt</td>\n",
       "      <td>5000 mAh Battery with 67W Fast Charging</td>\n",
       "      <td>6.7 inches, 1080 x 2412 px, 120 Hz Display wit...</td>\n",
       "      <td>108 MP + 8 MP + 2 MP Triple Rear &amp; 16 MP Front...</td>\n",
       "      <td>Memory Card Not Supported</td>\n",
       "      <td>Android v13</td>\n",
       "    </tr>\n",
       "  </tbody>\n",
       "</table>\n",
       "</div>"
      ],
      "text/plain": [
       "                       model    price  rating  \\\n",
       "0              OnePlus 11 5G  ₹54,999    89.0   \n",
       "1  OnePlus Nord CE 2 Lite 5G  ₹19,989    81.0   \n",
       "2      Samsung Galaxy A14 5G  ₹16,499    75.0   \n",
       "3       Motorola Moto G62 5G  ₹14,999    81.0   \n",
       "4         Realme 10 Pro Plus  ₹24,999    82.0   \n",
       "\n",
       "                                       sim  \\\n",
       "0  Dual Sim, 3G, 4G, 5G, VoLTE, Wi-Fi, NFC   \n",
       "1       Dual Sim, 3G, 4G, 5G, VoLTE, Wi-Fi   \n",
       "2       Dual Sim, 3G, 4G, 5G, VoLTE, Wi-Fi   \n",
       "3       Dual Sim, 3G, 4G, 5G, VoLTE, Wi-Fi   \n",
       "4       Dual Sim, 3G, 4G, 5G, VoLTE, Wi-Fi   \n",
       "\n",
       "                                         processor                        ram  \\\n",
       "0  Snapdragon 8 Gen2, Octa Core, 3.2 GHz Processor  12 GB RAM, 256 GB inbuilt   \n",
       "1     Snapdragon 695, Octa Core, 2.2 GHz Processor   6 GB RAM, 128 GB inbuilt   \n",
       "2        Exynos 1330, Octa Core, 2.4 GHz Processor    4 GB RAM, 64 GB inbuilt   \n",
       "3    Snapdragon  695, Octa Core, 2.2 GHz Processor   6 GB RAM, 128 GB inbuilt   \n",
       "4     Dimensity 1080, Octa Core, 2.6 GHz Processor   6 GB RAM, 128 GB inbuilt   \n",
       "\n",
       "                                    battery  \\\n",
       "0  5000 mAh Battery with 100W Fast Charging   \n",
       "1   5000 mAh Battery with 33W Fast Charging   \n",
       "2   5000 mAh Battery with 15W Fast Charging   \n",
       "3       5000 mAh Battery with Fast Charging   \n",
       "4   5000 mAh Battery with 67W Fast Charging   \n",
       "\n",
       "                                             display  \\\n",
       "0  6.7 inches, 1440 x 3216 px, 120 Hz Display wit...   \n",
       "1  6.59 inches, 1080 x 2412 px, 120 Hz Display wi...   \n",
       "2  6.6 inches, 1080 x 2408 px, 90 Hz Display with...   \n",
       "3  6.55 inches, 1080 x 2400 px, 120 Hz Display wi...   \n",
       "4  6.7 inches, 1080 x 2412 px, 120 Hz Display wit...   \n",
       "\n",
       "                                              camera  \\\n",
       "0  50 MP + 48 MP + 32 MP Triple Rear & 16 MP Fron...   \n",
       "1  64 MP + 2 MP + 2 MP Triple Rear & 16 MP Front ...   \n",
       "2  50 MP + 2 MP + 2 MP Triple Rear & 13 MP Front ...   \n",
       "3  50 MP + 8 MP + 2 MP Triple Rear & 16 MP Front ...   \n",
       "4  108 MP + 8 MP + 2 MP Triple Rear & 16 MP Front...   \n",
       "\n",
       "                               card           os  \n",
       "0         Memory Card Not Supported  Android v13  \n",
       "1   Memory Card (Hybrid), upto 1 TB  Android v12  \n",
       "2  Memory Card Supported, upto 1 TB  Android v13  \n",
       "3   Memory Card (Hybrid), upto 1 TB  Android v12  \n",
       "4         Memory Card Not Supported  Android v13  "
      ]
     },
     "execution_count": 9,
     "metadata": {},
     "output_type": "execute_result"
    }
   ],
   "source": [
    "df.head()"
   ]
  },
  {
   "cell_type": "markdown",
   "id": "a23713d9",
   "metadata": {},
   "source": [
    "### 1. Model :"
   ]
  },
  {
   "cell_type": "code",
   "execution_count": 10,
   "id": "1e7df627",
   "metadata": {
    "scrolled": false
   },
   "outputs": [],
   "source": [
    "# extracting brand name from the model\n",
    "df['brand'] = [x[0] for x in df['model'].str.split()]"
   ]
  },
  {
   "cell_type": "code",
   "execution_count": 11,
   "id": "4f49e5f9",
   "metadata": {},
   "outputs": [
    {
     "data": {
      "text/html": [
       "<div>\n",
       "<style scoped>\n",
       "    .dataframe tbody tr th:only-of-type {\n",
       "        vertical-align: middle;\n",
       "    }\n",
       "\n",
       "    .dataframe tbody tr th {\n",
       "        vertical-align: top;\n",
       "    }\n",
       "\n",
       "    .dataframe thead th {\n",
       "        text-align: right;\n",
       "    }\n",
       "</style>\n",
       "<table border=\"1\" class=\"dataframe\">\n",
       "  <thead>\n",
       "    <tr style=\"text-align: right;\">\n",
       "      <th></th>\n",
       "      <th>model</th>\n",
       "      <th>price</th>\n",
       "      <th>rating</th>\n",
       "      <th>sim</th>\n",
       "      <th>processor</th>\n",
       "      <th>ram</th>\n",
       "      <th>battery</th>\n",
       "      <th>display</th>\n",
       "      <th>camera</th>\n",
       "      <th>card</th>\n",
       "      <th>os</th>\n",
       "      <th>brand</th>\n",
       "    </tr>\n",
       "  </thead>\n",
       "  <tbody>\n",
       "    <tr>\n",
       "      <th>740</th>\n",
       "      <td>OPPO Reno 6 Pro Plus 5G</td>\n",
       "      <td>₹44,990</td>\n",
       "      <td>87.0</td>\n",
       "      <td>Dual Sim, 3G, 4G, 5G, VoLTE, Wi-Fi, NFC</td>\n",
       "      <td>Snapdragon 870, Octa Core, 3.2 GHz Processor</td>\n",
       "      <td>8 GB RAM, 128 GB inbuilt</td>\n",
       "      <td>4500 mAh Battery with 65W Fast Charging</td>\n",
       "      <td>6.55 inches, 1080 x 2400 px, 90 Hz Display wit...</td>\n",
       "      <td>50 MP Quad Rear &amp; 32 MP Front Camera</td>\n",
       "      <td>Android v11</td>\n",
       "      <td>No FM Radio</td>\n",
       "      <td>OPPO</td>\n",
       "    </tr>\n",
       "    <tr>\n",
       "      <th>157</th>\n",
       "      <td>OPPO F21 Pro 5G</td>\n",
       "      <td>₹25,969</td>\n",
       "      <td>82.0</td>\n",
       "      <td>Dual Sim, 3G, 4G, 5G, VoLTE, Wi-Fi</td>\n",
       "      <td>Snapdragon 695, Octa Core, 2.2 GHz Processor</td>\n",
       "      <td>8 GB RAM, 128 GB inbuilt</td>\n",
       "      <td>4500 mAh Battery with 33W Fast Charging</td>\n",
       "      <td>6.43 inches, 1080 x 2400 px Display with Punch...</td>\n",
       "      <td>64 MP + 2 MP + 2 MP Triple Rear &amp; 16 MP Front ...</td>\n",
       "      <td>Memory Card Supported, upto 1 TB</td>\n",
       "      <td>Android v12</td>\n",
       "      <td>OPPO</td>\n",
       "    </tr>\n",
       "    <tr>\n",
       "      <th>873</th>\n",
       "      <td>BlackZone Ultra 4G</td>\n",
       "      <td>₹1,899</td>\n",
       "      <td>NaN</td>\n",
       "      <td>Dual Sim, 3G, 4G, VoLTE</td>\n",
       "      <td>Single Core, 1 GHz Processor</td>\n",
       "      <td>48 MB RAM, 48 MB inbuilt</td>\n",
       "      <td>2500 mAh Battery</td>\n",
       "      <td>1.8 inches, 480 x 640 px Display</td>\n",
       "      <td>2 MP Rear Camera</td>\n",
       "      <td>Memory Card Supported, upto 48 GB</td>\n",
       "      <td>Bluetooth</td>\n",
       "      <td>BlackZone</td>\n",
       "    </tr>\n",
       "    <tr>\n",
       "      <th>142</th>\n",
       "      <td>Poco M4 Pro 5G</td>\n",
       "      <td>₹12,999</td>\n",
       "      <td>76.0</td>\n",
       "      <td>Dual Sim, 3G, 4G, 5G, VoLTE, Wi-Fi, IR Blaster</td>\n",
       "      <td>Dimensity  810 5G, Octa Core, 2.4 GHz Processor</td>\n",
       "      <td>4 GB RAM, 64 GB inbuilt</td>\n",
       "      <td>5000 mAh Battery with 33W Fast Charging</td>\n",
       "      <td>6.6 inches, 1080 x 2400 px, 90 Hz Display with...</td>\n",
       "      <td>50 MP + 8 MP Dual Rear &amp; 16 MP Front Camera</td>\n",
       "      <td>Memory Card (Hybrid), upto 1 TB</td>\n",
       "      <td>Android v11</td>\n",
       "      <td>Poco</td>\n",
       "    </tr>\n",
       "    <tr>\n",
       "      <th>519</th>\n",
       "      <td>Oppo Reno 8 Pro (8GB RAM + 256GB)</td>\n",
       "      <td>₹42,990</td>\n",
       "      <td>85.0</td>\n",
       "      <td>Dual Sim, 3G, 4G, 5G, VoLTE, Wi-Fi, NFC</td>\n",
       "      <td>Dimensity 8100-Max, Octa Core, 2.85 GHz Processor</td>\n",
       "      <td>8 GB RAM, 256 GB inbuilt</td>\n",
       "      <td>4500 mAh Battery with 80W Fast Charging</td>\n",
       "      <td>6.7 inches, 1080 x 2412 px, 120 Hz Display wit...</td>\n",
       "      <td>50 MP + 8 MP + 2 MP Triple Rear &amp; 32 MP Front ...</td>\n",
       "      <td>Android v12</td>\n",
       "      <td>No FM Radio</td>\n",
       "      <td>Oppo</td>\n",
       "    </tr>\n",
       "  </tbody>\n",
       "</table>\n",
       "</div>"
      ],
      "text/plain": [
       "                                 model    price  rating  \\\n",
       "740            OPPO Reno 6 Pro Plus 5G  ₹44,990    87.0   \n",
       "157                    OPPO F21 Pro 5G  ₹25,969    82.0   \n",
       "873                 BlackZone Ultra 4G   ₹1,899     NaN   \n",
       "142                     Poco M4 Pro 5G  ₹12,999    76.0   \n",
       "519  Oppo Reno 8 Pro (8GB RAM + 256GB)  ₹42,990    85.0   \n",
       "\n",
       "                                                sim  \\\n",
       "740         Dual Sim, 3G, 4G, 5G, VoLTE, Wi-Fi, NFC   \n",
       "157              Dual Sim, 3G, 4G, 5G, VoLTE, Wi-Fi   \n",
       "873                         Dual Sim, 3G, 4G, VoLTE   \n",
       "142  Dual Sim, 3G, 4G, 5G, VoLTE, Wi-Fi, IR Blaster   \n",
       "519         Dual Sim, 3G, 4G, 5G, VoLTE, Wi-Fi, NFC   \n",
       "\n",
       "                                             processor  \\\n",
       "740       Snapdragon 870, Octa Core, 3.2 GHz Processor   \n",
       "157       Snapdragon 695, Octa Core, 2.2 GHz Processor   \n",
       "873                       Single Core, 1 GHz Processor   \n",
       "142    Dimensity  810 5G, Octa Core, 2.4 GHz Processor   \n",
       "519  Dimensity 8100-Max, Octa Core, 2.85 GHz Processor   \n",
       "\n",
       "                          ram                                  battery  \\\n",
       "740  8 GB RAM, 128 GB inbuilt  4500 mAh Battery with 65W Fast Charging   \n",
       "157  8 GB RAM, 128 GB inbuilt  4500 mAh Battery with 33W Fast Charging   \n",
       "873  48 MB RAM, 48 MB inbuilt                         2500 mAh Battery   \n",
       "142   4 GB RAM, 64 GB inbuilt  5000 mAh Battery with 33W Fast Charging   \n",
       "519  8 GB RAM, 256 GB inbuilt  4500 mAh Battery with 80W Fast Charging   \n",
       "\n",
       "                                               display  \\\n",
       "740  6.55 inches, 1080 x 2400 px, 90 Hz Display wit...   \n",
       "157  6.43 inches, 1080 x 2400 px Display with Punch...   \n",
       "873                   1.8 inches, 480 x 640 px Display   \n",
       "142  6.6 inches, 1080 x 2400 px, 90 Hz Display with...   \n",
       "519  6.7 inches, 1080 x 2412 px, 120 Hz Display wit...   \n",
       "\n",
       "                                                camera  \\\n",
       "740               50 MP Quad Rear & 32 MP Front Camera   \n",
       "157  64 MP + 2 MP + 2 MP Triple Rear & 16 MP Front ...   \n",
       "873                                   2 MP Rear Camera   \n",
       "142        50 MP + 8 MP Dual Rear & 16 MP Front Camera   \n",
       "519  50 MP + 8 MP + 2 MP Triple Rear & 32 MP Front ...   \n",
       "\n",
       "                                  card           os      brand  \n",
       "740                        Android v11  No FM Radio       OPPO  \n",
       "157   Memory Card Supported, upto 1 TB  Android v12       OPPO  \n",
       "873  Memory Card Supported, upto 48 GB    Bluetooth  BlackZone  \n",
       "142    Memory Card (Hybrid), upto 1 TB  Android v11       Poco  \n",
       "519                        Android v12  No FM Radio       Oppo  "
      ]
     },
     "execution_count": 11,
     "metadata": {},
     "output_type": "execute_result"
    }
   ],
   "source": [
    "df.sample(5)"
   ]
  },
  {
   "cell_type": "code",
   "execution_count": 12,
   "id": "d9401c69",
   "metadata": {},
   "outputs": [
    {
     "name": "stdout",
     "output_type": "stream",
     "text": [
      "56\n"
     ]
    },
    {
     "data": {
      "text/plain": [
       "array(['OnePlus', 'Samsung', 'Motorola', 'Realme', 'Apple', 'Xiaomi',\n",
       "       'Nothing', 'Oppo', 'Vivo', 'OPPO', 'Poco', 'iQOO', 'Jio', 'Gionee',\n",
       "       'Tecno', 'Tesla', 'Google', 'Infinix', 'Nokia', 'Cola', 'Letv',\n",
       "       'POCO', 'iKall', 'LeEco', 'Duoqin', 'Lava', 'Honor', 'Nubia',\n",
       "       'Redmi', 'Asus', 'itel', 'Royole', 'Sony', 'Oukitel', 'Vertu',\n",
       "       'BLU', 'Lyf', 'Itel', 'Huawei', 'ZTE', 'Lenovo', 'LG', 'Namotel',\n",
       "       'Eunity', 'Micromax', 'Zanco', 'Karbonn', 'Leitz', 'CAT', 'DIZO',\n",
       "       'BlackZone', 'Doogee', 'TCL', 'Sharp', 'Blackview', 'XTouch'],\n",
       "      dtype=object)"
      ]
     },
     "execution_count": 12,
     "metadata": {},
     "output_type": "execute_result"
    }
   ],
   "source": [
    "print(len(df.brand.unique()))\n",
    "df.brand.unique()"
   ]
  },
  {
   "cell_type": "code",
   "execution_count": 13,
   "id": "453cf5c3",
   "metadata": {},
   "outputs": [
    {
     "data": {
      "text/html": [
       "<div>\n",
       "<style scoped>\n",
       "    .dataframe tbody tr th:only-of-type {\n",
       "        vertical-align: middle;\n",
       "    }\n",
       "\n",
       "    .dataframe tbody tr th {\n",
       "        vertical-align: top;\n",
       "    }\n",
       "\n",
       "    .dataframe thead th {\n",
       "        text-align: right;\n",
       "    }\n",
       "</style>\n",
       "<table border=\"1\" class=\"dataframe\">\n",
       "  <thead>\n",
       "    <tr style=\"text-align: right;\">\n",
       "      <th></th>\n",
       "      <th>model</th>\n",
       "      <th>price</th>\n",
       "      <th>rating</th>\n",
       "      <th>sim</th>\n",
       "      <th>processor</th>\n",
       "      <th>ram</th>\n",
       "      <th>battery</th>\n",
       "      <th>display</th>\n",
       "      <th>camera</th>\n",
       "      <th>card</th>\n",
       "      <th>os</th>\n",
       "      <th>brand</th>\n",
       "    </tr>\n",
       "  </thead>\n",
       "  <tbody>\n",
       "    <tr>\n",
       "      <th>268</th>\n",
       "      <td>Redmi Note 11 Pro 2023</td>\n",
       "      <td>₹18,999</td>\n",
       "      <td>81.0</td>\n",
       "      <td>Dual Sim, 3G, 4G, VoLTE, Wi-Fi, IR Blaster</td>\n",
       "      <td>Snapdragon 712, Octa Core, 2.3 GHz Processor</td>\n",
       "      <td>6 GB RAM, 128 GB inbuilt</td>\n",
       "      <td>5000 mAh Battery with 67W Fast Charging</td>\n",
       "      <td>6.67 inches, 1080 x 2400 px, 120 Hz Display wi...</td>\n",
       "      <td>108 MP Quad Rear &amp; 16 MP Front Camera</td>\n",
       "      <td>Memory Card (Hybrid), upto 1 TB</td>\n",
       "      <td>Android v11</td>\n",
       "      <td>Redmi</td>\n",
       "    </tr>\n",
       "    <tr>\n",
       "      <th>419</th>\n",
       "      <td>Redmi Note 12 Pro Speed Edition</td>\n",
       "      <td>₹19,999</td>\n",
       "      <td>81.0</td>\n",
       "      <td>Dual Sim, 3G, 4G, 5G, VoLTE, Wi-Fi, NFC, IR Bl...</td>\n",
       "      <td>Snapdragon 778G, Octa Core, 2.4 GHz Processor</td>\n",
       "      <td>6 GB RAM, 128 GB inbuilt</td>\n",
       "      <td>5000 mAh Battery with 67W Fast Charging</td>\n",
       "      <td>6.67 inches, 1080 x 2400 px, 120 Hz Display wi...</td>\n",
       "      <td>108 MP + 8 MP + 2 MP Triple Rear &amp; 16 MP Front...</td>\n",
       "      <td>Memory Card Not Supported</td>\n",
       "      <td>Android v13</td>\n",
       "      <td>Redmi</td>\n",
       "    </tr>\n",
       "    <tr>\n",
       "      <th>455</th>\n",
       "      <td>Redmi 12C</td>\n",
       "      <td>₹7,999</td>\n",
       "      <td>70.0</td>\n",
       "      <td>Dual Sim, 3G, 4G, VoLTE, Wi-Fi</td>\n",
       "      <td>Helio  G85, Octa Core, 2 GHz Processor</td>\n",
       "      <td>4 GB RAM, 64 GB inbuilt</td>\n",
       "      <td>5000 mAh Battery</td>\n",
       "      <td>6.71 inches, 720 x 1650 px Display with Water ...</td>\n",
       "      <td>50 MP + Depth Sensor Dual Rear &amp; 5 MP Front Ca...</td>\n",
       "      <td>Memory Card Supported, upto 512 GB</td>\n",
       "      <td>Android v12</td>\n",
       "      <td>Redmi</td>\n",
       "    </tr>\n",
       "  </tbody>\n",
       "</table>\n",
       "</div>"
      ],
      "text/plain": [
       "                               model    price  rating  \\\n",
       "268           Redmi Note 11 Pro 2023  ₹18,999    81.0   \n",
       "419  Redmi Note 12 Pro Speed Edition  ₹19,999    81.0   \n",
       "455                        Redmi 12C   ₹7,999    70.0   \n",
       "\n",
       "                                                   sim  \\\n",
       "268         Dual Sim, 3G, 4G, VoLTE, Wi-Fi, IR Blaster   \n",
       "419  Dual Sim, 3G, 4G, 5G, VoLTE, Wi-Fi, NFC, IR Bl...   \n",
       "455                     Dual Sim, 3G, 4G, VoLTE, Wi-Fi   \n",
       "\n",
       "                                         processor                       ram  \\\n",
       "268   Snapdragon 712, Octa Core, 2.3 GHz Processor  6 GB RAM, 128 GB inbuilt   \n",
       "419  Snapdragon 778G, Octa Core, 2.4 GHz Processor  6 GB RAM, 128 GB inbuilt   \n",
       "455         Helio  G85, Octa Core, 2 GHz Processor   4 GB RAM, 64 GB inbuilt   \n",
       "\n",
       "                                     battery  \\\n",
       "268  5000 mAh Battery with 67W Fast Charging   \n",
       "419  5000 mAh Battery with 67W Fast Charging   \n",
       "455                         5000 mAh Battery   \n",
       "\n",
       "                                               display  \\\n",
       "268  6.67 inches, 1080 x 2400 px, 120 Hz Display wi...   \n",
       "419  6.67 inches, 1080 x 2400 px, 120 Hz Display wi...   \n",
       "455  6.71 inches, 720 x 1650 px Display with Water ...   \n",
       "\n",
       "                                                camera  \\\n",
       "268              108 MP Quad Rear & 16 MP Front Camera   \n",
       "419  108 MP + 8 MP + 2 MP Triple Rear & 16 MP Front...   \n",
       "455  50 MP + Depth Sensor Dual Rear & 5 MP Front Ca...   \n",
       "\n",
       "                                   card           os  brand  \n",
       "268     Memory Card (Hybrid), upto 1 TB  Android v11  Redmi  \n",
       "419           Memory Card Not Supported  Android v13  Redmi  \n",
       "455  Memory Card Supported, upto 512 GB  Android v12  Redmi  "
      ]
     },
     "execution_count": 13,
     "metadata": {},
     "output_type": "execute_result"
    }
   ],
   "source": [
    "# 'Redmi' and 'Xiaomi' sort of refer to same brand\n",
    "df[df['brand']=='Redmi']"
   ]
  },
  {
   "cell_type": "code",
   "execution_count": 14,
   "id": "4a84492d",
   "metadata": {},
   "outputs": [],
   "source": [
    "# fixing 'Poco' and 'Oppo'\n",
    "df['brand'] = df.brand.str.replace('Poco','POCO').str.replace('Oppo','OPPO').str.replace('Redmi','Xiaomi')"
   ]
  },
  {
   "cell_type": "code",
   "execution_count": 15,
   "id": "55da04f6",
   "metadata": {},
   "outputs": [
    {
     "name": "stdout",
     "output_type": "stream",
     "text": [
      "53\n"
     ]
    },
    {
     "data": {
      "text/plain": [
       "array(['OnePlus', 'Samsung', 'Motorola', 'Realme', 'Apple', 'Xiaomi',\n",
       "       'Nothing', 'OPPO', 'Vivo', 'POCO', 'iQOO', 'Jio', 'Gionee',\n",
       "       'Tecno', 'Tesla', 'Google', 'Infinix', 'Nokia', 'Cola', 'Letv',\n",
       "       'iKall', 'LeEco', 'Duoqin', 'Lava', 'Honor', 'Nubia', 'Asus',\n",
       "       'itel', 'Royole', 'Sony', 'Oukitel', 'Vertu', 'BLU', 'Lyf', 'Itel',\n",
       "       'Huawei', 'ZTE', 'Lenovo', 'LG', 'Namotel', 'Eunity', 'Micromax',\n",
       "       'Zanco', 'Karbonn', 'Leitz', 'CAT', 'DIZO', 'BlackZone', 'Doogee',\n",
       "       'TCL', 'Sharp', 'Blackview', 'XTouch'], dtype=object)"
      ]
     },
     "execution_count": 15,
     "metadata": {},
     "output_type": "execute_result"
    }
   ],
   "source": [
    "# again\n",
    "print(len(df.brand.unique()))\n",
    "df.brand.unique()"
   ]
  },
  {
   "cell_type": "code",
   "execution_count": 16,
   "id": "bc8e3dfa",
   "metadata": {},
   "outputs": [
    {
     "name": "stdout",
     "output_type": "stream",
     "text": [
      "brand\n",
      "Xiaomi       138\n",
      "Samsung      135\n",
      "Vivo         111\n",
      "Realme        97\n",
      "OPPO          88\n",
      "Motorola      53\n",
      "Apple         47\n",
      "OnePlus       42\n",
      "POCO          41\n",
      "Tecno         33\n",
      "iQOO          32\n",
      "Nokia         30\n",
      "Infinix       29\n",
      "Huawei        16\n",
      "Google        14\n",
      "Honor         13\n",
      "itel          11\n",
      "Sony           9\n",
      "Asus           7\n",
      "Nubia          6\n",
      "Jio            5\n",
      "Nothing        5\n",
      "Lava           4\n",
      "LG             4\n",
      "iKall          4\n",
      "Letv           3\n",
      "Itel           3\n",
      "Micromax       3\n",
      "Eunity         3\n",
      "Gionee         3\n",
      "Oukitel        3\n",
      "Lyf            3\n",
      "Doogee         2\n",
      "Lenovo         2\n",
      "ZTE            2\n",
      "Royole         2\n",
      "BLU            1\n",
      "CAT            1\n",
      "Blackview      1\n",
      "Sharp          1\n",
      "TCL            1\n",
      "LeEco          1\n",
      "BlackZone      1\n",
      "DIZO           1\n",
      "Leitz          1\n",
      "Vertu          1\n",
      "Karbonn        1\n",
      "Zanco          1\n",
      "Duoqin         1\n",
      "Cola           1\n",
      "Namotel        1\n",
      "Tesla          1\n",
      "XTouch         1\n",
      "Name: count, dtype: int64\n"
     ]
    },
    {
     "data": {
      "text/plain": [
       "<Axes: xlabel='brand'>"
      ]
     },
     "execution_count": 16,
     "metadata": {},
     "output_type": "execute_result"
    },
    {
     "data": {
      "image/png": "[encoded data removed]",
      "text/plain": [
       "<Figure size 1200x400 with 1 Axes>"
      ]
     },
     "metadata": {},
     "output_type": "display_data"
    }
   ],
   "source": [
    "plt.figure(figsize=(12,4))\n",
    "print(df['brand'].value_counts())\n",
    "df['brand'].value_counts().plot(kind='bar')"
   ]
  },
  {
   "cell_type": "markdown",
   "id": "dd8d414d",
   "metadata": {},
   "source": [
    "##### Note : After analyzing the price column we can categorize some brands as OTHERS"
   ]
  },
  {
   "cell_type": "markdown",
   "id": "2db04d5e",
   "metadata": {},
   "source": [
    "### 2. Price :"
   ]
  },
  {
   "cell_type": "code",
   "execution_count": 17,
   "id": "2565a2cf",
   "metadata": {},
   "outputs": [
    {
     "data": {
      "text/html": [
       "<div>\n",
       "<style scoped>\n",
       "    .dataframe tbody tr th:only-of-type {\n",
       "        vertical-align: middle;\n",
       "    }\n",
       "\n",
       "    .dataframe tbody tr th {\n",
       "        vertical-align: top;\n",
       "    }\n",
       "\n",
       "    .dataframe thead th {\n",
       "        text-align: right;\n",
       "    }\n",
       "</style>\n",
       "<table border=\"1\" class=\"dataframe\">\n",
       "  <thead>\n",
       "    <tr style=\"text-align: right;\">\n",
       "      <th></th>\n",
       "      <th>model</th>\n",
       "      <th>price</th>\n",
       "      <th>rating</th>\n",
       "      <th>sim</th>\n",
       "      <th>processor</th>\n",
       "      <th>ram</th>\n",
       "      <th>battery</th>\n",
       "      <th>display</th>\n",
       "      <th>camera</th>\n",
       "      <th>card</th>\n",
       "      <th>os</th>\n",
       "      <th>brand</th>\n",
       "    </tr>\n",
       "  </thead>\n",
       "  <tbody>\n",
       "    <tr>\n",
       "      <th>0</th>\n",
       "      <td>OnePlus 11 5G</td>\n",
       "      <td>₹54,999</td>\n",
       "      <td>89.0</td>\n",
       "      <td>Dual Sim, 3G, 4G, 5G, VoLTE, Wi-Fi, NFC</td>\n",
       "      <td>Snapdragon 8 Gen2, Octa Core, 3.2 GHz Processor</td>\n",
       "      <td>12 GB RAM, 256 GB inbuilt</td>\n",
       "      <td>5000 mAh Battery with 100W Fast Charging</td>\n",
       "      <td>6.7 inches, 1440 x 3216 px, 120 Hz Display wit...</td>\n",
       "      <td>50 MP + 48 MP + 32 MP Triple Rear &amp; 16 MP Fron...</td>\n",
       "      <td>Memory Card Not Supported</td>\n",
       "      <td>Android v13</td>\n",
       "      <td>OnePlus</td>\n",
       "    </tr>\n",
       "    <tr>\n",
       "      <th>1</th>\n",
       "      <td>OnePlus Nord CE 2 Lite 5G</td>\n",
       "      <td>₹19,989</td>\n",
       "      <td>81.0</td>\n",
       "      <td>Dual Sim, 3G, 4G, 5G, VoLTE, Wi-Fi</td>\n",
       "      <td>Snapdragon 695, Octa Core, 2.2 GHz Processor</td>\n",
       "      <td>6 GB RAM, 128 GB inbuilt</td>\n",
       "      <td>5000 mAh Battery with 33W Fast Charging</td>\n",
       "      <td>6.59 inches, 1080 x 2412 px, 120 Hz Display wi...</td>\n",
       "      <td>64 MP + 2 MP + 2 MP Triple Rear &amp; 16 MP Front ...</td>\n",
       "      <td>Memory Card (Hybrid), upto 1 TB</td>\n",
       "      <td>Android v12</td>\n",
       "      <td>OnePlus</td>\n",
       "    </tr>\n",
       "    <tr>\n",
       "      <th>2</th>\n",
       "      <td>Samsung Galaxy A14 5G</td>\n",
       "      <td>₹16,499</td>\n",
       "      <td>75.0</td>\n",
       "      <td>Dual Sim, 3G, 4G, 5G, VoLTE, Wi-Fi</td>\n",
       "      <td>Exynos 1330, Octa Core, 2.4 GHz Processor</td>\n",
       "      <td>4 GB RAM, 64 GB inbuilt</td>\n",
       "      <td>5000 mAh Battery with 15W Fast Charging</td>\n",
       "      <td>6.6 inches, 1080 x 2408 px, 90 Hz Display with...</td>\n",
       "      <td>50 MP + 2 MP + 2 MP Triple Rear &amp; 13 MP Front ...</td>\n",
       "      <td>Memory Card Supported, upto 1 TB</td>\n",
       "      <td>Android v13</td>\n",
       "      <td>Samsung</td>\n",
       "    </tr>\n",
       "    <tr>\n",
       "      <th>3</th>\n",
       "      <td>Motorola Moto G62 5G</td>\n",
       "      <td>₹14,999</td>\n",
       "      <td>81.0</td>\n",
       "      <td>Dual Sim, 3G, 4G, 5G, VoLTE, Wi-Fi</td>\n",
       "      <td>Snapdragon  695, Octa Core, 2.2 GHz Processor</td>\n",
       "      <td>6 GB RAM, 128 GB inbuilt</td>\n",
       "      <td>5000 mAh Battery with Fast Charging</td>\n",
       "      <td>6.55 inches, 1080 x 2400 px, 120 Hz Display wi...</td>\n",
       "      <td>50 MP + 8 MP + 2 MP Triple Rear &amp; 16 MP Front ...</td>\n",
       "      <td>Memory Card (Hybrid), upto 1 TB</td>\n",
       "      <td>Android v12</td>\n",
       "      <td>Motorola</td>\n",
       "    </tr>\n",
       "    <tr>\n",
       "      <th>4</th>\n",
       "      <td>Realme 10 Pro Plus</td>\n",
       "      <td>₹24,999</td>\n",
       "      <td>82.0</td>\n",
       "      <td>Dual Sim, 3G, 4G, 5G, VoLTE, Wi-Fi</td>\n",
       "      <td>Dimensity 1080, Octa Core, 2.6 GHz Processor</td>\n",
       "      <td>6 GB RAM, 128 GB inbuilt</td>\n",
       "      <td>5000 mAh Battery with 67W Fast Charging</td>\n",
       "      <td>6.7 inches, 1080 x 2412 px, 120 Hz Display wit...</td>\n",
       "      <td>108 MP + 8 MP + 2 MP Triple Rear &amp; 16 MP Front...</td>\n",
       "      <td>Memory Card Not Supported</td>\n",
       "      <td>Android v13</td>\n",
       "      <td>Realme</td>\n",
       "    </tr>\n",
       "  </tbody>\n",
       "</table>\n",
       "</div>"
      ],
      "text/plain": [
       "                       model    price  rating  \\\n",
       "0              OnePlus 11 5G  ₹54,999    89.0   \n",
       "1  OnePlus Nord CE 2 Lite 5G  ₹19,989    81.0   \n",
       "2      Samsung Galaxy A14 5G  ₹16,499    75.0   \n",
       "3       Motorola Moto G62 5G  ₹14,999    81.0   \n",
       "4         Realme 10 Pro Plus  ₹24,999    82.0   \n",
       "\n",
       "                                       sim  \\\n",
       "0  Dual Sim, 3G, 4G, 5G, VoLTE, Wi-Fi, NFC   \n",
       "1       Dual Sim, 3G, 4G, 5G, VoLTE, Wi-Fi   \n",
       "2       Dual Sim, 3G, 4G, 5G, VoLTE, Wi-Fi   \n",
       "3       Dual Sim, 3G, 4G, 5G, VoLTE, Wi-Fi   \n",
       "4       Dual Sim, 3G, 4G, 5G, VoLTE, Wi-Fi   \n",
       "\n",
       "                                         processor                        ram  \\\n",
       "0  Snapdragon 8 Gen2, Octa Core, 3.2 GHz Processor  12 GB RAM, 256 GB inbuilt   \n",
       "1     Snapdragon 695, Octa Core, 2.2 GHz Processor   6 GB RAM, 128 GB inbuilt   \n",
       "2        Exynos 1330, Octa Core, 2.4 GHz Processor    4 GB RAM, 64 GB inbuilt   \n",
       "3    Snapdragon  695, Octa Core, 2.2 GHz Processor   6 GB RAM, 128 GB inbuilt   \n",
       "4     Dimensity 1080, Octa Core, 2.6 GHz Processor   6 GB RAM, 128 GB inbuilt   \n",
       "\n",
       "                                    battery  \\\n",
       "0  5000 mAh Battery with 100W Fast Charging   \n",
       "1   5000 mAh Battery with 33W Fast Charging   \n",
       "2   5000 mAh Battery with 15W Fast Charging   \n",
       "3       5000 mAh Battery with Fast Charging   \n",
       "4   5000 mAh Battery with 67W Fast Charging   \n",
       "\n",
       "                                             display  \\\n",
       "0  6.7 inches, 1440 x 3216 px, 120 Hz Display wit...   \n",
       "1  6.59 inches, 1080 x 2412 px, 120 Hz Display wi...   \n",
       "2  6.6 inches, 1080 x 2408 px, 90 Hz Display with...   \n",
       "3  6.55 inches, 1080 x 2400 px, 120 Hz Display wi...   \n",
       "4  6.7 inches, 1080 x 2412 px, 120 Hz Display wit...   \n",
       "\n",
       "                                              camera  \\\n",
       "0  50 MP + 48 MP + 32 MP Triple Rear & 16 MP Fron...   \n",
       "1  64 MP + 2 MP + 2 MP Triple Rear & 16 MP Front ...   \n",
       "2  50 MP + 2 MP + 2 MP Triple Rear & 13 MP Front ...   \n",
       "3  50 MP + 8 MP + 2 MP Triple Rear & 16 MP Front ...   \n",
       "4  108 MP + 8 MP + 2 MP Triple Rear & 16 MP Front...   \n",
       "\n",
       "                               card           os     brand  \n",
       "0         Memory Card Not Supported  Android v13   OnePlus  \n",
       "1   Memory Card (Hybrid), upto 1 TB  Android v12   OnePlus  \n",
       "2  Memory Card Supported, upto 1 TB  Android v13   Samsung  \n",
       "3   Memory Card (Hybrid), upto 1 TB  Android v12  Motorola  \n",
       "4         Memory Card Not Supported  Android v13    Realme  "
      ]
     },
     "execution_count": 17,
     "metadata": {},
     "output_type": "execute_result"
    }
   ],
   "source": [
    "df.head()"
   ]
  },
  {
   "cell_type": "code",
   "execution_count": 18,
   "id": "d879ed3a",
   "metadata": {},
   "outputs": [],
   "source": [
    "df['price'] = df.price.str.replace('₹','').str.replace(',','').astype(np.int64)"
   ]
  },
  {
   "cell_type": "code",
   "execution_count": 19,
   "id": "9658539b",
   "metadata": {},
   "outputs": [
    {
     "name": "stdout",
     "output_type": "stream",
     "text": [
      "<class 'pandas.core.frame.DataFrame'>\n",
      "RangeIndex: 1020 entries, 0 to 1019\n",
      "Data columns (total 12 columns):\n",
      " #   Column     Non-Null Count  Dtype  \n",
      "---  ------     --------------  -----  \n",
      " 0   model      1020 non-null   object \n",
      " 1   price      1020 non-null   int64  \n",
      " 2   rating     879 non-null    float64\n",
      " 3   sim        1020 non-null   object \n",
      " 4   processor  1020 non-null   object \n",
      " 5   ram        1020 non-null   object \n",
      " 6   battery    1020 non-null   object \n",
      " 7   display    1020 non-null   object \n",
      " 8   camera     1019 non-null   object \n",
      " 9   card       1013 non-null   object \n",
      " 10  os         1003 non-null   object \n",
      " 11  brand      1020 non-null   object \n",
      "dtypes: float64(1), int64(1), object(10)\n",
      "memory usage: 95.8+ KB\n"
     ]
    }
   ],
   "source": [
    "df.info()"
   ]
  },
  {
   "cell_type": "code",
   "execution_count": 20,
   "id": "a928738f",
   "metadata": {
    "scrolled": false
   },
   "outputs": [
    {
     "data": {
      "image/png": "[encoded data removed]",
      "text/plain": [
       "<Figure size 1200x400 with 1 Axes>"
      ]
     },
     "metadata": {},
     "output_type": "display_data"
    }
   ],
   "source": [
    "plt.figure(figsize=(12,4))\n",
    "plt.bar(x=df['brand'],height=df['price'])\n",
    "plt.xticks(rotation='vertical')\n",
    "plt.show()"
   ]
  },
  {
   "cell_type": "code",
   "execution_count": 21,
   "id": "8f95a5ff",
   "metadata": {},
   "outputs": [
    {
     "data": {
      "image/png": "[encoded data removed]",
      "text/plain": [
       "<Figure size 1200x400 with 2 Axes>"
      ]
     },
     "metadata": {},
     "output_type": "display_data"
    }
   ],
   "source": [
    "# distribution of price \n",
    "plt.figure(figsize=(12,4))\n",
    "\n",
    "plt.subplot(121)\n",
    "sns.kdeplot(x=df['price'])\n",
    "\n",
    "plt.subplot(122)\n",
    "sns.boxplot(y=df['price'])\n",
    "\n",
    "plt.tight_layout()"
   ]
  },
  {
   "cell_type": "code",
   "execution_count": 22,
   "id": "d12b562b",
   "metadata": {
    "scrolled": false
   },
   "outputs": [
    {
     "data": {
      "text/plain": [
       "count      1020.000000\n",
       "mean      31371.767647\n",
       "std       39168.942590\n",
       "min          99.000000\n",
       "25%       12464.250000\n",
       "50%       19815.000000\n",
       "75%       34999.000000\n",
       "max      650000.000000\n",
       "Name: price, dtype: float64"
      ]
     },
     "execution_count": 22,
     "metadata": {},
     "output_type": "execute_result"
    }
   ],
   "source": [
    "df['price'].describe()"
   ]
  },
  {
   "cell_type": "markdown",
   "id": "ae0c1f07",
   "metadata": {},
   "source": [
    "### 3. Sim :"
   ]
  },
  {
   "cell_type": "code",
   "execution_count": 23,
   "id": "0fce56c2",
   "metadata": {},
   "outputs": [],
   "source": [
    "# temp_1 variable for determining the possible values in the column \n",
    "temp_1 = df.sim.str.replace(' ','').str.split(',',expand=True)"
   ]
  },
  {
   "cell_type": "code",
   "execution_count": 24,
   "id": "a084dec7",
   "metadata": {},
   "outputs": [
    {
     "name": "stdout",
     "output_type": "stream",
     "text": [
      "['DualSim' 'SingleSim' 'Wi-Fi']\n",
      "0\n",
      "DualSim      998\n",
      "SingleSim     21\n",
      "Wi-Fi          1\n",
      "Name: count, dtype: int64\n",
      "['3G' None 'Wi-Fi' '4G']\n",
      "1\n",
      "3G       1000\n",
      "Wi-Fi       1\n",
      "4G          1\n",
      "Name: count, dtype: int64\n",
      "['4G' None 'Wi-Fi' 'VoLTE']\n",
      "2\n",
      "4G       998\n",
      "Wi-Fi      2\n",
      "VoLTE      1\n",
      "Name: count, dtype: int64\n",
      "['5G' 'VoLTE' 'Wi-Fi' None]\n",
      "3\n",
      "5G       549\n",
      "VoLTE    433\n",
      "Wi-Fi     14\n",
      "Name: count, dtype: int64\n",
      "['VoLTE' 'Wi-Fi' None 'NFC']\n",
      "4\n",
      "VoLTE    549\n",
      "Wi-Fi    428\n",
      "NFC        3\n",
      "Name: count, dtype: int64\n",
      "['Wi-Fi' 'Vo5G' None 'NFC' 'IRBlaster']\n",
      "5\n",
      "Wi-Fi        537\n",
      "NFC           55\n",
      "IRBlaster     46\n",
      "Vo5G          12\n",
      "Name: count, dtype: int64\n",
      "['NFC' None 'IRBlaster' 'Wi-Fi']\n",
      "6\n",
      "NFC          327\n",
      "IRBlaster     59\n",
      "Wi-Fi         12\n",
      "Name: count, dtype: int64\n",
      "[None 'NFC' 'IRBlaster']\n",
      "7\n",
      "IRBlaster    53\n",
      "NFC           8\n",
      "Name: count, dtype: int64\n",
      "[None 'IRBlaster']\n",
      "8\n",
      "IRBlaster    1\n",
      "Name: count, dtype: int64\n"
     ]
    }
   ],
   "source": [
    "for i in range(9):\n",
    "    print(temp_1[i].unique())\n",
    "    print(temp_1[i].value_counts())"
   ]
  },
  {
   "cell_type": "code",
   "execution_count": 25,
   "id": "f0fe5103",
   "metadata": {
    "scrolled": false
   },
   "outputs": [],
   "source": [
    "# temp_2 for extracting the req. data from the column\n",
    "temp_2 = df.sim.str.replace(' ','')"
   ]
  },
  {
   "cell_type": "code",
   "execution_count": 26,
   "id": "e2c11a47",
   "metadata": {
    "scrolled": false
   },
   "outputs": [],
   "source": [
    "# req. features from the 'Sim' column\n",
    "df['DualSim'] = [1 if 'DualSim' in word else 0 for word in temp_2] \n",
    "df['Volte'] = [1 if 'VoLTE' in word else 0 for word in temp_2]\n",
    "df['is_5G'] = [1 if '5G' in word else 0 for word in temp_2]\n",
    "df['is_Vo5G'] = [1 if 'Vo5G' in word else 0 for word in temp_2]\n",
    "df['wifi'] = [1 if 'Wi-Fi' in word else 0 for word in temp_2]\n",
    "df['ngc'] = [1 if 'NFC' in word else 0 for word in temp_2]\n",
    "df['irblaster'] = [1 if 'IRBlaster' in word else 0 for word in temp_2]"
   ]
  },
  {
   "cell_type": "markdown",
   "id": "c2c8db41",
   "metadata": {},
   "source": [
    "### 4. Processor :"
   ]
  },
  {
   "cell_type": "code",
   "execution_count": 27,
   "id": "016690c8",
   "metadata": {},
   "outputs": [
    {
     "data": {
      "text/html": [
       "<div>\n",
       "<style scoped>\n",
       "    .dataframe tbody tr th:only-of-type {\n",
       "        vertical-align: middle;\n",
       "    }\n",
       "\n",
       "    .dataframe tbody tr th {\n",
       "        vertical-align: top;\n",
       "    }\n",
       "\n",
       "    .dataframe thead th {\n",
       "        text-align: right;\n",
       "    }\n",
       "</style>\n",
       "<table border=\"1\" class=\"dataframe\">\n",
       "  <thead>\n",
       "    <tr style=\"text-align: right;\">\n",
       "      <th></th>\n",
       "      <th>model</th>\n",
       "      <th>price</th>\n",
       "      <th>rating</th>\n",
       "      <th>sim</th>\n",
       "      <th>processor</th>\n",
       "      <th>ram</th>\n",
       "      <th>battery</th>\n",
       "      <th>display</th>\n",
       "      <th>camera</th>\n",
       "      <th>card</th>\n",
       "      <th>os</th>\n",
       "      <th>brand</th>\n",
       "      <th>DualSim</th>\n",
       "      <th>Volte</th>\n",
       "      <th>is_5G</th>\n",
       "      <th>is_Vo5G</th>\n",
       "      <th>wifi</th>\n",
       "      <th>ngc</th>\n",
       "      <th>irblaster</th>\n",
       "    </tr>\n",
       "  </thead>\n",
       "  <tbody>\n",
       "    <tr>\n",
       "      <th>0</th>\n",
       "      <td>OnePlus 11 5G</td>\n",
       "      <td>54999</td>\n",
       "      <td>89.0</td>\n",
       "      <td>Dual Sim, 3G, 4G, 5G, VoLTE, Wi-Fi, NFC</td>\n",
       "      <td>Snapdragon 8 Gen2, Octa Core, 3.2 GHz Processor</td>\n",
       "      <td>12 GB RAM, 256 GB inbuilt</td>\n",
       "      <td>5000 mAh Battery with 100W Fast Charging</td>\n",
       "      <td>6.7 inches, 1440 x 3216 px, 120 Hz Display wit...</td>\n",
       "      <td>50 MP + 48 MP + 32 MP Triple Rear &amp; 16 MP Fron...</td>\n",
       "      <td>Memory Card Not Supported</td>\n",
       "      <td>Android v13</td>\n",
       "      <td>OnePlus</td>\n",
       "      <td>1</td>\n",
       "      <td>1</td>\n",
       "      <td>1</td>\n",
       "      <td>0</td>\n",
       "      <td>1</td>\n",
       "      <td>1</td>\n",
       "      <td>0</td>\n",
       "    </tr>\n",
       "    <tr>\n",
       "      <th>1</th>\n",
       "      <td>OnePlus Nord CE 2 Lite 5G</td>\n",
       "      <td>19989</td>\n",
       "      <td>81.0</td>\n",
       "      <td>Dual Sim, 3G, 4G, 5G, VoLTE, Wi-Fi</td>\n",
       "      <td>Snapdragon 695, Octa Core, 2.2 GHz Processor</td>\n",
       "      <td>6 GB RAM, 128 GB inbuilt</td>\n",
       "      <td>5000 mAh Battery with 33W Fast Charging</td>\n",
       "      <td>6.59 inches, 1080 x 2412 px, 120 Hz Display wi...</td>\n",
       "      <td>64 MP + 2 MP + 2 MP Triple Rear &amp; 16 MP Front ...</td>\n",
       "      <td>Memory Card (Hybrid), upto 1 TB</td>\n",
       "      <td>Android v12</td>\n",
       "      <td>OnePlus</td>\n",
       "      <td>1</td>\n",
       "      <td>1</td>\n",
       "      <td>1</td>\n",
       "      <td>0</td>\n",
       "      <td>1</td>\n",
       "      <td>0</td>\n",
       "      <td>0</td>\n",
       "    </tr>\n",
       "  </tbody>\n",
       "</table>\n",
       "</div>"
      ],
      "text/plain": [
       "                       model  price  rating  \\\n",
       "0              OnePlus 11 5G  54999    89.0   \n",
       "1  OnePlus Nord CE 2 Lite 5G  19989    81.0   \n",
       "\n",
       "                                       sim  \\\n",
       "0  Dual Sim, 3G, 4G, 5G, VoLTE, Wi-Fi, NFC   \n",
       "1       Dual Sim, 3G, 4G, 5G, VoLTE, Wi-Fi   \n",
       "\n",
       "                                         processor                        ram  \\\n",
       "0  Snapdragon 8 Gen2, Octa Core, 3.2 GHz Processor  12 GB RAM, 256 GB inbuilt   \n",
       "1     Snapdragon 695, Octa Core, 2.2 GHz Processor   6 GB RAM, 128 GB inbuilt   \n",
       "\n",
       "                                    battery  \\\n",
       "0  5000 mAh Battery with 100W Fast Charging   \n",
       "1   5000 mAh Battery with 33W Fast Charging   \n",
       "\n",
       "                                             display  \\\n",
       "0  6.7 inches, 1440 x 3216 px, 120 Hz Display wit...   \n",
       "1  6.59 inches, 1080 x 2412 px, 120 Hz Display wi...   \n",
       "\n",
       "                                              camera  \\\n",
       "0  50 MP + 48 MP + 32 MP Triple Rear & 16 MP Fron...   \n",
       "1  64 MP + 2 MP + 2 MP Triple Rear & 16 MP Front ...   \n",
       "\n",
       "                              card           os    brand  DualSim  Volte  \\\n",
       "0        Memory Card Not Supported  Android v13  OnePlus        1      1   \n",
       "1  Memory Card (Hybrid), upto 1 TB  Android v12  OnePlus        1      1   \n",
       "\n",
       "   is_5G  is_Vo5G  wifi  ngc  irblaster  \n",
       "0      1        0     1    1          0  \n",
       "1      1        0     1    0          0  "
      ]
     },
     "execution_count": 27,
     "metadata": {},
     "output_type": "execute_result"
    }
   ],
   "source": [
    "df.head(2)"
   ]
  },
  {
   "cell_type": "markdown",
   "id": "67ee4947",
   "metadata": {},
   "source": [
    "##### A. Processor_name"
   ]
  },
  {
   "cell_type": "code",
   "execution_count": 28,
   "id": "bf00cd08",
   "metadata": {},
   "outputs": [],
   "source": [
    "# processor name \n",
    "temp_3 = df.processor.str.split(',',expand=True)"
   ]
  },
  {
   "cell_type": "code",
   "execution_count": 29,
   "id": "5ed92b23",
   "metadata": {},
   "outputs": [],
   "source": [
    "# function for replacing more than one elements\n",
    "def series_replace(series,old,new):\n",
    "    n=len(old)\n",
    "    for i in range(n):\n",
    "        series = series.str.replace(old[i],new[i])\n",
    "    \n",
    "    return series"
   ]
  },
  {
   "cell_type": "code",
   "execution_count": 37,
   "id": "4f4e8bfe",
   "metadata": {
    "scrolled": false
   },
   "outputs": [],
   "source": [
    "# replacing similar processors\n",
    "old=['A13','Apple','SC9863A','Spreadtrum','Sanpdragon','SC6531E','Samsung','Qualcomm']\n",
    "new=['Bionic','Bionic','Unisoc','Unisoc','Snapdragon','Unisoc','Exynos','Snapdragon']\n",
    "df['processor_name'] = series_replace(temp_3[0].str.split(expand=True)[0],old,new)"
   ]
  },
  {
   "cell_type": "code",
   "execution_count": 39,
   "id": "44ad7590",
   "metadata": {
    "scrolled": true
   },
   "outputs": [
    {
     "data": {
      "text/html": [
       "<div>\n",
       "<style scoped>\n",
       "    .dataframe tbody tr th:only-of-type {\n",
       "        vertical-align: middle;\n",
       "    }\n",
       "\n",
       "    .dataframe tbody tr th {\n",
       "        vertical-align: top;\n",
       "    }\n",
       "\n",
       "    .dataframe thead th {\n",
       "        text-align: right;\n",
       "    }\n",
       "</style>\n",
       "<table border=\"1\" class=\"dataframe\">\n",
       "  <thead>\n",
       "    <tr style=\"text-align: right;\">\n",
       "      <th></th>\n",
       "      <th>model</th>\n",
       "      <th>price</th>\n",
       "      <th>rating</th>\n",
       "      <th>sim</th>\n",
       "      <th>processor</th>\n",
       "      <th>ram</th>\n",
       "      <th>battery</th>\n",
       "      <th>display</th>\n",
       "      <th>camera</th>\n",
       "      <th>card</th>\n",
       "      <th>os</th>\n",
       "      <th>brand</th>\n",
       "      <th>DualSim</th>\n",
       "      <th>Volte</th>\n",
       "      <th>is_5G</th>\n",
       "      <th>is_Vo5G</th>\n",
       "      <th>wifi</th>\n",
       "      <th>ngc</th>\n",
       "      <th>irblaster</th>\n",
       "      <th>processor_name</th>\n",
       "    </tr>\n",
       "  </thead>\n",
       "  <tbody>\n",
       "    <tr>\n",
       "      <th>0</th>\n",
       "      <td>OnePlus 11 5G</td>\n",
       "      <td>54999</td>\n",
       "      <td>89.0</td>\n",
       "      <td>Dual Sim, 3G, 4G, 5G, VoLTE, Wi-Fi, NFC</td>\n",
       "      <td>Snapdragon 8 Gen2, Octa Core, 3.2 GHz Processor</td>\n",
       "      <td>12 GB RAM, 256 GB inbuilt</td>\n",
       "      <td>5000 mAh Battery with 100W Fast Charging</td>\n",
       "      <td>6.7 inches, 1440 x 3216 px, 120 Hz Display wit...</td>\n",
       "      <td>50 MP + 48 MP + 32 MP Triple Rear &amp; 16 MP Fron...</td>\n",
       "      <td>Memory Card Not Supported</td>\n",
       "      <td>Android v13</td>\n",
       "      <td>OnePlus</td>\n",
       "      <td>1</td>\n",
       "      <td>1</td>\n",
       "      <td>1</td>\n",
       "      <td>0</td>\n",
       "      <td>1</td>\n",
       "      <td>1</td>\n",
       "      <td>0</td>\n",
       "      <td>Snapdragon</td>\n",
       "    </tr>\n",
       "    <tr>\n",
       "      <th>1</th>\n",
       "      <td>OnePlus Nord CE 2 Lite 5G</td>\n",
       "      <td>19989</td>\n",
       "      <td>81.0</td>\n",
       "      <td>Dual Sim, 3G, 4G, 5G, VoLTE, Wi-Fi</td>\n",
       "      <td>Snapdragon 695, Octa Core, 2.2 GHz Processor</td>\n",
       "      <td>6 GB RAM, 128 GB inbuilt</td>\n",
       "      <td>5000 mAh Battery with 33W Fast Charging</td>\n",
       "      <td>6.59 inches, 1080 x 2412 px, 120 Hz Display wi...</td>\n",
       "      <td>64 MP + 2 MP + 2 MP Triple Rear &amp; 16 MP Front ...</td>\n",
       "      <td>Memory Card (Hybrid), upto 1 TB</td>\n",
       "      <td>Android v12</td>\n",
       "      <td>OnePlus</td>\n",
       "      <td>1</td>\n",
       "      <td>1</td>\n",
       "      <td>1</td>\n",
       "      <td>0</td>\n",
       "      <td>1</td>\n",
       "      <td>0</td>\n",
       "      <td>0</td>\n",
       "      <td>Snapdragon</td>\n",
       "    </tr>\n",
       "  </tbody>\n",
       "</table>\n",
       "</div>"
      ],
      "text/plain": [
       "                       model  price  rating  \\\n",
       "0              OnePlus 11 5G  54999    89.0   \n",
       "1  OnePlus Nord CE 2 Lite 5G  19989    81.0   \n",
       "\n",
       "                                       sim  \\\n",
       "0  Dual Sim, 3G, 4G, 5G, VoLTE, Wi-Fi, NFC   \n",
       "1       Dual Sim, 3G, 4G, 5G, VoLTE, Wi-Fi   \n",
       "\n",
       "                                         processor                        ram  \\\n",
       "0  Snapdragon 8 Gen2, Octa Core, 3.2 GHz Processor  12 GB RAM, 256 GB inbuilt   \n",
       "1     Snapdragon 695, Octa Core, 2.2 GHz Processor   6 GB RAM, 128 GB inbuilt   \n",
       "\n",
       "                                    battery  \\\n",
       "0  5000 mAh Battery with 100W Fast Charging   \n",
       "1   5000 mAh Battery with 33W Fast Charging   \n",
       "\n",
       "                                             display  \\\n",
       "0  6.7 inches, 1440 x 3216 px, 120 Hz Display wit...   \n",
       "1  6.59 inches, 1080 x 2412 px, 120 Hz Display wi...   \n",
       "\n",
       "                                              camera  \\\n",
       "0  50 MP + 48 MP + 32 MP Triple Rear & 16 MP Fron...   \n",
       "1  64 MP + 2 MP + 2 MP Triple Rear & 16 MP Front ...   \n",
       "\n",
       "                              card           os    brand  DualSim  Volte  \\\n",
       "0        Memory Card Not Supported  Android v13  OnePlus        1      1   \n",
       "1  Memory Card (Hybrid), upto 1 TB  Android v12  OnePlus        1      1   \n",
       "\n",
       "   is_5G  is_Vo5G  wifi  ngc  irblaster processor_name  \n",
       "0      1        0     1    1          0     Snapdragon  \n",
       "1      1        0     1    0          0     Snapdragon  "
      ]
     },
     "execution_count": 39,
     "metadata": {},
     "output_type": "execute_result"
    }
   ],
   "source": [
    "df.head(2)"
   ]
  },
  {
   "cell_type": "code",
   "execution_count": 59,
   "id": "bca32ecd",
   "metadata": {},
   "outputs": [],
   "source": [
    "# function for grouping some items of a pandas series\n",
    "def series_grouping(word):\n",
    "    if word in items:\n",
    "        return 'None'\n",
    "    else:\n",
    "        return word"
   ]
  },
  {
   "cell_type": "code",
   "execution_count": 63,
   "id": "abd1132e",
   "metadata": {},
   "outputs": [],
   "source": [
    "# replacing unneccessary items with 'None'\n",
    "items=['Octa','No','Dual','Quad','1','4','1450','32','800','2000','52','1.77','(28','Single','256','48','8']\n",
    "df['processor_name'] = df['processor_name'].apply(series_grouping)"
   ]
  },
  {
   "cell_type": "markdown",
   "id": "efd0961f",
   "metadata": {},
   "source": [
    "##### B. Cores in Processor"
   ]
  },
  {
   "cell_type": "code",
   "execution_count": 75,
   "id": "7b23f488",
   "metadata": {},
   "outputs": [],
   "source": [
    "# function for calculating number of cores in the processor\n",
    "def no_of_cores(word):\n",
    "    if 'Octa' in word:\n",
    "        return 8\n",
    "    elif 'Hexa' in word:\n",
    "        return 6\n",
    "    elif 'Quad' in word:\n",
    "        return 4\n",
    "    elif 'Dual' in word:\n",
    "        return 2\n",
    "    else:\n",
    "        return 'None'"
   ]
  },
  {
   "cell_type": "code",
   "execution_count": 85,
   "id": "785dcabd",
   "metadata": {},
   "outputs": [],
   "source": [
    "df['processor_cores'] = temp_3[1].fillna('None').apply(no_of_cores)"
   ]
  },
  {
   "cell_type": "markdown",
   "id": "a9091656",
   "metadata": {},
   "source": [
    "##### C. Processor_speed"
   ]
  },
  {
   "cell_type": "code",
   "execution_count": 94,
   "id": "51b85a26",
   "metadata": {},
   "outputs": [
    {
     "name": "stdout",
     "output_type": "stream",
     "text": [
      "[' 3.2\\u2009GHz Processor' ' 2.2\\u2009GHz Processor'\n",
      " ' 2.4\\u2009GHz Processor' ' 2.6\\u2009GHz Processor'\n",
      " ' 3.22\\u2009GHz Processor' ' 2.5\\u2009GHz Processor'\n",
      " ' 3\\u2009GHz Processor' ' 2.3\\u2009GHz Processor'\n",
      " ' 2.85\\u2009GHz Processor' ' 2\\u2009GHz Processor'\n",
      " ' 2.84\\u2009GHz Processor' None ' 2.65\\u2009GHz Processor'\n",
      " ' 2.9\\u2009GHz Processor' ' 2.36\\u2009GHz Processor'\n",
      " ' 1.8\\u2009GHz Processor' ' 3.1\\u2009GHz Processor'\n",
      " ' 2.05\\u2009GHz Processor' ' 3.05\\u2009GHz Processor'\n",
      " ' 1.3\\u2009GHz Processor' ' 1.82\\u2009GHz Processor'\n",
      " ' 1.1\\u2009GHz Processor' ' 2.8\\u2009GHz Processor'\n",
      " ' 1.6\\u2009GHz Processor' ' 2.73\\u2009GHz Processor'\n",
      " ' 2.7\\u2009GHz Processor' ' 1.5\\u2009GHz Processor'\n",
      " ' 2.96\\u2009GHz Processor' ' 1.4\\u2009GHz Processor'\n",
      " ' 2.35\\u2009GHz Processor' ' 2.37\\u2009GHz Processor'\n",
      " ' 3.13\\u2009GHz Processor' ' 1.99\\u2009GHz Processor'\n",
      " ' 2.86\\u2009GHz Processor' ' 1.95\\u2009GHz Processor'\n",
      " ' 2.1\\u2009GHz Processor' ' 1.2\\u2009GHz Processor']\n"
     ]
    },
    {
     "data": {
      "text/plain": [
       "89"
      ]
     },
     "execution_count": 94,
     "metadata": {},
     "output_type": "execute_result"
    }
   ],
   "source": [
    "print(temp_3[2].unique())\n",
    "temp_3[2].isnull().sum()"
   ]
  },
  {
   "cell_type": "code",
   "execution_count": 98,
   "id": "1c1d4c2f",
   "metadata": {},
   "outputs": [],
   "source": [
    "# processor speed column \n",
    "df['processor_speed'] = temp_3[2].str.replace('GHz Processor','')"
   ]
  },
  {
   "cell_type": "markdown",
   "id": "9abcfc07",
   "metadata": {},
   "source": [
    "##### Null Values in processors_ columns"
   ]
  },
  {
   "cell_type": "code",
   "execution_count": 109,
   "id": "c2fc9868",
   "metadata": {},
   "outputs": [
    {
     "name": "stdout",
     "output_type": "stream",
     "text": [
      "53\n",
      "62\n",
      "89\n"
     ]
    }
   ],
   "source": [
    "print(df[df['processor_name']=='None'].shape[0])\n",
    "print(df[df['processor_cores']=='None'].shape[0])\n",
    "print(df['processor_speed'].isnull().sum())"
   ]
  },
  {
   "cell_type": "code",
   "execution_count": 127,
   "id": "eb6ad2a9",
   "metadata": {},
   "outputs": [
    {
     "name": "stdout",
     "output_type": "stream",
     "text": [
      "['Snapdragon' 'Exynos' 'Dimensity' 'Bionic' 'Helio' 'A13' 'Unisoc' 'Tiger'\n",
      " 'Octa' 'Google' 'Quad' 'Apple' 'SC9863A' 'Qualcomm' 'No' 'Spreadtrum'\n",
      " 'Dual' 'Sanpdragon' '1' 'Fusion' '4' '1450' 'Kirin' '32' '800' '2000'\n",
      " '52' '1.77' 'SC6531E' '(28' 'Samsung' 'Single' '256' '48' '8']\n"
     ]
    },
    {
     "data": {
      "text/plain": [
       "[(118, 8),\n",
       " (143, 4),\n",
       " (188, 4),\n",
       " (201, 8),\n",
       " (309, 8),\n",
       " (315, 4),\n",
       " (400, 2),\n",
       " (496, 8),\n",
       " (529, 8),\n",
       " (587, 8),\n",
       " (758, 4),\n",
       " (778, 8),\n",
       " (794, 4),\n",
       " (825, 8),\n",
       " (826, 8),\n",
       " (873, 1),\n",
       " (875, 8),\n",
       " (948, 8),\n",
       " (949, 8),\n",
       " (991, 8),\n",
       " (1005, 4),\n",
       " (1019, 8)]"
      ]
     },
     "execution_count": 127,
     "metadata": {},
     "output_type": "execute_result"
    }
   ],
   "source": [
    "# processor_cores\n",
    "print(temp_3[0].str.split(expand=True)[0].unique())\n",
    "index_replace = []\n",
    "for word in enumerate(temp_3[0].str.split(expand=True)[0]):\n",
    "    if word[1] == 'Octa':\n",
    "        index_replace.append((word[0],8))\n",
    "    elif word[1] == 'Quad':\n",
    "        index_replace.append((word[0],4))\n",
    "    elif word[1] == 'Dual':\n",
    "        index_replace.append((word[0],2))\n",
    "    elif word[1] == 'Single':\n",
    "        index_replace.append((word[0],1))\n",
    "\n",
    "index_replace"
   ]
  },
  {
   "cell_type": "code",
   "execution_count": 137,
   "id": "278007bd",
   "metadata": {
    "scrolled": false
   },
   "outputs": [
    {
     "name": "stderr",
     "output_type": "stream",
     "text": [
      "C:\\Users\\Admin\\AppData\\Local\\Temp\\ipykernel_6500\\1098517417.py:1: SettingWithCopyWarning: \n",
      "A value is trying to be set on a copy of a slice from a DataFrame\n",
      "\n",
      "See the caveats in the documentation: https://pandas.pydata.org/pandas-docs/stable/user_guide/indexing.html#returning-a-view-versus-a-copy\n",
      "  df['processor_cores'].loc[[x[0] for x in index_replace]]=[x[1] for x in index_replace]\n"
     ]
    }
   ],
   "source": [
    "df['processor_cores'].loc[[x[0] for x in index_replace]]=[x[1] for x in index_replace]"
   ]
  },
  {
   "cell_type": "code",
   "execution_count": 138,
   "id": "6e45285b",
   "metadata": {},
   "outputs": [
    {
     "name": "stdout",
     "output_type": "stream",
     "text": [
      "53\n",
      "40\n",
      "89\n"
     ]
    }
   ],
   "source": [
    "print(df[df['processor_name']=='None'].shape[0])\n",
    "print(df[df['processor_cores']=='None'].shape[0])\n",
    "print(df['processor_speed'].isnull().sum())"
   ]
  },
  {
   "cell_type": "markdown",
   "id": "c966748d",
   "metadata": {},
   "source": [
    "### 5. Ram and Storage:"
   ]
  },
  {
   "cell_type": "code",
   "execution_count": 149,
   "id": "7ecbd07d",
   "metadata": {
    "scrolled": false
   },
   "outputs": [
    {
     "data": {
      "text/html": [
       "<div>\n",
       "<style scoped>\n",
       "    .dataframe tbody tr th:only-of-type {\n",
       "        vertical-align: middle;\n",
       "    }\n",
       "\n",
       "    .dataframe tbody tr th {\n",
       "        vertical-align: top;\n",
       "    }\n",
       "\n",
       "    .dataframe thead th {\n",
       "        text-align: right;\n",
       "    }\n",
       "</style>\n",
       "<table border=\"1\" class=\"dataframe\">\n",
       "  <thead>\n",
       "    <tr style=\"text-align: right;\">\n",
       "      <th></th>\n",
       "      <th>model</th>\n",
       "      <th>price</th>\n",
       "      <th>rating</th>\n",
       "      <th>sim</th>\n",
       "      <th>processor</th>\n",
       "      <th>ram</th>\n",
       "      <th>battery</th>\n",
       "      <th>display</th>\n",
       "      <th>camera</th>\n",
       "      <th>card</th>\n",
       "      <th>...</th>\n",
       "      <th>DualSim</th>\n",
       "      <th>Volte</th>\n",
       "      <th>is_5G</th>\n",
       "      <th>is_Vo5G</th>\n",
       "      <th>wifi</th>\n",
       "      <th>ngc</th>\n",
       "      <th>irblaster</th>\n",
       "      <th>processor_name</th>\n",
       "      <th>processor_cores</th>\n",
       "      <th>processor_speed</th>\n",
       "    </tr>\n",
       "  </thead>\n",
       "  <tbody>\n",
       "    <tr>\n",
       "      <th>0</th>\n",
       "      <td>OnePlus 11 5G</td>\n",
       "      <td>54999</td>\n",
       "      <td>89.0</td>\n",
       "      <td>Dual Sim, 3G, 4G, 5G, VoLTE, Wi-Fi, NFC</td>\n",
       "      <td>Snapdragon 8 Gen2, Octa Core, 3.2 GHz Processor</td>\n",
       "      <td>12 GB RAM, 256 GB inbuilt</td>\n",
       "      <td>5000 mAh Battery with 100W Fast Charging</td>\n",
       "      <td>6.7 inches, 1440 x 3216 px, 120 Hz Display wit...</td>\n",
       "      <td>50 MP + 48 MP + 32 MP Triple Rear &amp; 16 MP Fron...</td>\n",
       "      <td>Memory Card Not Supported</td>\n",
       "      <td>...</td>\n",
       "      <td>1</td>\n",
       "      <td>1</td>\n",
       "      <td>1</td>\n",
       "      <td>0</td>\n",
       "      <td>1</td>\n",
       "      <td>1</td>\n",
       "      <td>0</td>\n",
       "      <td>Snapdragon</td>\n",
       "      <td>8</td>\n",
       "      <td>3.2</td>\n",
       "    </tr>\n",
       "    <tr>\n",
       "      <th>1</th>\n",
       "      <td>OnePlus Nord CE 2 Lite 5G</td>\n",
       "      <td>19989</td>\n",
       "      <td>81.0</td>\n",
       "      <td>Dual Sim, 3G, 4G, 5G, VoLTE, Wi-Fi</td>\n",
       "      <td>Snapdragon 695, Octa Core, 2.2 GHz Processor</td>\n",
       "      <td>6 GB RAM, 128 GB inbuilt</td>\n",
       "      <td>5000 mAh Battery with 33W Fast Charging</td>\n",
       "      <td>6.59 inches, 1080 x 2412 px, 120 Hz Display wi...</td>\n",
       "      <td>64 MP + 2 MP + 2 MP Triple Rear &amp; 16 MP Front ...</td>\n",
       "      <td>Memory Card (Hybrid), upto 1 TB</td>\n",
       "      <td>...</td>\n",
       "      <td>1</td>\n",
       "      <td>1</td>\n",
       "      <td>1</td>\n",
       "      <td>0</td>\n",
       "      <td>1</td>\n",
       "      <td>0</td>\n",
       "      <td>0</td>\n",
       "      <td>Snapdragon</td>\n",
       "      <td>8</td>\n",
       "      <td>2.2</td>\n",
       "    </tr>\n",
       "  </tbody>\n",
       "</table>\n",
       "<p>2 rows × 22 columns</p>\n",
       "</div>"
      ],
      "text/plain": [
       "                       model  price  rating  \\\n",
       "0              OnePlus 11 5G  54999    89.0   \n",
       "1  OnePlus Nord CE 2 Lite 5G  19989    81.0   \n",
       "\n",
       "                                       sim  \\\n",
       "0  Dual Sim, 3G, 4G, 5G, VoLTE, Wi-Fi, NFC   \n",
       "1       Dual Sim, 3G, 4G, 5G, VoLTE, Wi-Fi   \n",
       "\n",
       "                                         processor                        ram  \\\n",
       "0  Snapdragon 8 Gen2, Octa Core, 3.2 GHz Processor  12 GB RAM, 256 GB inbuilt   \n",
       "1     Snapdragon 695, Octa Core, 2.2 GHz Processor   6 GB RAM, 128 GB inbuilt   \n",
       "\n",
       "                                    battery  \\\n",
       "0  5000 mAh Battery with 100W Fast Charging   \n",
       "1   5000 mAh Battery with 33W Fast Charging   \n",
       "\n",
       "                                             display  \\\n",
       "0  6.7 inches, 1440 x 3216 px, 120 Hz Display wit...   \n",
       "1  6.59 inches, 1080 x 2412 px, 120 Hz Display wi...   \n",
       "\n",
       "                                              camera  \\\n",
       "0  50 MP + 48 MP + 32 MP Triple Rear & 16 MP Fron...   \n",
       "1  64 MP + 2 MP + 2 MP Triple Rear & 16 MP Front ...   \n",
       "\n",
       "                              card  ... DualSim Volte  is_5G  is_Vo5G  wifi  \\\n",
       "0        Memory Card Not Supported  ...       1     1      1        0     1   \n",
       "1  Memory Card (Hybrid), upto 1 TB  ...       1     1      1        0     1   \n",
       "\n",
       "   ngc  irblaster  processor_name  processor_cores processor_speed  \n",
       "0    1          0      Snapdragon                8            3.2   \n",
       "1    0          0      Snapdragon                8            2.2   \n",
       "\n",
       "[2 rows x 22 columns]"
      ]
     },
     "execution_count": 149,
     "metadata": {},
     "output_type": "execute_result"
    }
   ],
   "source": [
    "df.head(2)"
   ]
  },
  {
   "cell_type": "code",
   "execution_count": 151,
   "id": "4ae18f10",
   "metadata": {},
   "outputs": [],
   "source": [
    "df.ram.unique()"
   ]
  },
  {
   "cell_type": "code",
   "execution_count": 152,
   "id": "a645f308",
   "metadata": {},
   "outputs": [
    {
     "data": {
      "text/plain": [
       "0"
      ]
     },
     "execution_count": 152,
     "metadata": {},
     "output_type": "execute_result"
    }
   ],
   "source": [
    "# missing values\n",
    "df.ram.isnull().sum()"
   ]
  },
  {
   "cell_type": "code",
   "execution_count": 159,
   "id": "c4142929",
   "metadata": {},
   "outputs": [],
   "source": [
    "# temporary df for the 'ram' and 'storage' data extraction\n",
    "temp_4 = df.ram.str.split(',',expand=True)"
   ]
  },
  {
   "cell_type": "code",
   "execution_count": 162,
   "id": "3d6a0e22",
   "metadata": {},
   "outputs": [],
   "source": [
    "df['storage']=temp_4[1]\n",
    "df['ram']=temp_4[0]"
   ]
  },
  {
   "cell_type": "code",
   "execution_count": 164,
   "id": "f5666780",
   "metadata": {},
   "outputs": [
    {
     "data": {
      "text/html": [
       "<div>\n",
       "<style scoped>\n",
       "    .dataframe tbody tr th:only-of-type {\n",
       "        vertical-align: middle;\n",
       "    }\n",
       "\n",
       "    .dataframe tbody tr th {\n",
       "        vertical-align: top;\n",
       "    }\n",
       "\n",
       "    .dataframe thead th {\n",
       "        text-align: right;\n",
       "    }\n",
       "</style>\n",
       "<table border=\"1\" class=\"dataframe\">\n",
       "  <thead>\n",
       "    <tr style=\"text-align: right;\">\n",
       "      <th></th>\n",
       "      <th>model</th>\n",
       "      <th>price</th>\n",
       "      <th>rating</th>\n",
       "      <th>sim</th>\n",
       "      <th>processor</th>\n",
       "      <th>ram</th>\n",
       "      <th>battery</th>\n",
       "      <th>display</th>\n",
       "      <th>camera</th>\n",
       "      <th>card</th>\n",
       "      <th>...</th>\n",
       "      <th>Volte</th>\n",
       "      <th>is_5G</th>\n",
       "      <th>is_Vo5G</th>\n",
       "      <th>wifi</th>\n",
       "      <th>ngc</th>\n",
       "      <th>irblaster</th>\n",
       "      <th>processor_name</th>\n",
       "      <th>processor_cores</th>\n",
       "      <th>processor_speed</th>\n",
       "      <th>storage</th>\n",
       "    </tr>\n",
       "  </thead>\n",
       "  <tbody>\n",
       "    <tr>\n",
       "      <th>0</th>\n",
       "      <td>OnePlus 11 5G</td>\n",
       "      <td>54999</td>\n",
       "      <td>89.0</td>\n",
       "      <td>Dual Sim, 3G, 4G, 5G, VoLTE, Wi-Fi, NFC</td>\n",
       "      <td>Snapdragon 8 Gen2, Octa Core, 3.2 GHz Processor</td>\n",
       "      <td>12 GB RAM</td>\n",
       "      <td>5000 mAh Battery with 100W Fast Charging</td>\n",
       "      <td>6.7 inches, 1440 x 3216 px, 120 Hz Display wit...</td>\n",
       "      <td>50 MP + 48 MP + 32 MP Triple Rear &amp; 16 MP Fron...</td>\n",
       "      <td>Memory Card Not Supported</td>\n",
       "      <td>...</td>\n",
       "      <td>1</td>\n",
       "      <td>1</td>\n",
       "      <td>0</td>\n",
       "      <td>1</td>\n",
       "      <td>1</td>\n",
       "      <td>0</td>\n",
       "      <td>Snapdragon</td>\n",
       "      <td>8</td>\n",
       "      <td>3.2</td>\n",
       "      <td>256 GB inbuilt</td>\n",
       "    </tr>\n",
       "    <tr>\n",
       "      <th>1</th>\n",
       "      <td>OnePlus Nord CE 2 Lite 5G</td>\n",
       "      <td>19989</td>\n",
       "      <td>81.0</td>\n",
       "      <td>Dual Sim, 3G, 4G, 5G, VoLTE, Wi-Fi</td>\n",
       "      <td>Snapdragon 695, Octa Core, 2.2 GHz Processor</td>\n",
       "      <td>6 GB RAM</td>\n",
       "      <td>5000 mAh Battery with 33W Fast Charging</td>\n",
       "      <td>6.59 inches, 1080 x 2412 px, 120 Hz Display wi...</td>\n",
       "      <td>64 MP + 2 MP + 2 MP Triple Rear &amp; 16 MP Front ...</td>\n",
       "      <td>Memory Card (Hybrid), upto 1 TB</td>\n",
       "      <td>...</td>\n",
       "      <td>1</td>\n",
       "      <td>1</td>\n",
       "      <td>0</td>\n",
       "      <td>1</td>\n",
       "      <td>0</td>\n",
       "      <td>0</td>\n",
       "      <td>Snapdragon</td>\n",
       "      <td>8</td>\n",
       "      <td>2.2</td>\n",
       "      <td>128 GB inbuilt</td>\n",
       "    </tr>\n",
       "  </tbody>\n",
       "</table>\n",
       "<p>2 rows × 23 columns</p>\n",
       "</div>"
      ],
      "text/plain": [
       "                       model  price  rating  \\\n",
       "0              OnePlus 11 5G  54999    89.0   \n",
       "1  OnePlus Nord CE 2 Lite 5G  19989    81.0   \n",
       "\n",
       "                                       sim  \\\n",
       "0  Dual Sim, 3G, 4G, 5G, VoLTE, Wi-Fi, NFC   \n",
       "1       Dual Sim, 3G, 4G, 5G, VoLTE, Wi-Fi   \n",
       "\n",
       "                                         processor        ram  \\\n",
       "0  Snapdragon 8 Gen2, Octa Core, 3.2 GHz Processor  12 GB RAM   \n",
       "1     Snapdragon 695, Octa Core, 2.2 GHz Processor   6 GB RAM   \n",
       "\n",
       "                                    battery  \\\n",
       "0  5000 mAh Battery with 100W Fast Charging   \n",
       "1   5000 mAh Battery with 33W Fast Charging   \n",
       "\n",
       "                                             display  \\\n",
       "0  6.7 inches, 1440 x 3216 px, 120 Hz Display wit...   \n",
       "1  6.59 inches, 1080 x 2412 px, 120 Hz Display wi...   \n",
       "\n",
       "                                              camera  \\\n",
       "0  50 MP + 48 MP + 32 MP Triple Rear & 16 MP Fron...   \n",
       "1  64 MP + 2 MP + 2 MP Triple Rear & 16 MP Front ...   \n",
       "\n",
       "                              card  ... Volte is_5G  is_Vo5G  wifi  ngc  \\\n",
       "0        Memory Card Not Supported  ...     1     1        0     1    1   \n",
       "1  Memory Card (Hybrid), upto 1 TB  ...     1     1        0     1    0   \n",
       "\n",
       "   irblaster  processor_name  processor_cores  processor_speed  \\\n",
       "0          0      Snapdragon                8             3.2    \n",
       "1          0      Snapdragon                8             2.2    \n",
       "\n",
       "           storage  \n",
       "0   256 GB inbuilt  \n",
       "1   128 GB inbuilt  \n",
       "\n",
       "[2 rows x 23 columns]"
      ]
     },
     "execution_count": 164,
     "metadata": {},
     "output_type": "execute_result"
    }
   ],
   "source": [
    "df.head(2)"
   ]
  },
  {
   "cell_type": "code",
   "execution_count": 170,
   "id": "4c248ca9",
   "metadata": {},
   "outputs": [],
   "source": [
    "df['storage'] = df['storage'].fillna('None')"
   ]
  },
  {
   "cell_type": "code",
   "execution_count": 172,
   "id": "c7b549c7",
   "metadata": {},
   "outputs": [],
   "source": [
    "# 'ram' column and 'storage' column\n",
    "df['ram'] = df['ram'].apply(lambda x:x if 'RAM' in x else 'None')\n",
    "df['storage'] = df['storage'].apply(lambda x:x if 'inbuilt' in x else 'None')"
   ]
  },
  {
   "cell_type": "markdown",
   "id": "2a79245c",
   "metadata": {},
   "source": [
    "### 6. Battery :"
   ]
  },
  {
   "cell_type": "code",
   "execution_count": 199,
   "id": "108b4484",
   "metadata": {},
   "outputs": [],
   "source": [
    "df['battery_capacity'] = df['battery'].str.split('Battery',expand=True)[0].apply(lambda x:x if 'mAh' in x else 'None')\n",
    "df['battery_power'] = df['battery'].str.split('Battery',expand=True)[1].str.split(expand=True)[1].fillna('None').apply(lambda x:x if 'W' in x else 'None')"
   ]
  },
  {
   "cell_type": "code",
   "execution_count": 200,
   "id": "e44b42b0",
   "metadata": {},
   "outputs": [
    {
     "data": {
      "text/html": [
       "<div>\n",
       "<style scoped>\n",
       "    .dataframe tbody tr th:only-of-type {\n",
       "        vertical-align: middle;\n",
       "    }\n",
       "\n",
       "    .dataframe tbody tr th {\n",
       "        vertical-align: top;\n",
       "    }\n",
       "\n",
       "    .dataframe thead th {\n",
       "        text-align: right;\n",
       "    }\n",
       "</style>\n",
       "<table border=\"1\" class=\"dataframe\">\n",
       "  <thead>\n",
       "    <tr style=\"text-align: right;\">\n",
       "      <th></th>\n",
       "      <th>model</th>\n",
       "      <th>price</th>\n",
       "      <th>rating</th>\n",
       "      <th>sim</th>\n",
       "      <th>processor</th>\n",
       "      <th>ram</th>\n",
       "      <th>battery</th>\n",
       "      <th>display</th>\n",
       "      <th>camera</th>\n",
       "      <th>card</th>\n",
       "      <th>...</th>\n",
       "      <th>is_Vo5G</th>\n",
       "      <th>wifi</th>\n",
       "      <th>ngc</th>\n",
       "      <th>irblaster</th>\n",
       "      <th>processor_name</th>\n",
       "      <th>processor_cores</th>\n",
       "      <th>processor_speed</th>\n",
       "      <th>storage</th>\n",
       "      <th>battery_capacity</th>\n",
       "      <th>battery_power</th>\n",
       "    </tr>\n",
       "  </thead>\n",
       "  <tbody>\n",
       "    <tr>\n",
       "      <th>0</th>\n",
       "      <td>OnePlus 11 5G</td>\n",
       "      <td>54999</td>\n",
       "      <td>89.0</td>\n",
       "      <td>Dual Sim, 3G, 4G, 5G, VoLTE, Wi-Fi, NFC</td>\n",
       "      <td>Snapdragon 8 Gen2, Octa Core, 3.2 GHz Processor</td>\n",
       "      <td>12 GB RAM</td>\n",
       "      <td>5000 mAh Battery with 100W Fast Charging</td>\n",
       "      <td>6.7 inches, 1440 x 3216 px, 120 Hz Display wit...</td>\n",
       "      <td>50 MP + 48 MP + 32 MP Triple Rear &amp; 16 MP Fron...</td>\n",
       "      <td>Memory Card Not Supported</td>\n",
       "      <td>...</td>\n",
       "      <td>0</td>\n",
       "      <td>1</td>\n",
       "      <td>1</td>\n",
       "      <td>0</td>\n",
       "      <td>Snapdragon</td>\n",
       "      <td>8</td>\n",
       "      <td>3.2</td>\n",
       "      <td>256 GB inbuilt</td>\n",
       "      <td>5000 mAh</td>\n",
       "      <td>100W</td>\n",
       "    </tr>\n",
       "    <tr>\n",
       "      <th>1</th>\n",
       "      <td>OnePlus Nord CE 2 Lite 5G</td>\n",
       "      <td>19989</td>\n",
       "      <td>81.0</td>\n",
       "      <td>Dual Sim, 3G, 4G, 5G, VoLTE, Wi-Fi</td>\n",
       "      <td>Snapdragon 695, Octa Core, 2.2 GHz Processor</td>\n",
       "      <td>6 GB RAM</td>\n",
       "      <td>5000 mAh Battery with 33W Fast Charging</td>\n",
       "      <td>6.59 inches, 1080 x 2412 px, 120 Hz Display wi...</td>\n",
       "      <td>64 MP + 2 MP + 2 MP Triple Rear &amp; 16 MP Front ...</td>\n",
       "      <td>Memory Card (Hybrid), upto 1 TB</td>\n",
       "      <td>...</td>\n",
       "      <td>0</td>\n",
       "      <td>1</td>\n",
       "      <td>0</td>\n",
       "      <td>0</td>\n",
       "      <td>Snapdragon</td>\n",
       "      <td>8</td>\n",
       "      <td>2.2</td>\n",
       "      <td>128 GB inbuilt</td>\n",
       "      <td>5000 mAh</td>\n",
       "      <td>33W</td>\n",
       "    </tr>\n",
       "  </tbody>\n",
       "</table>\n",
       "<p>2 rows × 25 columns</p>\n",
       "</div>"
      ],
      "text/plain": [
       "                       model  price  rating  \\\n",
       "0              OnePlus 11 5G  54999    89.0   \n",
       "1  OnePlus Nord CE 2 Lite 5G  19989    81.0   \n",
       "\n",
       "                                       sim  \\\n",
       "0  Dual Sim, 3G, 4G, 5G, VoLTE, Wi-Fi, NFC   \n",
       "1       Dual Sim, 3G, 4G, 5G, VoLTE, Wi-Fi   \n",
       "\n",
       "                                         processor        ram  \\\n",
       "0  Snapdragon 8 Gen2, Octa Core, 3.2 GHz Processor  12 GB RAM   \n",
       "1     Snapdragon 695, Octa Core, 2.2 GHz Processor   6 GB RAM   \n",
       "\n",
       "                                    battery  \\\n",
       "0  5000 mAh Battery with 100W Fast Charging   \n",
       "1   5000 mAh Battery with 33W Fast Charging   \n",
       "\n",
       "                                             display  \\\n",
       "0  6.7 inches, 1440 x 3216 px, 120 Hz Display wit...   \n",
       "1  6.59 inches, 1080 x 2412 px, 120 Hz Display wi...   \n",
       "\n",
       "                                              camera  \\\n",
       "0  50 MP + 48 MP + 32 MP Triple Rear & 16 MP Fron...   \n",
       "1  64 MP + 2 MP + 2 MP Triple Rear & 16 MP Front ...   \n",
       "\n",
       "                              card  ... is_Vo5G wifi  ngc  irblaster  \\\n",
       "0        Memory Card Not Supported  ...       0    1    1          0   \n",
       "1  Memory Card (Hybrid), upto 1 TB  ...       0    1    0          0   \n",
       "\n",
       "   processor_name  processor_cores  processor_speed          storage  \\\n",
       "0      Snapdragon                8             3.2    256 GB inbuilt   \n",
       "1      Snapdragon                8             2.2    128 GB inbuilt   \n",
       "\n",
       "   battery_capacity battery_power  \n",
       "0         5000 mAh           100W  \n",
       "1         5000 mAh            33W  \n",
       "\n",
       "[2 rows x 25 columns]"
      ]
     },
     "execution_count": 200,
     "metadata": {},
     "output_type": "execute_result"
    }
   ],
   "source": [
    "df.head(2)"
   ]
  },
  {
   "cell_type": "code",
   "execution_count": null,
   "id": "5d97cd79",
   "metadata": {},
   "outputs": [],
   "source": []
  }
 ],
 "metadata": {
  "kernelspec": {
   "display_name": "Python 3 (ipykernel)",
   "language": "python",
   "name": "python3"
  },
  "language_info": {
   "codemirror_mode": {
    "name": "ipython",
    "version": 3
   },
   "file_extension": ".py",
   "mimetype": "text/x-python",
   "name": "python",
   "nbconvert_exporter": "python",
   "pygments_lexer": "ipython3",
   "version": "3.11.5"
  }
 },
 "nbformat": 4,
 "nbformat_minor": 5
}
