{
 "cells": [
  {
   "cell_type": "code",
   "execution_count": 1,
   "id": "8d6ad742",
   "metadata": {},
   "outputs": [],
   "source": [
    "import pandas as pd \n",
    "import numpy as np\n",
    "import matplotlib.pyplot as plt\n",
    "import seaborn as sns"
   ]
  },
  {
   "cell_type": "code",
   "execution_count": 2,
   "id": "cb0eeb3a",
   "metadata": {},
   "outputs": [],
   "source": [
    "df = pd.read_csv('clean_smartphones.csv')"
   ]
  },
  {
   "cell_type": "code",
   "execution_count": 3,
   "id": "7d67b2a8",
   "metadata": {},
   "outputs": [
    {
     "data": {
      "text/html": [
       "<div>\n",
       "<style scoped>\n",
       "    .dataframe tbody tr th:only-of-type {\n",
       "        vertical-align: middle;\n",
       "    }\n",
       "\n",
       "    .dataframe tbody tr th {\n",
       "        vertical-align: top;\n",
       "    }\n",
       "\n",
       "    .dataframe thead th {\n",
       "        text-align: right;\n",
       "    }\n",
       "</style>\n",
       "<table border=\"1\" class=\"dataframe\">\n",
       "  <thead>\n",
       "    <tr style=\"text-align: right;\">\n",
       "      <th></th>\n",
       "      <th>brand</th>\n",
       "      <th>processor_name</th>\n",
       "      <th>processor_cores</th>\n",
       "      <th>processor_speed</th>\n",
       "      <th>os</th>\n",
       "      <th>ram</th>\n",
       "      <th>storage</th>\n",
       "      <th>battery_capacity</th>\n",
       "      <th>battery_power</th>\n",
       "      <th>DualSim</th>\n",
       "      <th>...</th>\n",
       "      <th>wifi</th>\n",
       "      <th>ngc</th>\n",
       "      <th>irblaster</th>\n",
       "      <th>display_size</th>\n",
       "      <th>display_resolution</th>\n",
       "      <th>rear_camera</th>\n",
       "      <th>front_camera</th>\n",
       "      <th>memory_card_supported</th>\n",
       "      <th>rating</th>\n",
       "      <th>price</th>\n",
       "    </tr>\n",
       "  </thead>\n",
       "  <tbody>\n",
       "    <tr>\n",
       "      <th>0</th>\n",
       "      <td>OnePlus</td>\n",
       "      <td>Snapdragon</td>\n",
       "      <td>8.0</td>\n",
       "      <td>3.2</td>\n",
       "      <td>Android v13</td>\n",
       "      <td>12 GB RAM</td>\n",
       "      <td>256 GB inbuilt</td>\n",
       "      <td>5000 mAh</td>\n",
       "      <td>100W</td>\n",
       "      <td>1</td>\n",
       "      <td>...</td>\n",
       "      <td>1</td>\n",
       "      <td>1</td>\n",
       "      <td>0</td>\n",
       "      <td>6.70</td>\n",
       "      <td>1440x3216</td>\n",
       "      <td>50.0</td>\n",
       "      <td>16.0</td>\n",
       "      <td>0.0</td>\n",
       "      <td>89.0</td>\n",
       "      <td>54999</td>\n",
       "    </tr>\n",
       "    <tr>\n",
       "      <th>1</th>\n",
       "      <td>OnePlus</td>\n",
       "      <td>Snapdragon</td>\n",
       "      <td>8.0</td>\n",
       "      <td>2.2</td>\n",
       "      <td>Android v12</td>\n",
       "      <td>6 GB RAM</td>\n",
       "      <td>128 GB inbuilt</td>\n",
       "      <td>5000 mAh</td>\n",
       "      <td>33W</td>\n",
       "      <td>1</td>\n",
       "      <td>...</td>\n",
       "      <td>1</td>\n",
       "      <td>0</td>\n",
       "      <td>0</td>\n",
       "      <td>6.59</td>\n",
       "      <td>1080x2412</td>\n",
       "      <td>64.0</td>\n",
       "      <td>16.0</td>\n",
       "      <td>1.0</td>\n",
       "      <td>81.0</td>\n",
       "      <td>19989</td>\n",
       "    </tr>\n",
       "    <tr>\n",
       "      <th>2</th>\n",
       "      <td>Samsung</td>\n",
       "      <td>Exynos</td>\n",
       "      <td>8.0</td>\n",
       "      <td>2.4</td>\n",
       "      <td>Android v13</td>\n",
       "      <td>4 GB RAM</td>\n",
       "      <td>64 GB inbuilt</td>\n",
       "      <td>5000 mAh</td>\n",
       "      <td>15W</td>\n",
       "      <td>1</td>\n",
       "      <td>...</td>\n",
       "      <td>1</td>\n",
       "      <td>0</td>\n",
       "      <td>0</td>\n",
       "      <td>6.60</td>\n",
       "      <td>1080x2408</td>\n",
       "      <td>50.0</td>\n",
       "      <td>13.0</td>\n",
       "      <td>1.0</td>\n",
       "      <td>75.0</td>\n",
       "      <td>16499</td>\n",
       "    </tr>\n",
       "    <tr>\n",
       "      <th>3</th>\n",
       "      <td>Motorola</td>\n",
       "      <td>Snapdragon</td>\n",
       "      <td>8.0</td>\n",
       "      <td>2.2</td>\n",
       "      <td>Android v12</td>\n",
       "      <td>6 GB RAM</td>\n",
       "      <td>128 GB inbuilt</td>\n",
       "      <td>5000 mAh</td>\n",
       "      <td>NaN</td>\n",
       "      <td>1</td>\n",
       "      <td>...</td>\n",
       "      <td>1</td>\n",
       "      <td>0</td>\n",
       "      <td>0</td>\n",
       "      <td>6.55</td>\n",
       "      <td>1080x2400</td>\n",
       "      <td>50.0</td>\n",
       "      <td>16.0</td>\n",
       "      <td>1.0</td>\n",
       "      <td>81.0</td>\n",
       "      <td>14999</td>\n",
       "    </tr>\n",
       "    <tr>\n",
       "      <th>4</th>\n",
       "      <td>Realme</td>\n",
       "      <td>Dimensity</td>\n",
       "      <td>8.0</td>\n",
       "      <td>2.6</td>\n",
       "      <td>Android v13</td>\n",
       "      <td>6 GB RAM</td>\n",
       "      <td>128 GB inbuilt</td>\n",
       "      <td>5000 mAh</td>\n",
       "      <td>67W</td>\n",
       "      <td>1</td>\n",
       "      <td>...</td>\n",
       "      <td>1</td>\n",
       "      <td>0</td>\n",
       "      <td>0</td>\n",
       "      <td>6.70</td>\n",
       "      <td>1080x2412</td>\n",
       "      <td>108.0</td>\n",
       "      <td>16.0</td>\n",
       "      <td>0.0</td>\n",
       "      <td>82.0</td>\n",
       "      <td>24999</td>\n",
       "    </tr>\n",
       "  </tbody>\n",
       "</table>\n",
       "<p>5 rows × 23 columns</p>\n",
       "</div>"
      ],
      "text/plain": [
       "      brand processor_name  processor_cores processor_speed           os  \\\n",
       "0   OnePlus     Snapdragon              8.0            3.2   Android v13   \n",
       "1   OnePlus     Snapdragon              8.0            2.2   Android v12   \n",
       "2   Samsung         Exynos              8.0            2.4   Android v13   \n",
       "3  Motorola     Snapdragon              8.0            2.2   Android v12   \n",
       "4    Realme      Dimensity              8.0            2.6   Android v13   \n",
       "\n",
       "         ram          storage battery_capacity battery_power  DualSim  ...  \\\n",
       "0  12 GB RAM   256 GB inbuilt        5000 mAh           100W        1  ...   \n",
       "1   6 GB RAM   128 GB inbuilt        5000 mAh            33W        1  ...   \n",
       "2   4 GB RAM    64 GB inbuilt        5000 mAh            15W        1  ...   \n",
       "3   6 GB RAM   128 GB inbuilt        5000 mAh            NaN        1  ...   \n",
       "4   6 GB RAM   128 GB inbuilt        5000 mAh            67W        1  ...   \n",
       "\n",
       "   wifi  ngc  irblaster  display_size  display_resolution  rear_camera  \\\n",
       "0     1    1          0          6.70           1440x3216         50.0   \n",
       "1     1    0          0          6.59           1080x2412         64.0   \n",
       "2     1    0          0          6.60           1080x2408         50.0   \n",
       "3     1    0          0          6.55           1080x2400         50.0   \n",
       "4     1    0          0          6.70           1080x2412        108.0   \n",
       "\n",
       "   front_camera memory_card_supported  rating  price  \n",
       "0          16.0                   0.0    89.0  54999  \n",
       "1          16.0                   1.0    81.0  19989  \n",
       "2          13.0                   1.0    75.0  16499  \n",
       "3          16.0                   1.0    81.0  14999  \n",
       "4          16.0                   0.0    82.0  24999  \n",
       "\n",
       "[5 rows x 23 columns]"
      ]
     },
     "execution_count": 3,
     "metadata": {},
     "output_type": "execute_result"
    }
   ],
   "source": [
    "df.head()"
   ]
  },
  {
   "cell_type": "code",
   "execution_count": 4,
   "id": "4d8330e0",
   "metadata": {},
   "outputs": [
    {
     "data": {
      "text/plain": [
       "(1020, 23)"
      ]
     },
     "execution_count": 4,
     "metadata": {},
     "output_type": "execute_result"
    }
   ],
   "source": [
    "df.shape"
   ]
  },
  {
   "cell_type": "code",
   "execution_count": 5,
   "id": "66fafcbc",
   "metadata": {},
   "outputs": [
    {
     "name": "stdout",
     "output_type": "stream",
     "text": [
      "<class 'pandas.core.frame.DataFrame'>\n",
      "RangeIndex: 1020 entries, 0 to 1019\n",
      "Data columns (total 23 columns):\n",
      " #   Column                 Non-Null Count  Dtype  \n",
      "---  ------                 --------------  -----  \n",
      " 0   brand                  1020 non-null   object \n",
      " 1   processor_name         967 non-null    object \n",
      " 2   processor_cores        980 non-null    float64\n",
      " 3   processor_speed        931 non-null    object \n",
      " 4   os                     741 non-null    object \n",
      " 5   ram                    993 non-null    object \n",
      " 6   storage                993 non-null    object \n",
      " 7   battery_capacity       987 non-null    object \n",
      " 8   battery_power          769 non-null    object \n",
      " 9   DualSim                1020 non-null   int64  \n",
      " 10  Volte                  1020 non-null   int64  \n",
      " 11  is_5G                  1020 non-null   int64  \n",
      " 12  is_Vo5G                1020 non-null   int64  \n",
      " 13  wifi                   1020 non-null   int64  \n",
      " 14  ngc                    1020 non-null   int64  \n",
      " 15  irblaster              1020 non-null   int64  \n",
      " 16  display_size           987 non-null    float64\n",
      " 17  display_resolution     987 non-null    object \n",
      " 18  rear_camera            954 non-null    float64\n",
      " 19  front_camera           943 non-null    float64\n",
      " 20  memory_card_supported  741 non-null    float64\n",
      " 21  rating                 879 non-null    float64\n",
      " 22  price                  1020 non-null   int64  \n",
      "dtypes: float64(6), int64(8), object(9)\n",
      "memory usage: 183.4+ KB\n"
     ]
    }
   ],
   "source": [
    "df.info()"
   ]
  },
  {
   "cell_type": "code",
   "execution_count": 7,
   "id": "fd42a071",
   "metadata": {},
   "outputs": [
    {
     "data": {
      "text/plain": [
       "2"
      ]
     },
     "execution_count": 7,
     "metadata": {},
     "output_type": "execute_result"
    }
   ],
   "source": [
    "# remove duplicates \n",
    "df.duplicated().sum()"
   ]
  },
  {
   "cell_type": "code",
   "execution_count": 9,
   "id": "011ad687",
   "metadata": {},
   "outputs": [],
   "source": [
    "df = df.drop_duplicates()"
   ]
  },
  {
   "cell_type": "code",
   "execution_count": 13,
   "id": "175aeede",
   "metadata": {},
   "outputs": [
    {
     "data": {
      "text/plain": [
       "(1018, 23)"
      ]
     },
     "execution_count": 13,
     "metadata": {},
     "output_type": "execute_result"
    }
   ],
   "source": [
    "df.shape"
   ]
  },
  {
   "cell_type": "code",
   "execution_count": 147,
   "id": "c0a6d160",
   "metadata": {},
   "outputs": [
    {
     "data": {
      "text/plain": [
       "brand                     0.000000\n",
       "processor_name            0.000000\n",
       "processor_cores           3.929273\n",
       "processor_speed           8.742633\n",
       "os                       27.308448\n",
       "ram                       2.554028\n",
       "storage                   2.554028\n",
       "battery_capacity          3.241650\n",
       "battery_power            24.459725\n",
       "DualSim                   0.000000\n",
       "Volte                     0.000000\n",
       "is_5G                     0.000000\n",
       "is_Vo5G                   0.000000\n",
       "wifi                      0.000000\n",
       "ngc                       0.000000\n",
       "irblaster                 0.000000\n",
       "display_size              3.241650\n",
       "display_resolution        3.241650\n",
       "rear_camera               6.483301\n",
       "front_camera              7.563851\n",
       "memory_card_supported    27.308448\n",
       "rating                   13.752456\n",
       "price                     0.000000\n",
       "dtype: float64"
      ]
     },
     "execution_count": 147,
     "metadata": {},
     "output_type": "execute_result"
    }
   ],
   "source": [
    "(df.isnull().sum()/1018)*100"
   ]
  },
  {
   "cell_type": "code",
   "execution_count": 10,
   "id": "1c6df3cb",
   "metadata": {
    "scrolled": true
   },
   "outputs": [
    {
     "data": {
      "text/html": [
       "<div>\n",
       "<style scoped>\n",
       "    .dataframe tbody tr th:only-of-type {\n",
       "        vertical-align: middle;\n",
       "    }\n",
       "\n",
       "    .dataframe tbody tr th {\n",
       "        vertical-align: top;\n",
       "    }\n",
       "\n",
       "    .dataframe thead th {\n",
       "        text-align: right;\n",
       "    }\n",
       "</style>\n",
       "<table border=\"1\" class=\"dataframe\">\n",
       "  <thead>\n",
       "    <tr style=\"text-align: right;\">\n",
       "      <th></th>\n",
       "      <th>brand</th>\n",
       "      <th>processor_name</th>\n",
       "      <th>processor_cores</th>\n",
       "      <th>processor_speed</th>\n",
       "      <th>os</th>\n",
       "      <th>ram</th>\n",
       "      <th>storage</th>\n",
       "      <th>battery_capacity</th>\n",
       "      <th>battery_power</th>\n",
       "      <th>DualSim</th>\n",
       "      <th>...</th>\n",
       "      <th>wifi</th>\n",
       "      <th>ngc</th>\n",
       "      <th>irblaster</th>\n",
       "      <th>display_size</th>\n",
       "      <th>display_resolution</th>\n",
       "      <th>rear_camera</th>\n",
       "      <th>front_camera</th>\n",
       "      <th>memory_card_supported</th>\n",
       "      <th>rating</th>\n",
       "      <th>price</th>\n",
       "    </tr>\n",
       "  </thead>\n",
       "  <tbody>\n",
       "    <tr>\n",
       "      <th>0</th>\n",
       "      <td>OnePlus</td>\n",
       "      <td>Snapdragon</td>\n",
       "      <td>8.0</td>\n",
       "      <td>3.2</td>\n",
       "      <td>Android v13</td>\n",
       "      <td>12 GB RAM</td>\n",
       "      <td>256 GB inbuilt</td>\n",
       "      <td>5000 mAh</td>\n",
       "      <td>100W</td>\n",
       "      <td>1</td>\n",
       "      <td>...</td>\n",
       "      <td>1</td>\n",
       "      <td>1</td>\n",
       "      <td>0</td>\n",
       "      <td>6.70</td>\n",
       "      <td>1440x3216</td>\n",
       "      <td>50.0</td>\n",
       "      <td>16.0</td>\n",
       "      <td>0.0</td>\n",
       "      <td>89.0</td>\n",
       "      <td>54999</td>\n",
       "    </tr>\n",
       "    <tr>\n",
       "      <th>1</th>\n",
       "      <td>OnePlus</td>\n",
       "      <td>Snapdragon</td>\n",
       "      <td>8.0</td>\n",
       "      <td>2.2</td>\n",
       "      <td>Android v12</td>\n",
       "      <td>6 GB RAM</td>\n",
       "      <td>128 GB inbuilt</td>\n",
       "      <td>5000 mAh</td>\n",
       "      <td>33W</td>\n",
       "      <td>1</td>\n",
       "      <td>...</td>\n",
       "      <td>1</td>\n",
       "      <td>0</td>\n",
       "      <td>0</td>\n",
       "      <td>6.59</td>\n",
       "      <td>1080x2412</td>\n",
       "      <td>64.0</td>\n",
       "      <td>16.0</td>\n",
       "      <td>1.0</td>\n",
       "      <td>81.0</td>\n",
       "      <td>19989</td>\n",
       "    </tr>\n",
       "    <tr>\n",
       "      <th>2</th>\n",
       "      <td>Samsung</td>\n",
       "      <td>Exynos</td>\n",
       "      <td>8.0</td>\n",
       "      <td>2.4</td>\n",
       "      <td>Android v13</td>\n",
       "      <td>4 GB RAM</td>\n",
       "      <td>64 GB inbuilt</td>\n",
       "      <td>5000 mAh</td>\n",
       "      <td>15W</td>\n",
       "      <td>1</td>\n",
       "      <td>...</td>\n",
       "      <td>1</td>\n",
       "      <td>0</td>\n",
       "      <td>0</td>\n",
       "      <td>6.60</td>\n",
       "      <td>1080x2408</td>\n",
       "      <td>50.0</td>\n",
       "      <td>13.0</td>\n",
       "      <td>1.0</td>\n",
       "      <td>75.0</td>\n",
       "      <td>16499</td>\n",
       "    </tr>\n",
       "    <tr>\n",
       "      <th>3</th>\n",
       "      <td>Motorola</td>\n",
       "      <td>Snapdragon</td>\n",
       "      <td>8.0</td>\n",
       "      <td>2.2</td>\n",
       "      <td>Android v12</td>\n",
       "      <td>6 GB RAM</td>\n",
       "      <td>128 GB inbuilt</td>\n",
       "      <td>5000 mAh</td>\n",
       "      <td>NaN</td>\n",
       "      <td>1</td>\n",
       "      <td>...</td>\n",
       "      <td>1</td>\n",
       "      <td>0</td>\n",
       "      <td>0</td>\n",
       "      <td>6.55</td>\n",
       "      <td>1080x2400</td>\n",
       "      <td>50.0</td>\n",
       "      <td>16.0</td>\n",
       "      <td>1.0</td>\n",
       "      <td>81.0</td>\n",
       "      <td>14999</td>\n",
       "    </tr>\n",
       "    <tr>\n",
       "      <th>4</th>\n",
       "      <td>Realme</td>\n",
       "      <td>Dimensity</td>\n",
       "      <td>8.0</td>\n",
       "      <td>2.6</td>\n",
       "      <td>Android v13</td>\n",
       "      <td>6 GB RAM</td>\n",
       "      <td>128 GB inbuilt</td>\n",
       "      <td>5000 mAh</td>\n",
       "      <td>67W</td>\n",
       "      <td>1</td>\n",
       "      <td>...</td>\n",
       "      <td>1</td>\n",
       "      <td>0</td>\n",
       "      <td>0</td>\n",
       "      <td>6.70</td>\n",
       "      <td>1080x2412</td>\n",
       "      <td>108.0</td>\n",
       "      <td>16.0</td>\n",
       "      <td>0.0</td>\n",
       "      <td>82.0</td>\n",
       "      <td>24999</td>\n",
       "    </tr>\n",
       "  </tbody>\n",
       "</table>\n",
       "<p>5 rows × 23 columns</p>\n",
       "</div>"
      ],
      "text/plain": [
       "      brand processor_name  processor_cores processor_speed           os  \\\n",
       "0   OnePlus     Snapdragon              8.0            3.2   Android v13   \n",
       "1   OnePlus     Snapdragon              8.0            2.2   Android v12   \n",
       "2   Samsung         Exynos              8.0            2.4   Android v13   \n",
       "3  Motorola     Snapdragon              8.0            2.2   Android v12   \n",
       "4    Realme      Dimensity              8.0            2.6   Android v13   \n",
       "\n",
       "         ram          storage battery_capacity battery_power  DualSim  ...  \\\n",
       "0  12 GB RAM   256 GB inbuilt        5000 mAh           100W        1  ...   \n",
       "1   6 GB RAM   128 GB inbuilt        5000 mAh            33W        1  ...   \n",
       "2   4 GB RAM    64 GB inbuilt        5000 mAh            15W        1  ...   \n",
       "3   6 GB RAM   128 GB inbuilt        5000 mAh            NaN        1  ...   \n",
       "4   6 GB RAM   128 GB inbuilt        5000 mAh            67W        1  ...   \n",
       "\n",
       "   wifi  ngc  irblaster  display_size  display_resolution  rear_camera  \\\n",
       "0     1    1          0          6.70           1440x3216         50.0   \n",
       "1     1    0          0          6.59           1080x2412         64.0   \n",
       "2     1    0          0          6.60           1080x2408         50.0   \n",
       "3     1    0          0          6.55           1080x2400         50.0   \n",
       "4     1    0          0          6.70           1080x2412        108.0   \n",
       "\n",
       "   front_camera memory_card_supported  rating  price  \n",
       "0          16.0                   0.0    89.0  54999  \n",
       "1          16.0                   1.0    81.0  19989  \n",
       "2          13.0                   1.0    75.0  16499  \n",
       "3          16.0                   1.0    81.0  14999  \n",
       "4          16.0                   0.0    82.0  24999  \n",
       "\n",
       "[5 rows x 23 columns]"
      ]
     },
     "execution_count": 10,
     "metadata": {},
     "output_type": "execute_result"
    }
   ],
   "source": [
    "df.head()"
   ]
  },
  {
   "cell_type": "markdown",
   "id": "c38449dd",
   "metadata": {},
   "source": [
    "### Target column (Price) :"
   ]
  },
  {
   "cell_type": "code",
   "execution_count": 18,
   "id": "ce71f254",
   "metadata": {
    "scrolled": false
   },
   "outputs": [
    {
     "data": {
      "text/plain": [
       "<Axes: xlabel='price'>"
      ]
     },
     "execution_count": 18,
     "metadata": {},
     "output_type": "execute_result"
    },
    {
     "data": {
      "image/png": "[encoded data removed]",
      "text/plain": [
       "<Figure size 1200x400 with 2 Axes>"
      ]
     },
     "metadata": {},
     "output_type": "display_data"
    }
   ],
   "source": [
    "plt.figure(figsize=(12,4))\n",
    "\n",
    "plt.subplot(121)\n",
    "sns.kdeplot(x=df['price'])\n",
    "\n",
    "plt.subplot(122)\n",
    "sns.boxplot(x=df['price'])"
   ]
  },
  {
   "cell_type": "code",
   "execution_count": 39,
   "id": "1239c88d",
   "metadata": {
    "scrolled": false
   },
   "outputs": [
    {
     "data": {
      "text/plain": [
       "(2, 23)"
      ]
     },
     "execution_count": 39,
     "metadata": {},
     "output_type": "execute_result"
    }
   ],
   "source": [
    "df[(df['price']>200000) & (df['price']<300000)].shape"
   ]
  },
  {
   "cell_type": "markdown",
   "id": "1503fa8b",
   "metadata": {},
   "source": [
    "##### Price Observation\n",
    "1. Price > 7,00,000 --- 0\n",
    "2. Price > 6,00,000 --- 1(vertu)\n",
    "3. Price > 5,00,000 --- 0\n",
    "4. Price > 4,00,000 --- 1(xiaomi)\n",
    "5. Price > 3,00,000 --- 0\n",
    "6. Price > 2,00,000 --- 2(huawei)\n",
    "7. Price > 1,50,000 --- 9\n",
    "8. Price > 1,00,000 --- 35"
   ]
  },
  {
   "cell_type": "code",
   "execution_count": 43,
   "id": "7219c9bd",
   "metadata": {},
   "outputs": [],
   "source": [
    "# remove outliers (whose 'Price' > 2,00,000)\n",
    "df = df.drop(df[df['price']>200000].index,axis=0)"
   ]
  },
  {
   "cell_type": "code",
   "execution_count": 44,
   "id": "52059b38",
   "metadata": {},
   "outputs": [
    {
     "data": {
      "text/plain": [
       "(1014, 23)"
      ]
     },
     "execution_count": 44,
     "metadata": {},
     "output_type": "execute_result"
    }
   ],
   "source": [
    "df.shape"
   ]
  },
  {
   "cell_type": "markdown",
   "id": "e980fc7d",
   "metadata": {},
   "source": [
    "### 1. Brand :"
   ]
  },
  {
   "cell_type": "code",
   "execution_count": 45,
   "id": "e80436cf",
   "metadata": {},
   "outputs": [
    {
     "data": {
      "text/html": [
       "<div>\n",
       "<style scoped>\n",
       "    .dataframe tbody tr th:only-of-type {\n",
       "        vertical-align: middle;\n",
       "    }\n",
       "\n",
       "    .dataframe tbody tr th {\n",
       "        vertical-align: top;\n",
       "    }\n",
       "\n",
       "    .dataframe thead th {\n",
       "        text-align: right;\n",
       "    }\n",
       "</style>\n",
       "<table border=\"1\" class=\"dataframe\">\n",
       "  <thead>\n",
       "    <tr style=\"text-align: right;\">\n",
       "      <th></th>\n",
       "      <th>brand</th>\n",
       "      <th>processor_name</th>\n",
       "      <th>processor_cores</th>\n",
       "      <th>processor_speed</th>\n",
       "      <th>os</th>\n",
       "      <th>ram</th>\n",
       "      <th>storage</th>\n",
       "      <th>battery_capacity</th>\n",
       "      <th>battery_power</th>\n",
       "      <th>DualSim</th>\n",
       "      <th>...</th>\n",
       "      <th>wifi</th>\n",
       "      <th>ngc</th>\n",
       "      <th>irblaster</th>\n",
       "      <th>display_size</th>\n",
       "      <th>display_resolution</th>\n",
       "      <th>rear_camera</th>\n",
       "      <th>front_camera</th>\n",
       "      <th>memory_card_supported</th>\n",
       "      <th>rating</th>\n",
       "      <th>price</th>\n",
       "    </tr>\n",
       "  </thead>\n",
       "  <tbody>\n",
       "    <tr>\n",
       "      <th>0</th>\n",
       "      <td>OnePlus</td>\n",
       "      <td>Snapdragon</td>\n",
       "      <td>8.0</td>\n",
       "      <td>3.2</td>\n",
       "      <td>Android v13</td>\n",
       "      <td>12 GB RAM</td>\n",
       "      <td>256 GB inbuilt</td>\n",
       "      <td>5000 mAh</td>\n",
       "      <td>100W</td>\n",
       "      <td>1</td>\n",
       "      <td>...</td>\n",
       "      <td>1</td>\n",
       "      <td>1</td>\n",
       "      <td>0</td>\n",
       "      <td>6.70</td>\n",
       "      <td>1440x3216</td>\n",
       "      <td>50.0</td>\n",
       "      <td>16.0</td>\n",
       "      <td>0.0</td>\n",
       "      <td>89.0</td>\n",
       "      <td>54999</td>\n",
       "    </tr>\n",
       "    <tr>\n",
       "      <th>1</th>\n",
       "      <td>OnePlus</td>\n",
       "      <td>Snapdragon</td>\n",
       "      <td>8.0</td>\n",
       "      <td>2.2</td>\n",
       "      <td>Android v12</td>\n",
       "      <td>6 GB RAM</td>\n",
       "      <td>128 GB inbuilt</td>\n",
       "      <td>5000 mAh</td>\n",
       "      <td>33W</td>\n",
       "      <td>1</td>\n",
       "      <td>...</td>\n",
       "      <td>1</td>\n",
       "      <td>0</td>\n",
       "      <td>0</td>\n",
       "      <td>6.59</td>\n",
       "      <td>1080x2412</td>\n",
       "      <td>64.0</td>\n",
       "      <td>16.0</td>\n",
       "      <td>1.0</td>\n",
       "      <td>81.0</td>\n",
       "      <td>19989</td>\n",
       "    </tr>\n",
       "    <tr>\n",
       "      <th>2</th>\n",
       "      <td>Samsung</td>\n",
       "      <td>Exynos</td>\n",
       "      <td>8.0</td>\n",
       "      <td>2.4</td>\n",
       "      <td>Android v13</td>\n",
       "      <td>4 GB RAM</td>\n",
       "      <td>64 GB inbuilt</td>\n",
       "      <td>5000 mAh</td>\n",
       "      <td>15W</td>\n",
       "      <td>1</td>\n",
       "      <td>...</td>\n",
       "      <td>1</td>\n",
       "      <td>0</td>\n",
       "      <td>0</td>\n",
       "      <td>6.60</td>\n",
       "      <td>1080x2408</td>\n",
       "      <td>50.0</td>\n",
       "      <td>13.0</td>\n",
       "      <td>1.0</td>\n",
       "      <td>75.0</td>\n",
       "      <td>16499</td>\n",
       "    </tr>\n",
       "    <tr>\n",
       "      <th>3</th>\n",
       "      <td>Motorola</td>\n",
       "      <td>Snapdragon</td>\n",
       "      <td>8.0</td>\n",
       "      <td>2.2</td>\n",
       "      <td>Android v12</td>\n",
       "      <td>6 GB RAM</td>\n",
       "      <td>128 GB inbuilt</td>\n",
       "      <td>5000 mAh</td>\n",
       "      <td>NaN</td>\n",
       "      <td>1</td>\n",
       "      <td>...</td>\n",
       "      <td>1</td>\n",
       "      <td>0</td>\n",
       "      <td>0</td>\n",
       "      <td>6.55</td>\n",
       "      <td>1080x2400</td>\n",
       "      <td>50.0</td>\n",
       "      <td>16.0</td>\n",
       "      <td>1.0</td>\n",
       "      <td>81.0</td>\n",
       "      <td>14999</td>\n",
       "    </tr>\n",
       "    <tr>\n",
       "      <th>4</th>\n",
       "      <td>Realme</td>\n",
       "      <td>Dimensity</td>\n",
       "      <td>8.0</td>\n",
       "      <td>2.6</td>\n",
       "      <td>Android v13</td>\n",
       "      <td>6 GB RAM</td>\n",
       "      <td>128 GB inbuilt</td>\n",
       "      <td>5000 mAh</td>\n",
       "      <td>67W</td>\n",
       "      <td>1</td>\n",
       "      <td>...</td>\n",
       "      <td>1</td>\n",
       "      <td>0</td>\n",
       "      <td>0</td>\n",
       "      <td>6.70</td>\n",
       "      <td>1080x2412</td>\n",
       "      <td>108.0</td>\n",
       "      <td>16.0</td>\n",
       "      <td>0.0</td>\n",
       "      <td>82.0</td>\n",
       "      <td>24999</td>\n",
       "    </tr>\n",
       "  </tbody>\n",
       "</table>\n",
       "<p>5 rows × 23 columns</p>\n",
       "</div>"
      ],
      "text/plain": [
       "      brand processor_name  processor_cores processor_speed           os  \\\n",
       "0   OnePlus     Snapdragon              8.0            3.2   Android v13   \n",
       "1   OnePlus     Snapdragon              8.0            2.2   Android v12   \n",
       "2   Samsung         Exynos              8.0            2.4   Android v13   \n",
       "3  Motorola     Snapdragon              8.0            2.2   Android v12   \n",
       "4    Realme      Dimensity              8.0            2.6   Android v13   \n",
       "\n",
       "         ram          storage battery_capacity battery_power  DualSim  ...  \\\n",
       "0  12 GB RAM   256 GB inbuilt        5000 mAh           100W        1  ...   \n",
       "1   6 GB RAM   128 GB inbuilt        5000 mAh            33W        1  ...   \n",
       "2   4 GB RAM    64 GB inbuilt        5000 mAh            15W        1  ...   \n",
       "3   6 GB RAM   128 GB inbuilt        5000 mAh            NaN        1  ...   \n",
       "4   6 GB RAM   128 GB inbuilt        5000 mAh            67W        1  ...   \n",
       "\n",
       "   wifi  ngc  irblaster  display_size  display_resolution  rear_camera  \\\n",
       "0     1    1          0          6.70           1440x3216         50.0   \n",
       "1     1    0          0          6.59           1080x2412         64.0   \n",
       "2     1    0          0          6.60           1080x2408         50.0   \n",
       "3     1    0          0          6.55           1080x2400         50.0   \n",
       "4     1    0          0          6.70           1080x2412        108.0   \n",
       "\n",
       "   front_camera memory_card_supported  rating  price  \n",
       "0          16.0                   0.0    89.0  54999  \n",
       "1          16.0                   1.0    81.0  19989  \n",
       "2          13.0                   1.0    75.0  16499  \n",
       "3          16.0                   1.0    81.0  14999  \n",
       "4          16.0                   0.0    82.0  24999  \n",
       "\n",
       "[5 rows x 23 columns]"
      ]
     },
     "execution_count": 45,
     "metadata": {},
     "output_type": "execute_result"
    }
   ],
   "source": [
    "df.head()"
   ]
  },
  {
   "cell_type": "code",
   "execution_count": 48,
   "id": "030919aa",
   "metadata": {},
   "outputs": [
    {
     "data": {
      "text/plain": [
       "52"
      ]
     },
     "execution_count": 48,
     "metadata": {},
     "output_type": "execute_result"
    }
   ],
   "source": [
    "len(df['brand'].unique())"
   ]
  },
  {
   "cell_type": "code",
   "execution_count": 49,
   "id": "ac6ae5fa",
   "metadata": {},
   "outputs": [
    {
     "data": {
      "image/png": "[encoded data removed]",
      "text/plain": [
       "<Figure size 1200x400 with 1 Axes>"
      ]
     },
     "metadata": {},
     "output_type": "display_data"
    }
   ],
   "source": [
    "plt.figure(figsize=(12,4))\n",
    "df['brand'].value_counts().plot(kind='bar')\n",
    "plt.show()"
   ]
  },
  {
   "cell_type": "code",
   "execution_count": 50,
   "id": "82915a1a",
   "metadata": {},
   "outputs": [],
   "source": [
    "# 'OTHERS' category for smartphone \n",
    "main=['Xiaomi', 'Samsung', 'Vivo', 'Realme', 'OPPO', 'Motorola', 'Apple',\n",
    "       'OnePlus', 'POCO', 'Tecno', 'iQOO', 'Nokia', 'Infinix','Huawei']\n",
    "df['brand'] = df['brand'].apply(lambda x:x if x in main else 'Others')"
   ]
  },
  {
   "cell_type": "code",
   "execution_count": 51,
   "id": "1f9e94cb",
   "metadata": {},
   "outputs": [
    {
     "data": {
      "text/plain": [
       "array(['OnePlus', 'Samsung', 'Motorola', 'Realme', 'Apple', 'Xiaomi',\n",
       "       'Others', 'OPPO', 'Vivo', 'POCO', 'iQOO', 'Tecno', 'Infinix',\n",
       "       'Nokia', 'Huawei'], dtype=object)"
      ]
     },
     "execution_count": 51,
     "metadata": {},
     "output_type": "execute_result"
    }
   ],
   "source": [
    "df['brand'].unique()"
   ]
  },
  {
   "cell_type": "code",
   "execution_count": 52,
   "id": "0c6cc27c",
   "metadata": {},
   "outputs": [
    {
     "data": {
      "image/png": "[encoded data removed]",
      "text/plain": [
       "<Figure size 1200x400 with 1 Axes>"
      ]
     },
     "metadata": {},
     "output_type": "display_data"
    }
   ],
   "source": [
    "plt.figure(figsize=(12,4))\n",
    "df['brand'].value_counts().plot(kind='bar')\n",
    "plt.show()"
   ]
  },
  {
   "cell_type": "code",
   "execution_count": 56,
   "id": "c993775e",
   "metadata": {},
   "outputs": [
    {
     "data": {
      "image/png": "[encoded data removed]",
      "text/plain": [
       "<Figure size 1200x400 with 1 Axes>"
      ]
     },
     "metadata": {},
     "output_type": "display_data"
    }
   ],
   "source": [
    "# 'price' and 'brand'\n",
    "plt.figure(figsize=(12,4))\n",
    "sns.barplot(x=df.brand, y=df.price)\n",
    "plt.xticks(rotation='vertical')\n",
    "plt.show()"
   ]
  },
  {
   "cell_type": "markdown",
   "id": "c5aa7e0c",
   "metadata": {},
   "source": [
    "### 2. Processor :"
   ]
  },
  {
   "cell_type": "code",
   "execution_count": 59,
   "id": "f5219759",
   "metadata": {},
   "outputs": [
    {
     "name": "stdout",
     "output_type": "stream",
     "text": [
      "53\n",
      "40\n",
      "89\n"
     ]
    }
   ],
   "source": [
    "# missing values of processor columns\n",
    "print(df['processor_name'].isnull().sum())\n",
    "print(df['processor_cores'].isnull().sum())\n",
    "print(df['processor_speed'].isnull().sum())"
   ]
  },
  {
   "cell_type": "markdown",
   "id": "dfad4e1e",
   "metadata": {},
   "source": [
    "#### A. processor_name"
   ]
  },
  {
   "cell_type": "code",
   "execution_count": 71,
   "id": "275ede1b",
   "metadata": {},
   "outputs": [
    {
     "name": "stdout",
     "output_type": "stream",
     "text": [
      "processor_name\n",
      "Snapdragon    414\n",
      "Helio         202\n",
      "Dimensity     175\n",
      "Exynos         50\n",
      "Bionic         46\n",
      "Unisoc         35\n",
      "Tiger          24\n",
      "Google          9\n",
      "Kirin           6\n",
      "Name: count, dtype: int64\n"
     ]
    },
    {
     "data": {
      "image/png": "[encoded data removed]",
      "text/plain": [
       "<Figure size 1200x500 with 1 Axes>"
      ]
     },
     "metadata": {},
     "output_type": "display_data"
    }
   ],
   "source": [
    "plt.figure(figsize=(12,5))\n",
    "print(df['processor_name'].value_counts())\n",
    "df['processor_name'].value_counts().plot(kind='bar')\n",
    "plt.show()"
   ]
  },
  {
   "cell_type": "code",
   "execution_count": 69,
   "id": "c8213a4b",
   "metadata": {},
   "outputs": [],
   "source": [
    "# since 'Apple' brand have 'Bionic' processors\n",
    "df['processor_name'] = df['processor_name'].str.replace('Fusion','Bionic')"
   ]
  },
  {
   "cell_type": "code",
   "execution_count": 78,
   "id": "46e24d24",
   "metadata": {},
   "outputs": [
    {
     "data": {
      "image/png": "[encoded data removed]",
      "text/plain": [
       "<Figure size 1200x400 with 1 Axes>"
      ]
     },
     "metadata": {},
     "output_type": "display_data"
    }
   ],
   "source": [
    "# price and processor_name\n",
    "# 'price' and 'brand'\n",
    "plt.figure(figsize=(12,4))\n",
    "sns.barplot(x=df.processor_name, y=df.price)\n",
    "plt.xticks(rotation='vertical')\n",
    "plt.show()"
   ]
  },
  {
   "cell_type": "code",
   "execution_count": 74,
   "id": "77b0b346",
   "metadata": {
    "scrolled": false
   },
   "outputs": [
    {
     "data": {
      "text/plain": [
       "array(['Others', 'Samsung', 'Nokia', 'Motorola', 'Apple', 'Tecno',\n",
       "       'Huawei'], dtype=object)"
      ]
     },
     "execution_count": 74,
     "metadata": {},
     "output_type": "execute_result"
    }
   ],
   "source": [
    "# brands have missing processor_names\n",
    "df[df['processor_name'].isnull()==True]['brand'].unique()"
   ]
  },
  {
   "cell_type": "code",
   "execution_count": 135,
   "id": "c1a8b22a",
   "metadata": {},
   "outputs": [
    {
     "data": {
      "text/html": [
       "<div>\n",
       "<style scoped>\n",
       "    .dataframe tbody tr th:only-of-type {\n",
       "        vertical-align: middle;\n",
       "    }\n",
       "\n",
       "    .dataframe tbody tr th {\n",
       "        vertical-align: top;\n",
       "    }\n",
       "\n",
       "    .dataframe thead th {\n",
       "        text-align: right;\n",
       "    }\n",
       "</style>\n",
       "<table border=\"1\" class=\"dataframe\">\n",
       "  <thead>\n",
       "    <tr style=\"text-align: right;\">\n",
       "      <th></th>\n",
       "      <th>brand</th>\n",
       "      <th>processor_name</th>\n",
       "      <th>0</th>\n",
       "    </tr>\n",
       "  </thead>\n",
       "  <tbody>\n",
       "    <tr>\n",
       "      <th>0</th>\n",
       "      <td>Apple</td>\n",
       "      <td>Bionic</td>\n",
       "      <td>47</td>\n",
       "    </tr>\n",
       "    <tr>\n",
       "      <th>1</th>\n",
       "      <td>Huawei</td>\n",
       "      <td>Kirin</td>\n",
       "      <td>7</td>\n",
       "    </tr>\n",
       "    <tr>\n",
       "      <th>2</th>\n",
       "      <td>Huawei</td>\n",
       "      <td>Snapdragon</td>\n",
       "      <td>7</td>\n",
       "    </tr>\n",
       "    <tr>\n",
       "      <th>3</th>\n",
       "      <td>Infinix</td>\n",
       "      <td>Dimensity</td>\n",
       "      <td>6</td>\n",
       "    </tr>\n",
       "    <tr>\n",
       "      <th>4</th>\n",
       "      <td>Infinix</td>\n",
       "      <td>Helio</td>\n",
       "      <td>20</td>\n",
       "    </tr>\n",
       "    <tr>\n",
       "      <th>5</th>\n",
       "      <td>Infinix</td>\n",
       "      <td>Tiger</td>\n",
       "      <td>3</td>\n",
       "    </tr>\n",
       "    <tr>\n",
       "      <th>6</th>\n",
       "      <td>Motorola</td>\n",
       "      <td>Dimensity</td>\n",
       "      <td>2</td>\n",
       "    </tr>\n",
       "    <tr>\n",
       "      <th>7</th>\n",
       "      <td>Motorola</td>\n",
       "      <td>Helio</td>\n",
       "      <td>11</td>\n",
       "    </tr>\n",
       "    <tr>\n",
       "      <th>8</th>\n",
       "      <td>Motorola</td>\n",
       "      <td>Snapdragon</td>\n",
       "      <td>38</td>\n",
       "    </tr>\n",
       "    <tr>\n",
       "      <th>9</th>\n",
       "      <td>Motorola</td>\n",
       "      <td>Tiger</td>\n",
       "      <td>2</td>\n",
       "    </tr>\n",
       "    <tr>\n",
       "      <th>10</th>\n",
       "      <td>Nokia</td>\n",
       "      <td>Snapdragon</td>\n",
       "      <td>22</td>\n",
       "    </tr>\n",
       "    <tr>\n",
       "      <th>11</th>\n",
       "      <td>Nokia</td>\n",
       "      <td>Unisoc</td>\n",
       "      <td>8</td>\n",
       "    </tr>\n",
       "    <tr>\n",
       "      <th>12</th>\n",
       "      <td>OPPO</td>\n",
       "      <td>Dimensity</td>\n",
       "      <td>22</td>\n",
       "    </tr>\n",
       "    <tr>\n",
       "      <th>13</th>\n",
       "      <td>OPPO</td>\n",
       "      <td>Helio</td>\n",
       "      <td>23</td>\n",
       "    </tr>\n",
       "    <tr>\n",
       "      <th>14</th>\n",
       "      <td>OPPO</td>\n",
       "      <td>Snapdragon</td>\n",
       "      <td>42</td>\n",
       "    </tr>\n",
       "    <tr>\n",
       "      <th>15</th>\n",
       "      <td>OnePlus</td>\n",
       "      <td>Dimensity</td>\n",
       "      <td>11</td>\n",
       "    </tr>\n",
       "    <tr>\n",
       "      <th>16</th>\n",
       "      <td>OnePlus</td>\n",
       "      <td>Snapdragon</td>\n",
       "      <td>31</td>\n",
       "    </tr>\n",
       "    <tr>\n",
       "      <th>17</th>\n",
       "      <td>Others</td>\n",
       "      <td>Dimensity</td>\n",
       "      <td>7</td>\n",
       "    </tr>\n",
       "    <tr>\n",
       "      <th>18</th>\n",
       "      <td>Others</td>\n",
       "      <td>Google</td>\n",
       "      <td>9</td>\n",
       "    </tr>\n",
       "    <tr>\n",
       "      <th>19</th>\n",
       "      <td>Others</td>\n",
       "      <td>Helio</td>\n",
       "      <td>14</td>\n",
       "    </tr>\n",
       "    <tr>\n",
       "      <th>20</th>\n",
       "      <td>Others</td>\n",
       "      <td>Snapdragon</td>\n",
       "      <td>79</td>\n",
       "    </tr>\n",
       "    <tr>\n",
       "      <th>21</th>\n",
       "      <td>Others</td>\n",
       "      <td>Tiger</td>\n",
       "      <td>6</td>\n",
       "    </tr>\n",
       "    <tr>\n",
       "      <th>22</th>\n",
       "      <td>Others</td>\n",
       "      <td>Unisoc</td>\n",
       "      <td>12</td>\n",
       "    </tr>\n",
       "    <tr>\n",
       "      <th>23</th>\n",
       "      <td>POCO</td>\n",
       "      <td>Dimensity</td>\n",
       "      <td>14</td>\n",
       "    </tr>\n",
       "    <tr>\n",
       "      <th>24</th>\n",
       "      <td>POCO</td>\n",
       "      <td>Helio</td>\n",
       "      <td>11</td>\n",
       "    </tr>\n",
       "    <tr>\n",
       "      <th>25</th>\n",
       "      <td>POCO</td>\n",
       "      <td>Snapdragon</td>\n",
       "      <td>16</td>\n",
       "    </tr>\n",
       "    <tr>\n",
       "      <th>26</th>\n",
       "      <td>Realme</td>\n",
       "      <td>Dimensity</td>\n",
       "      <td>27</td>\n",
       "    </tr>\n",
       "    <tr>\n",
       "      <th>27</th>\n",
       "      <td>Realme</td>\n",
       "      <td>Helio</td>\n",
       "      <td>16</td>\n",
       "    </tr>\n",
       "    <tr>\n",
       "      <th>28</th>\n",
       "      <td>Realme</td>\n",
       "      <td>Snapdragon</td>\n",
       "      <td>32</td>\n",
       "    </tr>\n",
       "    <tr>\n",
       "      <th>29</th>\n",
       "      <td>Realme</td>\n",
       "      <td>Tiger</td>\n",
       "      <td>13</td>\n",
       "    </tr>\n",
       "    <tr>\n",
       "      <th>30</th>\n",
       "      <td>Realme</td>\n",
       "      <td>Unisoc</td>\n",
       "      <td>9</td>\n",
       "    </tr>\n",
       "    <tr>\n",
       "      <th>31</th>\n",
       "      <td>Samsung</td>\n",
       "      <td>Dimensity</td>\n",
       "      <td>11</td>\n",
       "    </tr>\n",
       "    <tr>\n",
       "      <th>32</th>\n",
       "      <td>Samsung</td>\n",
       "      <td>Exynos</td>\n",
       "      <td>65</td>\n",
       "    </tr>\n",
       "    <tr>\n",
       "      <th>33</th>\n",
       "      <td>Samsung</td>\n",
       "      <td>Helio</td>\n",
       "      <td>20</td>\n",
       "    </tr>\n",
       "    <tr>\n",
       "      <th>34</th>\n",
       "      <td>Samsung</td>\n",
       "      <td>Snapdragon</td>\n",
       "      <td>36</td>\n",
       "    </tr>\n",
       "    <tr>\n",
       "      <th>35</th>\n",
       "      <td>Samsung</td>\n",
       "      <td>Unisoc</td>\n",
       "      <td>3</td>\n",
       "    </tr>\n",
       "    <tr>\n",
       "      <th>36</th>\n",
       "      <td>Tecno</td>\n",
       "      <td>Dimensity</td>\n",
       "      <td>6</td>\n",
       "    </tr>\n",
       "    <tr>\n",
       "      <th>37</th>\n",
       "      <td>Tecno</td>\n",
       "      <td>Helio</td>\n",
       "      <td>24</td>\n",
       "    </tr>\n",
       "    <tr>\n",
       "      <th>38</th>\n",
       "      <td>Tecno</td>\n",
       "      <td>Unisoc</td>\n",
       "      <td>3</td>\n",
       "    </tr>\n",
       "    <tr>\n",
       "      <th>39</th>\n",
       "      <td>Vivo</td>\n",
       "      <td>Dimensity</td>\n",
       "      <td>32</td>\n",
       "    </tr>\n",
       "    <tr>\n",
       "      <th>40</th>\n",
       "      <td>Vivo</td>\n",
       "      <td>Helio</td>\n",
       "      <td>31</td>\n",
       "    </tr>\n",
       "    <tr>\n",
       "      <th>41</th>\n",
       "      <td>Vivo</td>\n",
       "      <td>Snapdragon</td>\n",
       "      <td>48</td>\n",
       "    </tr>\n",
       "    <tr>\n",
       "      <th>42</th>\n",
       "      <td>Xiaomi</td>\n",
       "      <td>Dimensity</td>\n",
       "      <td>35</td>\n",
       "    </tr>\n",
       "    <tr>\n",
       "      <th>43</th>\n",
       "      <td>Xiaomi</td>\n",
       "      <td>Helio</td>\n",
       "      <td>33</td>\n",
       "    </tr>\n",
       "    <tr>\n",
       "      <th>44</th>\n",
       "      <td>Xiaomi</td>\n",
       "      <td>Snapdragon</td>\n",
       "      <td>68</td>\n",
       "    </tr>\n",
       "    <tr>\n",
       "      <th>45</th>\n",
       "      <td>iQOO</td>\n",
       "      <td>Dimensity</td>\n",
       "      <td>2</td>\n",
       "    </tr>\n",
       "    <tr>\n",
       "      <th>46</th>\n",
       "      <td>iQOO</td>\n",
       "      <td>Snapdragon</td>\n",
       "      <td>30</td>\n",
       "    </tr>\n",
       "  </tbody>\n",
       "</table>\n",
       "</div>"
      ],
      "text/plain": [
       "       brand processor_name   0\n",
       "0      Apple         Bionic  47\n",
       "1     Huawei          Kirin   7\n",
       "2     Huawei     Snapdragon   7\n",
       "3    Infinix      Dimensity   6\n",
       "4    Infinix          Helio  20\n",
       "5    Infinix          Tiger   3\n",
       "6   Motorola      Dimensity   2\n",
       "7   Motorola          Helio  11\n",
       "8   Motorola     Snapdragon  38\n",
       "9   Motorola          Tiger   2\n",
       "10     Nokia     Snapdragon  22\n",
       "11     Nokia         Unisoc   8\n",
       "12      OPPO      Dimensity  22\n",
       "13      OPPO          Helio  23\n",
       "14      OPPO     Snapdragon  42\n",
       "15   OnePlus      Dimensity  11\n",
       "16   OnePlus     Snapdragon  31\n",
       "17    Others      Dimensity   7\n",
       "18    Others         Google   9\n",
       "19    Others          Helio  14\n",
       "20    Others     Snapdragon  79\n",
       "21    Others          Tiger   6\n",
       "22    Others         Unisoc  12\n",
       "23      POCO      Dimensity  14\n",
       "24      POCO          Helio  11\n",
       "25      POCO     Snapdragon  16\n",
       "26    Realme      Dimensity  27\n",
       "27    Realme          Helio  16\n",
       "28    Realme     Snapdragon  32\n",
       "29    Realme          Tiger  13\n",
       "30    Realme         Unisoc   9\n",
       "31   Samsung      Dimensity  11\n",
       "32   Samsung         Exynos  65\n",
       "33   Samsung          Helio  20\n",
       "34   Samsung     Snapdragon  36\n",
       "35   Samsung         Unisoc   3\n",
       "36     Tecno      Dimensity   6\n",
       "37     Tecno          Helio  24\n",
       "38     Tecno         Unisoc   3\n",
       "39      Vivo      Dimensity  32\n",
       "40      Vivo          Helio  31\n",
       "41      Vivo     Snapdragon  48\n",
       "42    Xiaomi      Dimensity  35\n",
       "43    Xiaomi          Helio  33\n",
       "44    Xiaomi     Snapdragon  68\n",
       "45      iQOO      Dimensity   2\n",
       "46      iQOO     Snapdragon  30"
      ]
     },
     "execution_count": 135,
     "metadata": {},
     "output_type": "execute_result"
    }
   ],
   "source": [
    "df.groupby(by=['brand','processor_name']).size().reset_index()"
   ]
  },
  {
   "cell_type": "markdown",
   "id": "8fd1f7be",
   "metadata": {},
   "source": [
    "##### Processor_name Observation\n",
    "\n",
    "1. Apple ---- 'Bionic'\n",
    "2. Samsung ---- 'Exynos'\n",
    "3. Nokia ---- 'Snapdragon'\n",
    "4. Motorola ---- 'Snapdragon'\n",
    "5. Tecno ---- 'Helio'\n",
    "6. Huawei ---- 'Kirin'"
   ]
  },
  {
   "cell_type": "code",
   "execution_count": 99,
   "id": "d20f266c",
   "metadata": {
    "scrolled": false
   },
   "outputs": [
    {
     "data": {
      "text/plain": [
       "array(['Snapdragon', 'Exynos', 'Dimensity', 'Bionic', 'Helio', 'Unisoc',\n",
       "       'Tiger', 'None', 'Google', 'Kirin'], dtype=object)"
      ]
     },
     "execution_count": 99,
     "metadata": {},
     "output_type": "execute_result"
    }
   ],
   "source": [
    "# processor_name missing values Imputation\n",
    "df['processor_name'] = df['processor_name'].fillna('None')"
   ]
  },
  {
   "cell_type": "code",
   "execution_count": 128,
   "id": "418edfe5",
   "metadata": {},
   "outputs": [],
   "source": [
    "import warnings\n",
    "warnings.filterwarnings('ignore')\n",
    "for i,word in enumerate(df['processor_name']):\n",
    "    if word=='None':\n",
    "        if df['brand'].iloc[i]=='Apple':\n",
    "            df['processor_name'].iloc[i]='Bionic'\n",
    "        elif df['brand'].iloc[i]=='Samsung':\n",
    "            df['processor_name'].iloc[i]='Exynos'\n",
    "        elif df['brand'].iloc[i] in ['Nokia', 'Motorola','Others']:\n",
    "            df['processor_name'].iloc[i]='Snapdragon'\n",
    "        elif df['brand'].iloc[i]=='Tecno':\n",
    "            df['processor_name'].iloc[i]='Helio'\n",
    "        elif df['brand'].iloc[i]=='Huawei':\n",
    "            df['processor_name'].iloc[i]='Kirin'"
   ]
  },
  {
   "cell_type": "code",
   "execution_count": 131,
   "id": "7a48ed58",
   "metadata": {
    "scrolled": false
   },
   "outputs": [
    {
     "name": "stdout",
     "output_type": "stream",
     "text": [
      "processor_name\n",
      "Snapdragon    449\n",
      "Helio         203\n",
      "Dimensity     175\n",
      "Exynos         65\n",
      "Bionic         47\n",
      "Unisoc         35\n",
      "Tiger          24\n",
      "Google          9\n",
      "Kirin           7\n",
      "Name: count, dtype: int64\n"
     ]
    },
    {
     "data": {
      "image/png": "[encoded data removed]",
      "text/plain": [
       "<Figure size 1200x500 with 1 Axes>"
      ]
     },
     "metadata": {},
     "output_type": "display_data"
    }
   ],
   "source": [
    "plt.figure(figsize=(12,5))\n",
    "print(df['processor_name'].value_counts())\n",
    "df['processor_name'].value_counts().plot(kind='bar')\n",
    "plt.show()"
   ]
  },
  {
   "cell_type": "code",
   "execution_count": 133,
   "id": "d355dde7",
   "metadata": {},
   "outputs": [
    {
     "data": {
      "text/plain": [
       "1014"
      ]
     },
     "execution_count": 133,
     "metadata": {},
     "output_type": "execute_result"
    }
   ],
   "source": [
    "df.groupby(by=['brand','processor_name']).size().reset_index()[0].sum()"
   ]
  },
  {
   "cell_type": "markdown",
   "id": "1b8fd884",
   "metadata": {},
   "source": [
    "#### B. processor_cores"
   ]
  },
  {
   "cell_type": "code",
   "execution_count": 137,
   "id": "939a1a1e",
   "metadata": {},
   "outputs": [
    {
     "name": "stdout",
     "output_type": "stream",
     "text": [
      "processor_cores\n",
      "8.0    893\n",
      "6.0     39\n",
      "4.0     39\n",
      "2.0      2\n",
      "1.0      1\n",
      "Name: count, dtype: int64\n"
     ]
    },
    {
     "data": {
      "image/png": "[encoded data removed]",
      "text/plain": [
       "<Figure size 1200x500 with 1 Axes>"
      ]
     },
     "metadata": {},
     "output_type": "display_data"
    }
   ],
   "source": [
    "plt.figure(figsize=(12,5))\n",
    "print(df['processor_cores'].value_counts())\n",
    "df['processor_cores'].value_counts().plot(kind='bar')\n",
    "plt.show()"
   ]
  },
  {
   "cell_type": "code",
   "execution_count": 146,
   "id": "7b127568",
   "metadata": {},
   "outputs": [
    {
     "data": {
      "text/plain": [
       "array(['Apple'], dtype=object)"
      ]
     },
     "execution_count": 146,
     "metadata": {},
     "output_type": "execute_result"
    }
   ],
   "source": [
    "df[df['processor_cores']==6.0]['brand'].unique()"
   ]
  },
  {
   "cell_type": "code",
   "execution_count": 149,
   "id": "6c94bdb3",
   "metadata": {},
   "outputs": [
    {
     "data": {
      "text/plain": [
       "brand\n",
       "Nokia       15\n",
       "Others      14\n",
       "Apple        6\n",
       "Samsung      3\n",
       "Motorola     1\n",
       "Xiaomi       1\n",
       "Name: count, dtype: int64"
      ]
     },
     "execution_count": 149,
     "metadata": {},
     "output_type": "execute_result"
    }
   ],
   "source": [
    "# brands whose processor_cores are missing\n",
    "df[df['processor_cores'].isnull()==True]['brand'].value_counts()"
   ]
  },
  {
   "cell_type": "code",
   "execution_count": 152,
   "id": "08c7aa95",
   "metadata": {},
   "outputs": [],
   "source": [
    "# processor_cores missing values imputation\n",
    "df['processor_cores'] = df['processor_cores'].fillna(8.0)"
   ]
  },
  {
   "cell_type": "markdown",
   "id": "b407f24e",
   "metadata": {},
   "source": [
    "#### C. processor_speed:"
   ]
  },
  {
   "cell_type": "code",
   "execution_count": null,
   "id": "1aa6c02b",
   "metadata": {},
   "outputs": [],
   "source": [
    "df['processor_speed']"
   ]
  },
  {
   "cell_type": "code",
   "execution_count": 158,
   "id": "7c286eae",
   "metadata": {},
   "outputs": [],
   "source": [
    "# plt.figure(figsize=(7,4))\n",
    "# df['processor_speed'].plot(kind='kde')\n",
    "# plt.show()"
   ]
  },
  {
   "cell_type": "code",
   "execution_count": 156,
   "id": "ded03ee4",
   "metadata": {},
   "outputs": [
    {
     "data": {
      "text/plain": [
       "array([' 3.2\\u2009', ' 2.2\\u2009', ' 2.4\\u2009', ' 2.6\\u2009',\n",
       "       ' 3.22\\u2009', ' 2.5\\u2009', ' 3\\u2009', ' 2.3\\u2009',\n",
       "       ' 2.85\\u2009', ' 2\\u2009', ' 2.84\\u2009', nan, ' 2.65\\u2009',\n",
       "       ' 2.9\\u2009', ' 2.36\\u2009', ' 1.8\\u2009', ' 3.1\\u2009',\n",
       "       ' 2.05\\u2009', ' 3.05\\u2009', ' 1.3\\u2009', ' 1.82\\u2009',\n",
       "       ' 1.1\\u2009', ' 2.8\\u2009', ' 1.6\\u2009', ' 2.73\\u2009',\n",
       "       ' 2.7\\u2009', ' 2.96\\u2009', ' 1.5\\u2009', ' 1.4\\u2009',\n",
       "       ' 2.35\\u2009', ' 2.37\\u2009', ' 3.13\\u2009', ' 1.99\\u2009',\n",
       "       ' 2.86\\u2009', ' 1.95\\u2009', ' 2.1\\u2009', ' 1.2\\u2009'],\n",
       "      dtype=object)"
      ]
     },
     "execution_count": 156,
     "metadata": {},
     "output_type": "execute_result"
    }
   ],
   "source": [
    "df['processor_speed'].unique()"
   ]
  },
  {
   "cell_type": "code",
   "execution_count": null,
   "id": "ff99b0be",
   "metadata": {},
   "outputs": [],
   "source": []
  }
 ],
 "metadata": {
  "kernelspec": {
   "display_name": "Python 3 (ipykernel)",
   "language": "python",
   "name": "python3"
  },
  "language_info": {
   "codemirror_mode": {
    "name": "ipython",
    "version": 3
   },
   "file_extension": ".py",
   "mimetype": "text/x-python",
   "name": "python",
   "nbconvert_exporter": "python",
   "pygments_lexer": "ipython3",
   "version": "3.11.5"
  }
 },
 "nbformat": 4,
 "nbformat_minor": 5
}
