{
 "cells": [
  {
   "cell_type": "code",
   "execution_count": 1,
   "id": "8d6ad742",
   "metadata": {},
   "outputs": [],
   "source": [
    "import pandas as pd \n",
    "import numpy as np\n",
    "import matplotlib.pyplot as plt\n",
    "import seaborn as sns"
   ]
  },
  {
   "cell_type": "code",
   "execution_count": 2,
   "id": "cb0eeb3a",
   "metadata": {},
   "outputs": [],
   "source": [
    "df = pd.read_csv('clean_smartphones.csv')"
   ]
  },
  {
   "cell_type": "code",
   "execution_count": 3,
   "id": "7d67b2a8",
   "metadata": {},
   "outputs": [
    {
     "data": {
      "text/html": [
       "<div>\n",
       "<style scoped>\n",
       "    .dataframe tbody tr th:only-of-type {\n",
       "        vertical-align: middle;\n",
       "    }\n",
       "\n",
       "    .dataframe tbody tr th {\n",
       "        vertical-align: top;\n",
       "    }\n",
       "\n",
       "    .dataframe thead th {\n",
       "        text-align: right;\n",
       "    }\n",
       "</style>\n",
       "<table border=\"1\" class=\"dataframe\">\n",
       "  <thead>\n",
       "    <tr style=\"text-align: right;\">\n",
       "      <th></th>\n",
       "      <th>brand</th>\n",
       "      <th>processor_name</th>\n",
       "      <th>processor_cores</th>\n",
       "      <th>processor_speed</th>\n",
       "      <th>os</th>\n",
       "      <th>ram</th>\n",
       "      <th>storage</th>\n",
       "      <th>battery_capacity</th>\n",
       "      <th>battery_power</th>\n",
       "      <th>DualSim</th>\n",
       "      <th>...</th>\n",
       "      <th>wifi</th>\n",
       "      <th>ngc</th>\n",
       "      <th>irblaster</th>\n",
       "      <th>display_size</th>\n",
       "      <th>display_resolution</th>\n",
       "      <th>rear_camera</th>\n",
       "      <th>front_camera</th>\n",
       "      <th>memory_card_supported</th>\n",
       "      <th>rating</th>\n",
       "      <th>price</th>\n",
       "    </tr>\n",
       "  </thead>\n",
       "  <tbody>\n",
       "    <tr>\n",
       "      <th>0</th>\n",
       "      <td>OnePlus</td>\n",
       "      <td>Snapdragon</td>\n",
       "      <td>8.0</td>\n",
       "      <td>3.2</td>\n",
       "      <td>Android v13</td>\n",
       "      <td>12 GB RAM</td>\n",
       "      <td>256 GB inbuilt</td>\n",
       "      <td>5000 mAh</td>\n",
       "      <td>100W</td>\n",
       "      <td>1</td>\n",
       "      <td>...</td>\n",
       "      <td>1</td>\n",
       "      <td>1</td>\n",
       "      <td>0</td>\n",
       "      <td>6.70</td>\n",
       "      <td>1440x3216</td>\n",
       "      <td>50.0</td>\n",
       "      <td>16.0</td>\n",
       "      <td>0.0</td>\n",
       "      <td>89.0</td>\n",
       "      <td>54999</td>\n",
       "    </tr>\n",
       "    <tr>\n",
       "      <th>1</th>\n",
       "      <td>OnePlus</td>\n",
       "      <td>Snapdragon</td>\n",
       "      <td>8.0</td>\n",
       "      <td>2.2</td>\n",
       "      <td>Android v12</td>\n",
       "      <td>6 GB RAM</td>\n",
       "      <td>128 GB inbuilt</td>\n",
       "      <td>5000 mAh</td>\n",
       "      <td>33W</td>\n",
       "      <td>1</td>\n",
       "      <td>...</td>\n",
       "      <td>1</td>\n",
       "      <td>0</td>\n",
       "      <td>0</td>\n",
       "      <td>6.59</td>\n",
       "      <td>1080x2412</td>\n",
       "      <td>64.0</td>\n",
       "      <td>16.0</td>\n",
       "      <td>1.0</td>\n",
       "      <td>81.0</td>\n",
       "      <td>19989</td>\n",
       "    </tr>\n",
       "    <tr>\n",
       "      <th>2</th>\n",
       "      <td>Samsung</td>\n",
       "      <td>Exynos</td>\n",
       "      <td>8.0</td>\n",
       "      <td>2.4</td>\n",
       "      <td>Android v13</td>\n",
       "      <td>4 GB RAM</td>\n",
       "      <td>64 GB inbuilt</td>\n",
       "      <td>5000 mAh</td>\n",
       "      <td>15W</td>\n",
       "      <td>1</td>\n",
       "      <td>...</td>\n",
       "      <td>1</td>\n",
       "      <td>0</td>\n",
       "      <td>0</td>\n",
       "      <td>6.60</td>\n",
       "      <td>1080x2408</td>\n",
       "      <td>50.0</td>\n",
       "      <td>13.0</td>\n",
       "      <td>1.0</td>\n",
       "      <td>75.0</td>\n",
       "      <td>16499</td>\n",
       "    </tr>\n",
       "    <tr>\n",
       "      <th>3</th>\n",
       "      <td>Motorola</td>\n",
       "      <td>Snapdragon</td>\n",
       "      <td>8.0</td>\n",
       "      <td>2.2</td>\n",
       "      <td>Android v12</td>\n",
       "      <td>6 GB RAM</td>\n",
       "      <td>128 GB inbuilt</td>\n",
       "      <td>5000 mAh</td>\n",
       "      <td>NaN</td>\n",
       "      <td>1</td>\n",
       "      <td>...</td>\n",
       "      <td>1</td>\n",
       "      <td>0</td>\n",
       "      <td>0</td>\n",
       "      <td>6.55</td>\n",
       "      <td>1080x2400</td>\n",
       "      <td>50.0</td>\n",
       "      <td>16.0</td>\n",
       "      <td>1.0</td>\n",
       "      <td>81.0</td>\n",
       "      <td>14999</td>\n",
       "    </tr>\n",
       "    <tr>\n",
       "      <th>4</th>\n",
       "      <td>Realme</td>\n",
       "      <td>Dimensity</td>\n",
       "      <td>8.0</td>\n",
       "      <td>2.6</td>\n",
       "      <td>Android v13</td>\n",
       "      <td>6 GB RAM</td>\n",
       "      <td>128 GB inbuilt</td>\n",
       "      <td>5000 mAh</td>\n",
       "      <td>67W</td>\n",
       "      <td>1</td>\n",
       "      <td>...</td>\n",
       "      <td>1</td>\n",
       "      <td>0</td>\n",
       "      <td>0</td>\n",
       "      <td>6.70</td>\n",
       "      <td>1080x2412</td>\n",
       "      <td>108.0</td>\n",
       "      <td>16.0</td>\n",
       "      <td>0.0</td>\n",
       "      <td>82.0</td>\n",
       "      <td>24999</td>\n",
       "    </tr>\n",
       "  </tbody>\n",
       "</table>\n",
       "<p>5 rows × 23 columns</p>\n",
       "</div>"
      ],
      "text/plain": [
       "      brand processor_name  processor_cores processor_speed           os  \\\n",
       "0   OnePlus     Snapdragon              8.0            3.2   Android v13   \n",
       "1   OnePlus     Snapdragon              8.0            2.2   Android v12   \n",
       "2   Samsung         Exynos              8.0            2.4   Android v13   \n",
       "3  Motorola     Snapdragon              8.0            2.2   Android v12   \n",
       "4    Realme      Dimensity              8.0            2.6   Android v13   \n",
       "\n",
       "         ram          storage battery_capacity battery_power  DualSim  ...  \\\n",
       "0  12 GB RAM   256 GB inbuilt        5000 mAh           100W        1  ...   \n",
       "1   6 GB RAM   128 GB inbuilt        5000 mAh            33W        1  ...   \n",
       "2   4 GB RAM    64 GB inbuilt        5000 mAh            15W        1  ...   \n",
       "3   6 GB RAM   128 GB inbuilt        5000 mAh            NaN        1  ...   \n",
       "4   6 GB RAM   128 GB inbuilt        5000 mAh            67W        1  ...   \n",
       "\n",
       "   wifi  ngc  irblaster  display_size  display_resolution  rear_camera  \\\n",
       "0     1    1          0          6.70           1440x3216         50.0   \n",
       "1     1    0          0          6.59           1080x2412         64.0   \n",
       "2     1    0          0          6.60           1080x2408         50.0   \n",
       "3     1    0          0          6.55           1080x2400         50.0   \n",
       "4     1    0          0          6.70           1080x2412        108.0   \n",
       "\n",
       "   front_camera memory_card_supported  rating  price  \n",
       "0          16.0                   0.0    89.0  54999  \n",
       "1          16.0                   1.0    81.0  19989  \n",
       "2          13.0                   1.0    75.0  16499  \n",
       "3          16.0                   1.0    81.0  14999  \n",
       "4          16.0                   0.0    82.0  24999  \n",
       "\n",
       "[5 rows x 23 columns]"
      ]
     },
     "execution_count": 3,
     "metadata": {},
     "output_type": "execute_result"
    }
   ],
   "source": [
    "df.head()"
   ]
  },
  {
   "cell_type": "code",
   "execution_count": 4,
   "id": "4d8330e0",
   "metadata": {},
   "outputs": [
    {
     "data": {
      "text/plain": [
       "(1020, 23)"
      ]
     },
     "execution_count": 4,
     "metadata": {},
     "output_type": "execute_result"
    }
   ],
   "source": [
    "df.shape"
   ]
  },
  {
   "cell_type": "code",
   "execution_count": 5,
   "id": "66fafcbc",
   "metadata": {},
   "outputs": [
    {
     "name": "stdout",
     "output_type": "stream",
     "text": [
      "<class 'pandas.core.frame.DataFrame'>\n",
      "RangeIndex: 1020 entries, 0 to 1019\n",
      "Data columns (total 23 columns):\n",
      " #   Column                 Non-Null Count  Dtype  \n",
      "---  ------                 --------------  -----  \n",
      " 0   brand                  1020 non-null   object \n",
      " 1   processor_name         967 non-null    object \n",
      " 2   processor_cores        980 non-null    float64\n",
      " 3   processor_speed        931 non-null    object \n",
      " 4   os                     741 non-null    object \n",
      " 5   ram                    993 non-null    object \n",
      " 6   storage                993 non-null    object \n",
      " 7   battery_capacity       987 non-null    object \n",
      " 8   battery_power          769 non-null    object \n",
      " 9   DualSim                1020 non-null   int64  \n",
      " 10  Volte                  1020 non-null   int64  \n",
      " 11  is_5G                  1020 non-null   int64  \n",
      " 12  is_Vo5G                1020 non-null   int64  \n",
      " 13  wifi                   1020 non-null   int64  \n",
      " 14  ngc                    1020 non-null   int64  \n",
      " 15  irblaster              1020 non-null   int64  \n",
      " 16  display_size           987 non-null    float64\n",
      " 17  display_resolution     987 non-null    object \n",
      " 18  rear_camera            954 non-null    float64\n",
      " 19  front_camera           943 non-null    float64\n",
      " 20  memory_card_supported  741 non-null    float64\n",
      " 21  rating                 879 non-null    float64\n",
      " 22  price                  1020 non-null   int64  \n",
      "dtypes: float64(6), int64(8), object(9)\n",
      "memory usage: 183.4+ KB\n"
     ]
    }
   ],
   "source": [
    "df.info()"
   ]
  },
  {
   "cell_type": "code",
   "execution_count": 6,
   "id": "fd42a071",
   "metadata": {},
   "outputs": [
    {
     "data": {
      "text/plain": [
       "2"
      ]
     },
     "execution_count": 6,
     "metadata": {},
     "output_type": "execute_result"
    }
   ],
   "source": [
    "# remove duplicates \n",
    "df.duplicated().sum()"
   ]
  },
  {
   "cell_type": "code",
   "execution_count": 7,
   "id": "011ad687",
   "metadata": {},
   "outputs": [],
   "source": [
    "df = df.drop_duplicates()"
   ]
  },
  {
   "cell_type": "code",
   "execution_count": 8,
   "id": "175aeede",
   "metadata": {},
   "outputs": [
    {
     "data": {
      "text/plain": [
       "(1018, 23)"
      ]
     },
     "execution_count": 8,
     "metadata": {},
     "output_type": "execute_result"
    }
   ],
   "source": [
    "df.shape"
   ]
  },
  {
   "cell_type": "code",
   "execution_count": 9,
   "id": "c0a6d160",
   "metadata": {},
   "outputs": [
    {
     "data": {
      "text/plain": [
       "brand                     0.000000\n",
       "processor_name            5.206287\n",
       "processor_cores           3.929273\n",
       "processor_speed           8.742633\n",
       "os                       27.308448\n",
       "ram                       2.652259\n",
       "storage                   2.652259\n",
       "battery_capacity          3.241650\n",
       "battery_power            24.656189\n",
       "DualSim                   0.000000\n",
       "Volte                     0.000000\n",
       "is_5G                     0.000000\n",
       "is_Vo5G                   0.000000\n",
       "wifi                      0.000000\n",
       "ngc                       0.000000\n",
       "irblaster                 0.000000\n",
       "display_size              3.241650\n",
       "display_resolution        3.241650\n",
       "rear_camera               6.483301\n",
       "front_camera              7.563851\n",
       "memory_card_supported    27.308448\n",
       "rating                   13.850688\n",
       "price                     0.000000\n",
       "dtype: float64"
      ]
     },
     "execution_count": 9,
     "metadata": {},
     "output_type": "execute_result"
    }
   ],
   "source": [
    "(df.isnull().sum()/1018)*100"
   ]
  },
  {
   "cell_type": "code",
   "execution_count": 10,
   "id": "1c6df3cb",
   "metadata": {
    "scrolled": true
   },
   "outputs": [
    {
     "data": {
      "text/html": [
       "<div>\n",
       "<style scoped>\n",
       "    .dataframe tbody tr th:only-of-type {\n",
       "        vertical-align: middle;\n",
       "    }\n",
       "\n",
       "    .dataframe tbody tr th {\n",
       "        vertical-align: top;\n",
       "    }\n",
       "\n",
       "    .dataframe thead th {\n",
       "        text-align: right;\n",
       "    }\n",
       "</style>\n",
       "<table border=\"1\" class=\"dataframe\">\n",
       "  <thead>\n",
       "    <tr style=\"text-align: right;\">\n",
       "      <th></th>\n",
       "      <th>brand</th>\n",
       "      <th>processor_name</th>\n",
       "      <th>processor_cores</th>\n",
       "      <th>processor_speed</th>\n",
       "      <th>os</th>\n",
       "      <th>ram</th>\n",
       "      <th>storage</th>\n",
       "      <th>battery_capacity</th>\n",
       "      <th>battery_power</th>\n",
       "      <th>DualSim</th>\n",
       "      <th>...</th>\n",
       "      <th>wifi</th>\n",
       "      <th>ngc</th>\n",
       "      <th>irblaster</th>\n",
       "      <th>display_size</th>\n",
       "      <th>display_resolution</th>\n",
       "      <th>rear_camera</th>\n",
       "      <th>front_camera</th>\n",
       "      <th>memory_card_supported</th>\n",
       "      <th>rating</th>\n",
       "      <th>price</th>\n",
       "    </tr>\n",
       "  </thead>\n",
       "  <tbody>\n",
       "    <tr>\n",
       "      <th>0</th>\n",
       "      <td>OnePlus</td>\n",
       "      <td>Snapdragon</td>\n",
       "      <td>8.0</td>\n",
       "      <td>3.2</td>\n",
       "      <td>Android v13</td>\n",
       "      <td>12 GB RAM</td>\n",
       "      <td>256 GB inbuilt</td>\n",
       "      <td>5000 mAh</td>\n",
       "      <td>100W</td>\n",
       "      <td>1</td>\n",
       "      <td>...</td>\n",
       "      <td>1</td>\n",
       "      <td>1</td>\n",
       "      <td>0</td>\n",
       "      <td>6.70</td>\n",
       "      <td>1440x3216</td>\n",
       "      <td>50.0</td>\n",
       "      <td>16.0</td>\n",
       "      <td>0.0</td>\n",
       "      <td>89.0</td>\n",
       "      <td>54999</td>\n",
       "    </tr>\n",
       "    <tr>\n",
       "      <th>1</th>\n",
       "      <td>OnePlus</td>\n",
       "      <td>Snapdragon</td>\n",
       "      <td>8.0</td>\n",
       "      <td>2.2</td>\n",
       "      <td>Android v12</td>\n",
       "      <td>6 GB RAM</td>\n",
       "      <td>128 GB inbuilt</td>\n",
       "      <td>5000 mAh</td>\n",
       "      <td>33W</td>\n",
       "      <td>1</td>\n",
       "      <td>...</td>\n",
       "      <td>1</td>\n",
       "      <td>0</td>\n",
       "      <td>0</td>\n",
       "      <td>6.59</td>\n",
       "      <td>1080x2412</td>\n",
       "      <td>64.0</td>\n",
       "      <td>16.0</td>\n",
       "      <td>1.0</td>\n",
       "      <td>81.0</td>\n",
       "      <td>19989</td>\n",
       "    </tr>\n",
       "    <tr>\n",
       "      <th>2</th>\n",
       "      <td>Samsung</td>\n",
       "      <td>Exynos</td>\n",
       "      <td>8.0</td>\n",
       "      <td>2.4</td>\n",
       "      <td>Android v13</td>\n",
       "      <td>4 GB RAM</td>\n",
       "      <td>64 GB inbuilt</td>\n",
       "      <td>5000 mAh</td>\n",
       "      <td>15W</td>\n",
       "      <td>1</td>\n",
       "      <td>...</td>\n",
       "      <td>1</td>\n",
       "      <td>0</td>\n",
       "      <td>0</td>\n",
       "      <td>6.60</td>\n",
       "      <td>1080x2408</td>\n",
       "      <td>50.0</td>\n",
       "      <td>13.0</td>\n",
       "      <td>1.0</td>\n",
       "      <td>75.0</td>\n",
       "      <td>16499</td>\n",
       "    </tr>\n",
       "    <tr>\n",
       "      <th>3</th>\n",
       "      <td>Motorola</td>\n",
       "      <td>Snapdragon</td>\n",
       "      <td>8.0</td>\n",
       "      <td>2.2</td>\n",
       "      <td>Android v12</td>\n",
       "      <td>6 GB RAM</td>\n",
       "      <td>128 GB inbuilt</td>\n",
       "      <td>5000 mAh</td>\n",
       "      <td>NaN</td>\n",
       "      <td>1</td>\n",
       "      <td>...</td>\n",
       "      <td>1</td>\n",
       "      <td>0</td>\n",
       "      <td>0</td>\n",
       "      <td>6.55</td>\n",
       "      <td>1080x2400</td>\n",
       "      <td>50.0</td>\n",
       "      <td>16.0</td>\n",
       "      <td>1.0</td>\n",
       "      <td>81.0</td>\n",
       "      <td>14999</td>\n",
       "    </tr>\n",
       "    <tr>\n",
       "      <th>4</th>\n",
       "      <td>Realme</td>\n",
       "      <td>Dimensity</td>\n",
       "      <td>8.0</td>\n",
       "      <td>2.6</td>\n",
       "      <td>Android v13</td>\n",
       "      <td>6 GB RAM</td>\n",
       "      <td>128 GB inbuilt</td>\n",
       "      <td>5000 mAh</td>\n",
       "      <td>67W</td>\n",
       "      <td>1</td>\n",
       "      <td>...</td>\n",
       "      <td>1</td>\n",
       "      <td>0</td>\n",
       "      <td>0</td>\n",
       "      <td>6.70</td>\n",
       "      <td>1080x2412</td>\n",
       "      <td>108.0</td>\n",
       "      <td>16.0</td>\n",
       "      <td>0.0</td>\n",
       "      <td>82.0</td>\n",
       "      <td>24999</td>\n",
       "    </tr>\n",
       "  </tbody>\n",
       "</table>\n",
       "<p>5 rows × 23 columns</p>\n",
       "</div>"
      ],
      "text/plain": [
       "      brand processor_name  processor_cores processor_speed           os  \\\n",
       "0   OnePlus     Snapdragon              8.0            3.2   Android v13   \n",
       "1   OnePlus     Snapdragon              8.0            2.2   Android v12   \n",
       "2   Samsung         Exynos              8.0            2.4   Android v13   \n",
       "3  Motorola     Snapdragon              8.0            2.2   Android v12   \n",
       "4    Realme      Dimensity              8.0            2.6   Android v13   \n",
       "\n",
       "         ram          storage battery_capacity battery_power  DualSim  ...  \\\n",
       "0  12 GB RAM   256 GB inbuilt        5000 mAh           100W        1  ...   \n",
       "1   6 GB RAM   128 GB inbuilt        5000 mAh            33W        1  ...   \n",
       "2   4 GB RAM    64 GB inbuilt        5000 mAh            15W        1  ...   \n",
       "3   6 GB RAM   128 GB inbuilt        5000 mAh            NaN        1  ...   \n",
       "4   6 GB RAM   128 GB inbuilt        5000 mAh            67W        1  ...   \n",
       "\n",
       "   wifi  ngc  irblaster  display_size  display_resolution  rear_camera  \\\n",
       "0     1    1          0          6.70           1440x3216         50.0   \n",
       "1     1    0          0          6.59           1080x2412         64.0   \n",
       "2     1    0          0          6.60           1080x2408         50.0   \n",
       "3     1    0          0          6.55           1080x2400         50.0   \n",
       "4     1    0          0          6.70           1080x2412        108.0   \n",
       "\n",
       "   front_camera memory_card_supported  rating  price  \n",
       "0          16.0                   0.0    89.0  54999  \n",
       "1          16.0                   1.0    81.0  19989  \n",
       "2          13.0                   1.0    75.0  16499  \n",
       "3          16.0                   1.0    81.0  14999  \n",
       "4          16.0                   0.0    82.0  24999  \n",
       "\n",
       "[5 rows x 23 columns]"
      ]
     },
     "execution_count": 10,
     "metadata": {},
     "output_type": "execute_result"
    }
   ],
   "source": [
    "df.head()"
   ]
  },
  {
   "cell_type": "markdown",
   "id": "c38449dd",
   "metadata": {},
   "source": [
    "### Target column (Price) :"
   ]
  },
  {
   "cell_type": "code",
   "execution_count": 11,
   "id": "ce71f254",
   "metadata": {
    "scrolled": false
   },
   "outputs": [
    {
     "data": {
      "text/plain": [
       "<Axes: xlabel='price'>"
      ]
     },
     "execution_count": 11,
     "metadata": {},
     "output_type": "execute_result"
    },
    {
     "data": {
      "image/png": "[encoded data removed]",
      "text/plain": [
       "<Figure size 1200x400 with 2 Axes>"
      ]
     },
     "metadata": {},
     "output_type": "display_data"
    }
   ],
   "source": [
    "plt.figure(figsize=(12,4))\n",
    "\n",
    "plt.subplot(121)\n",
    "sns.kdeplot(x=df['price'])\n",
    "\n",
    "plt.subplot(122)\n",
    "sns.boxplot(x=df['price'])"
   ]
  },
  {
   "cell_type": "code",
   "execution_count": 12,
   "id": "1239c88d",
   "metadata": {
    "scrolled": false
   },
   "outputs": [
    {
     "data": {
      "text/plain": [
       "(2, 23)"
      ]
     },
     "execution_count": 12,
     "metadata": {},
     "output_type": "execute_result"
    }
   ],
   "source": [
    "df[(df['price']>200000) & (df['price']<300000)].shape"
   ]
  },
  {
   "cell_type": "markdown",
   "id": "1503fa8b",
   "metadata": {},
   "source": [
    "##### Price Observation\n",
    "1. Price > 7,00,000 --- 0\n",
    "2. Price > 6,00,000 --- 1(vertu)\n",
    "3. Price > 5,00,000 --- 0\n",
    "4. Price > 4,00,000 --- 1(xiaomi)\n",
    "5. Price > 3,00,000 --- 0\n",
    "6. Price > 2,00,000 --- 2(huawei)\n",
    "7. Price > 1,50,000 --- 9\n",
    "8. Price > 1,00,000 --- 35"
   ]
  },
  {
   "cell_type": "code",
   "execution_count": 13,
   "id": "7219c9bd",
   "metadata": {},
   "outputs": [],
   "source": [
    "# remove outliers (whose 'Price' > 2,00,000)\n",
    "df = df.drop(df[df['price']>200000].index,axis=0)"
   ]
  },
  {
   "cell_type": "code",
   "execution_count": 14,
   "id": "52059b38",
   "metadata": {},
   "outputs": [
    {
     "data": {
      "text/plain": [
       "(1014, 23)"
      ]
     },
     "execution_count": 14,
     "metadata": {},
     "output_type": "execute_result"
    }
   ],
   "source": [
    "df.shape"
   ]
  },
  {
   "cell_type": "markdown",
   "id": "e980fc7d",
   "metadata": {},
   "source": [
    "### 1. Brand :"
   ]
  },
  {
   "cell_type": "code",
   "execution_count": 15,
   "id": "e80436cf",
   "metadata": {},
   "outputs": [
    {
     "data": {
      "text/html": [
       "<div>\n",
       "<style scoped>\n",
       "    .dataframe tbody tr th:only-of-type {\n",
       "        vertical-align: middle;\n",
       "    }\n",
       "\n",
       "    .dataframe tbody tr th {\n",
       "        vertical-align: top;\n",
       "    }\n",
       "\n",
       "    .dataframe thead th {\n",
       "        text-align: right;\n",
       "    }\n",
       "</style>\n",
       "<table border=\"1\" class=\"dataframe\">\n",
       "  <thead>\n",
       "    <tr style=\"text-align: right;\">\n",
       "      <th></th>\n",
       "      <th>brand</th>\n",
       "      <th>processor_name</th>\n",
       "      <th>processor_cores</th>\n",
       "      <th>processor_speed</th>\n",
       "      <th>os</th>\n",
       "      <th>ram</th>\n",
       "      <th>storage</th>\n",
       "      <th>battery_capacity</th>\n",
       "      <th>battery_power</th>\n",
       "      <th>DualSim</th>\n",
       "      <th>...</th>\n",
       "      <th>wifi</th>\n",
       "      <th>ngc</th>\n",
       "      <th>irblaster</th>\n",
       "      <th>display_size</th>\n",
       "      <th>display_resolution</th>\n",
       "      <th>rear_camera</th>\n",
       "      <th>front_camera</th>\n",
       "      <th>memory_card_supported</th>\n",
       "      <th>rating</th>\n",
       "      <th>price</th>\n",
       "    </tr>\n",
       "  </thead>\n",
       "  <tbody>\n",
       "    <tr>\n",
       "      <th>0</th>\n",
       "      <td>OnePlus</td>\n",
       "      <td>Snapdragon</td>\n",
       "      <td>8.0</td>\n",
       "      <td>3.2</td>\n",
       "      <td>Android v13</td>\n",
       "      <td>12 GB RAM</td>\n",
       "      <td>256 GB inbuilt</td>\n",
       "      <td>5000 mAh</td>\n",
       "      <td>100W</td>\n",
       "      <td>1</td>\n",
       "      <td>...</td>\n",
       "      <td>1</td>\n",
       "      <td>1</td>\n",
       "      <td>0</td>\n",
       "      <td>6.70</td>\n",
       "      <td>1440x3216</td>\n",
       "      <td>50.0</td>\n",
       "      <td>16.0</td>\n",
       "      <td>0.0</td>\n",
       "      <td>89.0</td>\n",
       "      <td>54999</td>\n",
       "    </tr>\n",
       "    <tr>\n",
       "      <th>1</th>\n",
       "      <td>OnePlus</td>\n",
       "      <td>Snapdragon</td>\n",
       "      <td>8.0</td>\n",
       "      <td>2.2</td>\n",
       "      <td>Android v12</td>\n",
       "      <td>6 GB RAM</td>\n",
       "      <td>128 GB inbuilt</td>\n",
       "      <td>5000 mAh</td>\n",
       "      <td>33W</td>\n",
       "      <td>1</td>\n",
       "      <td>...</td>\n",
       "      <td>1</td>\n",
       "      <td>0</td>\n",
       "      <td>0</td>\n",
       "      <td>6.59</td>\n",
       "      <td>1080x2412</td>\n",
       "      <td>64.0</td>\n",
       "      <td>16.0</td>\n",
       "      <td>1.0</td>\n",
       "      <td>81.0</td>\n",
       "      <td>19989</td>\n",
       "    </tr>\n",
       "    <tr>\n",
       "      <th>2</th>\n",
       "      <td>Samsung</td>\n",
       "      <td>Exynos</td>\n",
       "      <td>8.0</td>\n",
       "      <td>2.4</td>\n",
       "      <td>Android v13</td>\n",
       "      <td>4 GB RAM</td>\n",
       "      <td>64 GB inbuilt</td>\n",
       "      <td>5000 mAh</td>\n",
       "      <td>15W</td>\n",
       "      <td>1</td>\n",
       "      <td>...</td>\n",
       "      <td>1</td>\n",
       "      <td>0</td>\n",
       "      <td>0</td>\n",
       "      <td>6.60</td>\n",
       "      <td>1080x2408</td>\n",
       "      <td>50.0</td>\n",
       "      <td>13.0</td>\n",
       "      <td>1.0</td>\n",
       "      <td>75.0</td>\n",
       "      <td>16499</td>\n",
       "    </tr>\n",
       "    <tr>\n",
       "      <th>3</th>\n",
       "      <td>Motorola</td>\n",
       "      <td>Snapdragon</td>\n",
       "      <td>8.0</td>\n",
       "      <td>2.2</td>\n",
       "      <td>Android v12</td>\n",
       "      <td>6 GB RAM</td>\n",
       "      <td>128 GB inbuilt</td>\n",
       "      <td>5000 mAh</td>\n",
       "      <td>NaN</td>\n",
       "      <td>1</td>\n",
       "      <td>...</td>\n",
       "      <td>1</td>\n",
       "      <td>0</td>\n",
       "      <td>0</td>\n",
       "      <td>6.55</td>\n",
       "      <td>1080x2400</td>\n",
       "      <td>50.0</td>\n",
       "      <td>16.0</td>\n",
       "      <td>1.0</td>\n",
       "      <td>81.0</td>\n",
       "      <td>14999</td>\n",
       "    </tr>\n",
       "    <tr>\n",
       "      <th>4</th>\n",
       "      <td>Realme</td>\n",
       "      <td>Dimensity</td>\n",
       "      <td>8.0</td>\n",
       "      <td>2.6</td>\n",
       "      <td>Android v13</td>\n",
       "      <td>6 GB RAM</td>\n",
       "      <td>128 GB inbuilt</td>\n",
       "      <td>5000 mAh</td>\n",
       "      <td>67W</td>\n",
       "      <td>1</td>\n",
       "      <td>...</td>\n",
       "      <td>1</td>\n",
       "      <td>0</td>\n",
       "      <td>0</td>\n",
       "      <td>6.70</td>\n",
       "      <td>1080x2412</td>\n",
       "      <td>108.0</td>\n",
       "      <td>16.0</td>\n",
       "      <td>0.0</td>\n",
       "      <td>82.0</td>\n",
       "      <td>24999</td>\n",
       "    </tr>\n",
       "  </tbody>\n",
       "</table>\n",
       "<p>5 rows × 23 columns</p>\n",
       "</div>"
      ],
      "text/plain": [
       "      brand processor_name  processor_cores processor_speed           os  \\\n",
       "0   OnePlus     Snapdragon              8.0            3.2   Android v13   \n",
       "1   OnePlus     Snapdragon              8.0            2.2   Android v12   \n",
       "2   Samsung         Exynos              8.0            2.4   Android v13   \n",
       "3  Motorola     Snapdragon              8.0            2.2   Android v12   \n",
       "4    Realme      Dimensity              8.0            2.6   Android v13   \n",
       "\n",
       "         ram          storage battery_capacity battery_power  DualSim  ...  \\\n",
       "0  12 GB RAM   256 GB inbuilt        5000 mAh           100W        1  ...   \n",
       "1   6 GB RAM   128 GB inbuilt        5000 mAh            33W        1  ...   \n",
       "2   4 GB RAM    64 GB inbuilt        5000 mAh            15W        1  ...   \n",
       "3   6 GB RAM   128 GB inbuilt        5000 mAh            NaN        1  ...   \n",
       "4   6 GB RAM   128 GB inbuilt        5000 mAh            67W        1  ...   \n",
       "\n",
       "   wifi  ngc  irblaster  display_size  display_resolution  rear_camera  \\\n",
       "0     1    1          0          6.70           1440x3216         50.0   \n",
       "1     1    0          0          6.59           1080x2412         64.0   \n",
       "2     1    0          0          6.60           1080x2408         50.0   \n",
       "3     1    0          0          6.55           1080x2400         50.0   \n",
       "4     1    0          0          6.70           1080x2412        108.0   \n",
       "\n",
       "   front_camera memory_card_supported  rating  price  \n",
       "0          16.0                   0.0    89.0  54999  \n",
       "1          16.0                   1.0    81.0  19989  \n",
       "2          13.0                   1.0    75.0  16499  \n",
       "3          16.0                   1.0    81.0  14999  \n",
       "4          16.0                   0.0    82.0  24999  \n",
       "\n",
       "[5 rows x 23 columns]"
      ]
     },
     "execution_count": 15,
     "metadata": {},
     "output_type": "execute_result"
    }
   ],
   "source": [
    "df.head()"
   ]
  },
  {
   "cell_type": "code",
   "execution_count": 16,
   "id": "030919aa",
   "metadata": {},
   "outputs": [
    {
     "data": {
      "text/plain": [
       "52"
      ]
     },
     "execution_count": 16,
     "metadata": {},
     "output_type": "execute_result"
    }
   ],
   "source": [
    "len(df['brand'].unique())"
   ]
  },
  {
   "cell_type": "code",
   "execution_count": 17,
   "id": "ac6ae5fa",
   "metadata": {},
   "outputs": [
    {
     "data": {
      "image/png": "[encoded data removed]",
      "text/plain": [
       "<Figure size 1200x400 with 1 Axes>"
      ]
     },
     "metadata": {},
     "output_type": "display_data"
    }
   ],
   "source": [
    "plt.figure(figsize=(12,4))\n",
    "df['brand'].value_counts().plot(kind='bar')\n",
    "plt.show()"
   ]
  },
  {
   "cell_type": "code",
   "execution_count": 18,
   "id": "82915a1a",
   "metadata": {},
   "outputs": [],
   "source": [
    "# 'OTHERS' category for smartphone \n",
    "main=['Xiaomi', 'Samsung', 'Vivo', 'Realme', 'OPPO', 'Motorola', 'Apple',\n",
    "       'OnePlus', 'POCO', 'Tecno', 'iQOO', 'Nokia', 'Infinix','Huawei']\n",
    "df['brand'] = df['brand'].apply(lambda x:x if x in main else 'Others')"
   ]
  },
  {
   "cell_type": "code",
   "execution_count": 19,
   "id": "1f9e94cb",
   "metadata": {},
   "outputs": [
    {
     "data": {
      "text/plain": [
       "array(['OnePlus', 'Samsung', 'Motorola', 'Realme', 'Apple', 'Xiaomi',\n",
       "       'Others', 'OPPO', 'Vivo', 'POCO', 'iQOO', 'Tecno', 'Infinix',\n",
       "       'Nokia', 'Huawei'], dtype=object)"
      ]
     },
     "execution_count": 19,
     "metadata": {},
     "output_type": "execute_result"
    }
   ],
   "source": [
    "df['brand'].unique()"
   ]
  },
  {
   "cell_type": "code",
   "execution_count": 20,
   "id": "0c6cc27c",
   "metadata": {},
   "outputs": [
    {
     "data": {
      "image/png": "[encoded data removed]",
      "text/plain": [
       "<Figure size 1200x400 with 1 Axes>"
      ]
     },
     "metadata": {},
     "output_type": "display_data"
    }
   ],
   "source": [
    "plt.figure(figsize=(12,4))\n",
    "df['brand'].value_counts().plot(kind='bar')\n",
    "plt.show()"
   ]
  },
  {
   "cell_type": "code",
   "execution_count": 21,
   "id": "c993775e",
   "metadata": {},
   "outputs": [
    {
     "data": {
      "image/png": "[encoded data removed]",
      "text/plain": [
       "<Figure size 1200x400 with 1 Axes>"
      ]
     },
     "metadata": {},
     "output_type": "display_data"
    }
   ],
   "source": [
    "# 'price' and 'brand'\n",
    "plt.figure(figsize=(12,4))\n",
    "sns.barplot(x=df.brand, y=df.price)\n",
    "plt.xticks(rotation='vertical')\n",
    "plt.show()"
   ]
  },
  {
   "cell_type": "markdown",
   "id": "c5aa7e0c",
   "metadata": {},
   "source": [
    "### 2. Processor :"
   ]
  },
  {
   "cell_type": "code",
   "execution_count": 22,
   "id": "f5219759",
   "metadata": {},
   "outputs": [
    {
     "name": "stdout",
     "output_type": "stream",
     "text": [
      "53\n",
      "40\n",
      "89\n"
     ]
    }
   ],
   "source": [
    "# missing values of processor columns\n",
    "print(df['processor_name'].isnull().sum())\n",
    "print(df['processor_cores'].isnull().sum())\n",
    "print(df['processor_speed'].isnull().sum())"
   ]
  },
  {
   "cell_type": "markdown",
   "id": "dfad4e1e",
   "metadata": {},
   "source": [
    "#### A. processor_name"
   ]
  },
  {
   "cell_type": "code",
   "execution_count": 23,
   "id": "275ede1b",
   "metadata": {},
   "outputs": [
    {
     "name": "stdout",
     "output_type": "stream",
     "text": [
      "processor_name\n",
      "Snapdragon    414\n",
      "Helio         202\n",
      "Dimensity     175\n",
      "Exynos         50\n",
      "Bionic         45\n",
      "Unisoc         35\n",
      "Tiger          24\n",
      "Google          9\n",
      "Kirin           6\n",
      "Fusion          1\n",
      "Name: count, dtype: int64\n"
     ]
    },
    {
     "data": {
      "image/png": "[encoded data removed]",
      "text/plain": [
       "<Figure size 1200x500 with 1 Axes>"
      ]
     },
     "metadata": {},
     "output_type": "display_data"
    }
   ],
   "source": [
    "plt.figure(figsize=(12,5))\n",
    "print(df['processor_name'].value_counts())\n",
    "df['processor_name'].value_counts().plot(kind='bar')\n",
    "plt.show()"
   ]
  },
  {
   "cell_type": "code",
   "execution_count": 24,
   "id": "c8213a4b",
   "metadata": {},
   "outputs": [],
   "source": [
    "# since 'Apple' brand have 'Bionic' processors\n",
    "df['processor_name'] = df['processor_name'].str.replace('Fusion','Bionic')"
   ]
  },
  {
   "cell_type": "code",
   "execution_count": 25,
   "id": "46e24d24",
   "metadata": {},
   "outputs": [
    {
     "data": {
      "image/png": "[encoded data removed]",
      "text/plain": [
       "<Figure size 1200x400 with 1 Axes>"
      ]
     },
     "metadata": {},
     "output_type": "display_data"
    }
   ],
   "source": [
    "# price and processor_name\n",
    "plt.figure(figsize=(12,4))\n",
    "sns.barplot(x=df.processor_name, y=df.price)\n",
    "plt.xticks(rotation='vertical')\n",
    "plt.show()"
   ]
  },
  {
   "cell_type": "code",
   "execution_count": 26,
   "id": "77b0b346",
   "metadata": {
    "scrolled": false
   },
   "outputs": [
    {
     "data": {
      "text/plain": [
       "array(['Others', 'Samsung', 'Nokia', 'Motorola', 'Apple', 'Tecno',\n",
       "       'Huawei'], dtype=object)"
      ]
     },
     "execution_count": 26,
     "metadata": {},
     "output_type": "execute_result"
    }
   ],
   "source": [
    "# brands have missing processor_names\n",
    "df[df['processor_name'].isnull()==True]['brand'].unique()"
   ]
  },
  {
   "cell_type": "code",
   "execution_count": 27,
   "id": "c1a8b22a",
   "metadata": {},
   "outputs": [
    {
     "data": {
      "text/html": [
       "<div>\n",
       "<style scoped>\n",
       "    .dataframe tbody tr th:only-of-type {\n",
       "        vertical-align: middle;\n",
       "    }\n",
       "\n",
       "    .dataframe tbody tr th {\n",
       "        vertical-align: top;\n",
       "    }\n",
       "\n",
       "    .dataframe thead th {\n",
       "        text-align: right;\n",
       "    }\n",
       "</style>\n",
       "<table border=\"1\" class=\"dataframe\">\n",
       "  <thead>\n",
       "    <tr style=\"text-align: right;\">\n",
       "      <th></th>\n",
       "      <th>brand</th>\n",
       "      <th>processor_name</th>\n",
       "      <th>0</th>\n",
       "    </tr>\n",
       "  </thead>\n",
       "  <tbody>\n",
       "    <tr>\n",
       "      <th>0</th>\n",
       "      <td>Apple</td>\n",
       "      <td>Bionic</td>\n",
       "      <td>46</td>\n",
       "    </tr>\n",
       "    <tr>\n",
       "      <th>1</th>\n",
       "      <td>Huawei</td>\n",
       "      <td>Kirin</td>\n",
       "      <td>6</td>\n",
       "    </tr>\n",
       "    <tr>\n",
       "      <th>2</th>\n",
       "      <td>Huawei</td>\n",
       "      <td>Snapdragon</td>\n",
       "      <td>7</td>\n",
       "    </tr>\n",
       "    <tr>\n",
       "      <th>3</th>\n",
       "      <td>Infinix</td>\n",
       "      <td>Dimensity</td>\n",
       "      <td>6</td>\n",
       "    </tr>\n",
       "    <tr>\n",
       "      <th>4</th>\n",
       "      <td>Infinix</td>\n",
       "      <td>Helio</td>\n",
       "      <td>20</td>\n",
       "    </tr>\n",
       "    <tr>\n",
       "      <th>5</th>\n",
       "      <td>Infinix</td>\n",
       "      <td>Tiger</td>\n",
       "      <td>3</td>\n",
       "    </tr>\n",
       "    <tr>\n",
       "      <th>6</th>\n",
       "      <td>Motorola</td>\n",
       "      <td>Dimensity</td>\n",
       "      <td>2</td>\n",
       "    </tr>\n",
       "    <tr>\n",
       "      <th>7</th>\n",
       "      <td>Motorola</td>\n",
       "      <td>Helio</td>\n",
       "      <td>11</td>\n",
       "    </tr>\n",
       "    <tr>\n",
       "      <th>8</th>\n",
       "      <td>Motorola</td>\n",
       "      <td>Snapdragon</td>\n",
       "      <td>37</td>\n",
       "    </tr>\n",
       "    <tr>\n",
       "      <th>9</th>\n",
       "      <td>Motorola</td>\n",
       "      <td>Tiger</td>\n",
       "      <td>2</td>\n",
       "    </tr>\n",
       "    <tr>\n",
       "      <th>10</th>\n",
       "      <td>Nokia</td>\n",
       "      <td>Snapdragon</td>\n",
       "      <td>10</td>\n",
       "    </tr>\n",
       "    <tr>\n",
       "      <th>11</th>\n",
       "      <td>Nokia</td>\n",
       "      <td>Unisoc</td>\n",
       "      <td>8</td>\n",
       "    </tr>\n",
       "    <tr>\n",
       "      <th>12</th>\n",
       "      <td>OPPO</td>\n",
       "      <td>Dimensity</td>\n",
       "      <td>22</td>\n",
       "    </tr>\n",
       "    <tr>\n",
       "      <th>13</th>\n",
       "      <td>OPPO</td>\n",
       "      <td>Helio</td>\n",
       "      <td>23</td>\n",
       "    </tr>\n",
       "    <tr>\n",
       "      <th>14</th>\n",
       "      <td>OPPO</td>\n",
       "      <td>Snapdragon</td>\n",
       "      <td>42</td>\n",
       "    </tr>\n",
       "    <tr>\n",
       "      <th>15</th>\n",
       "      <td>OnePlus</td>\n",
       "      <td>Dimensity</td>\n",
       "      <td>11</td>\n",
       "    </tr>\n",
       "    <tr>\n",
       "      <th>16</th>\n",
       "      <td>OnePlus</td>\n",
       "      <td>Snapdragon</td>\n",
       "      <td>31</td>\n",
       "    </tr>\n",
       "    <tr>\n",
       "      <th>17</th>\n",
       "      <td>Others</td>\n",
       "      <td>Dimensity</td>\n",
       "      <td>7</td>\n",
       "    </tr>\n",
       "    <tr>\n",
       "      <th>18</th>\n",
       "      <td>Others</td>\n",
       "      <td>Google</td>\n",
       "      <td>9</td>\n",
       "    </tr>\n",
       "    <tr>\n",
       "      <th>19</th>\n",
       "      <td>Others</td>\n",
       "      <td>Helio</td>\n",
       "      <td>14</td>\n",
       "    </tr>\n",
       "    <tr>\n",
       "      <th>20</th>\n",
       "      <td>Others</td>\n",
       "      <td>Snapdragon</td>\n",
       "      <td>57</td>\n",
       "    </tr>\n",
       "    <tr>\n",
       "      <th>21</th>\n",
       "      <td>Others</td>\n",
       "      <td>Tiger</td>\n",
       "      <td>6</td>\n",
       "    </tr>\n",
       "    <tr>\n",
       "      <th>22</th>\n",
       "      <td>Others</td>\n",
       "      <td>Unisoc</td>\n",
       "      <td>12</td>\n",
       "    </tr>\n",
       "    <tr>\n",
       "      <th>23</th>\n",
       "      <td>POCO</td>\n",
       "      <td>Dimensity</td>\n",
       "      <td>14</td>\n",
       "    </tr>\n",
       "    <tr>\n",
       "      <th>24</th>\n",
       "      <td>POCO</td>\n",
       "      <td>Helio</td>\n",
       "      <td>11</td>\n",
       "    </tr>\n",
       "    <tr>\n",
       "      <th>25</th>\n",
       "      <td>POCO</td>\n",
       "      <td>Snapdragon</td>\n",
       "      <td>16</td>\n",
       "    </tr>\n",
       "    <tr>\n",
       "      <th>26</th>\n",
       "      <td>Realme</td>\n",
       "      <td>Dimensity</td>\n",
       "      <td>27</td>\n",
       "    </tr>\n",
       "    <tr>\n",
       "      <th>27</th>\n",
       "      <td>Realme</td>\n",
       "      <td>Helio</td>\n",
       "      <td>16</td>\n",
       "    </tr>\n",
       "    <tr>\n",
       "      <th>28</th>\n",
       "      <td>Realme</td>\n",
       "      <td>Snapdragon</td>\n",
       "      <td>32</td>\n",
       "    </tr>\n",
       "    <tr>\n",
       "      <th>29</th>\n",
       "      <td>Realme</td>\n",
       "      <td>Tiger</td>\n",
       "      <td>13</td>\n",
       "    </tr>\n",
       "    <tr>\n",
       "      <th>30</th>\n",
       "      <td>Realme</td>\n",
       "      <td>Unisoc</td>\n",
       "      <td>9</td>\n",
       "    </tr>\n",
       "    <tr>\n",
       "      <th>31</th>\n",
       "      <td>Samsung</td>\n",
       "      <td>Dimensity</td>\n",
       "      <td>11</td>\n",
       "    </tr>\n",
       "    <tr>\n",
       "      <th>32</th>\n",
       "      <td>Samsung</td>\n",
       "      <td>Exynos</td>\n",
       "      <td>50</td>\n",
       "    </tr>\n",
       "    <tr>\n",
       "      <th>33</th>\n",
       "      <td>Samsung</td>\n",
       "      <td>Helio</td>\n",
       "      <td>20</td>\n",
       "    </tr>\n",
       "    <tr>\n",
       "      <th>34</th>\n",
       "      <td>Samsung</td>\n",
       "      <td>Snapdragon</td>\n",
       "      <td>36</td>\n",
       "    </tr>\n",
       "    <tr>\n",
       "      <th>35</th>\n",
       "      <td>Samsung</td>\n",
       "      <td>Unisoc</td>\n",
       "      <td>3</td>\n",
       "    </tr>\n",
       "    <tr>\n",
       "      <th>36</th>\n",
       "      <td>Tecno</td>\n",
       "      <td>Dimensity</td>\n",
       "      <td>6</td>\n",
       "    </tr>\n",
       "    <tr>\n",
       "      <th>37</th>\n",
       "      <td>Tecno</td>\n",
       "      <td>Helio</td>\n",
       "      <td>23</td>\n",
       "    </tr>\n",
       "    <tr>\n",
       "      <th>38</th>\n",
       "      <td>Tecno</td>\n",
       "      <td>Unisoc</td>\n",
       "      <td>3</td>\n",
       "    </tr>\n",
       "    <tr>\n",
       "      <th>39</th>\n",
       "      <td>Vivo</td>\n",
       "      <td>Dimensity</td>\n",
       "      <td>32</td>\n",
       "    </tr>\n",
       "    <tr>\n",
       "      <th>40</th>\n",
       "      <td>Vivo</td>\n",
       "      <td>Helio</td>\n",
       "      <td>31</td>\n",
       "    </tr>\n",
       "    <tr>\n",
       "      <th>41</th>\n",
       "      <td>Vivo</td>\n",
       "      <td>Snapdragon</td>\n",
       "      <td>48</td>\n",
       "    </tr>\n",
       "    <tr>\n",
       "      <th>42</th>\n",
       "      <td>Xiaomi</td>\n",
       "      <td>Dimensity</td>\n",
       "      <td>35</td>\n",
       "    </tr>\n",
       "    <tr>\n",
       "      <th>43</th>\n",
       "      <td>Xiaomi</td>\n",
       "      <td>Helio</td>\n",
       "      <td>33</td>\n",
       "    </tr>\n",
       "    <tr>\n",
       "      <th>44</th>\n",
       "      <td>Xiaomi</td>\n",
       "      <td>Snapdragon</td>\n",
       "      <td>68</td>\n",
       "    </tr>\n",
       "    <tr>\n",
       "      <th>45</th>\n",
       "      <td>iQOO</td>\n",
       "      <td>Dimensity</td>\n",
       "      <td>2</td>\n",
       "    </tr>\n",
       "    <tr>\n",
       "      <th>46</th>\n",
       "      <td>iQOO</td>\n",
       "      <td>Snapdragon</td>\n",
       "      <td>30</td>\n",
       "    </tr>\n",
       "  </tbody>\n",
       "</table>\n",
       "</div>"
      ],
      "text/plain": [
       "       brand processor_name   0\n",
       "0      Apple         Bionic  46\n",
       "1     Huawei          Kirin   6\n",
       "2     Huawei     Snapdragon   7\n",
       "3    Infinix      Dimensity   6\n",
       "4    Infinix          Helio  20\n",
       "5    Infinix          Tiger   3\n",
       "6   Motorola      Dimensity   2\n",
       "7   Motorola          Helio  11\n",
       "8   Motorola     Snapdragon  37\n",
       "9   Motorola          Tiger   2\n",
       "10     Nokia     Snapdragon  10\n",
       "11     Nokia         Unisoc   8\n",
       "12      OPPO      Dimensity  22\n",
       "13      OPPO          Helio  23\n",
       "14      OPPO     Snapdragon  42\n",
       "15   OnePlus      Dimensity  11\n",
       "16   OnePlus     Snapdragon  31\n",
       "17    Others      Dimensity   7\n",
       "18    Others         Google   9\n",
       "19    Others          Helio  14\n",
       "20    Others     Snapdragon  57\n",
       "21    Others          Tiger   6\n",
       "22    Others         Unisoc  12\n",
       "23      POCO      Dimensity  14\n",
       "24      POCO          Helio  11\n",
       "25      POCO     Snapdragon  16\n",
       "26    Realme      Dimensity  27\n",
       "27    Realme          Helio  16\n",
       "28    Realme     Snapdragon  32\n",
       "29    Realme          Tiger  13\n",
       "30    Realme         Unisoc   9\n",
       "31   Samsung      Dimensity  11\n",
       "32   Samsung         Exynos  50\n",
       "33   Samsung          Helio  20\n",
       "34   Samsung     Snapdragon  36\n",
       "35   Samsung         Unisoc   3\n",
       "36     Tecno      Dimensity   6\n",
       "37     Tecno          Helio  23\n",
       "38     Tecno         Unisoc   3\n",
       "39      Vivo      Dimensity  32\n",
       "40      Vivo          Helio  31\n",
       "41      Vivo     Snapdragon  48\n",
       "42    Xiaomi      Dimensity  35\n",
       "43    Xiaomi          Helio  33\n",
       "44    Xiaomi     Snapdragon  68\n",
       "45      iQOO      Dimensity   2\n",
       "46      iQOO     Snapdragon  30"
      ]
     },
     "execution_count": 27,
     "metadata": {},
     "output_type": "execute_result"
    }
   ],
   "source": [
    "df.groupby(by=['brand','processor_name']).size().reset_index()"
   ]
  },
  {
   "cell_type": "markdown",
   "id": "8fd1f7be",
   "metadata": {},
   "source": [
    "##### Processor_name Observation\n",
    "\n",
    "1. Apple ---- 'Bionic'\n",
    "2. Samsung ---- 'Exynos'\n",
    "3. Nokia ---- 'Snapdragon'\n",
    "4. Motorola ---- 'Snapdragon'\n",
    "5. Tecno ---- 'Helio'\n",
    "6. Huawei ---- 'Kirin'"
   ]
  },
  {
   "cell_type": "code",
   "execution_count": 28,
   "id": "d20f266c",
   "metadata": {
    "scrolled": false
   },
   "outputs": [],
   "source": [
    "# processor_name missing values Imputation\n",
    "df['processor_name'] = df['processor_name'].fillna('None')"
   ]
  },
  {
   "cell_type": "code",
   "execution_count": 29,
   "id": "418edfe5",
   "metadata": {},
   "outputs": [],
   "source": [
    "import warnings\n",
    "warnings.filterwarnings('ignore')\n",
    "for i,word in enumerate(df['processor_name']):\n",
    "    if word=='None':\n",
    "        if df['brand'].iloc[i]=='Apple':\n",
    "            df['processor_name'].iloc[i]='Bionic'\n",
    "        elif df['brand'].iloc[i]=='Samsung':\n",
    "            df['processor_name'].iloc[i]='Exynos'\n",
    "        elif df['brand'].iloc[i] in ['Nokia', 'Motorola','Others']:\n",
    "            df['processor_name'].iloc[i]='Snapdragon'\n",
    "        elif df['brand'].iloc[i]=='Tecno':\n",
    "            df['processor_name'].iloc[i]='Helio'\n",
    "        elif df['brand'].iloc[i]=='Huawei':\n",
    "            df['processor_name'].iloc[i]='Kirin'"
   ]
  },
  {
   "cell_type": "code",
   "execution_count": 30,
   "id": "7a48ed58",
   "metadata": {
    "scrolled": false
   },
   "outputs": [
    {
     "name": "stdout",
     "output_type": "stream",
     "text": [
      "processor_name\n",
      "Snapdragon    449\n",
      "Helio         203\n",
      "Dimensity     175\n",
      "Exynos         65\n",
      "Bionic         47\n",
      "Unisoc         35\n",
      "Tiger          24\n",
      "Google          9\n",
      "Kirin           7\n",
      "Name: count, dtype: int64\n"
     ]
    },
    {
     "data": {
      "image/png": "[encoded data removed]",
      "text/plain": [
       "<Figure size 1200x500 with 1 Axes>"
      ]
     },
     "metadata": {},
     "output_type": "display_data"
    }
   ],
   "source": [
    "plt.figure(figsize=(12,5))\n",
    "print(df['processor_name'].value_counts())\n",
    "df['processor_name'].value_counts().plot(kind='bar')\n",
    "plt.show()"
   ]
  },
  {
   "cell_type": "code",
   "execution_count": 31,
   "id": "d355dde7",
   "metadata": {},
   "outputs": [
    {
     "data": {
      "text/plain": [
       "1014"
      ]
     },
     "execution_count": 31,
     "metadata": {},
     "output_type": "execute_result"
    }
   ],
   "source": [
    "df.groupby(by=['brand','processor_name']).size().reset_index()[0].sum()"
   ]
  },
  {
   "cell_type": "markdown",
   "id": "1b8fd884",
   "metadata": {},
   "source": [
    "#### B. processor_cores"
   ]
  },
  {
   "cell_type": "code",
   "execution_count": 32,
   "id": "939a1a1e",
   "metadata": {},
   "outputs": [
    {
     "name": "stdout",
     "output_type": "stream",
     "text": [
      "processor_cores\n",
      "8.0    893\n",
      "6.0     39\n",
      "4.0     39\n",
      "2.0      2\n",
      "1.0      1\n",
      "Name: count, dtype: int64\n"
     ]
    },
    {
     "data": {
      "image/png": "[encoded data removed]",
      "text/plain": [
       "<Figure size 1200x500 with 1 Axes>"
      ]
     },
     "metadata": {},
     "output_type": "display_data"
    }
   ],
   "source": [
    "plt.figure(figsize=(12,5))\n",
    "print(df['processor_cores'].value_counts())\n",
    "df['processor_cores'].value_counts().plot(kind='bar')\n",
    "plt.show()"
   ]
  },
  {
   "cell_type": "code",
   "execution_count": 33,
   "id": "7b127568",
   "metadata": {},
   "outputs": [
    {
     "data": {
      "text/plain": [
       "array(['Apple'], dtype=object)"
      ]
     },
     "execution_count": 33,
     "metadata": {},
     "output_type": "execute_result"
    }
   ],
   "source": [
    "df[df['processor_cores']==6.0]['brand'].unique()"
   ]
  },
  {
   "cell_type": "code",
   "execution_count": 34,
   "id": "6c94bdb3",
   "metadata": {},
   "outputs": [
    {
     "data": {
      "text/plain": [
       "brand\n",
       "Nokia       15\n",
       "Others      14\n",
       "Apple        6\n",
       "Samsung      3\n",
       "Motorola     1\n",
       "Xiaomi       1\n",
       "Name: count, dtype: int64"
      ]
     },
     "execution_count": 34,
     "metadata": {},
     "output_type": "execute_result"
    }
   ],
   "source": [
    "# brands whose processor_cores are missing\n",
    "df[df['processor_cores'].isnull()==True]['brand'].value_counts()"
   ]
  },
  {
   "cell_type": "code",
   "execution_count": 35,
   "id": "08c7aa95",
   "metadata": {},
   "outputs": [],
   "source": [
    "# processor_cores missing values imputation\n",
    "df['processor_cores'] = df['processor_cores'].fillna(8.0)"
   ]
  },
  {
   "cell_type": "markdown",
   "id": "b407f24e",
   "metadata": {},
   "source": [
    "#### C. processor_speed:"
   ]
  },
  {
   "cell_type": "code",
   "execution_count": 36,
   "id": "1aa6c02b",
   "metadata": {},
   "outputs": [
    {
     "name": "stdout",
     "output_type": "stream",
     "text": [
      "<class 'pandas.core.series.Series'>\n",
      "Index: 1014 entries, 0 to 1019\n",
      "Series name: processor_speed\n",
      "Non-Null Count  Dtype \n",
      "--------------  ----- \n",
      "925 non-null    object\n",
      "dtypes: object(1)\n",
      "memory usage: 15.8+ KB\n"
     ]
    }
   ],
   "source": [
    "df['processor_speed'].info()"
   ]
  },
  {
   "cell_type": "code",
   "execution_count": 37,
   "id": "7c286eae",
   "metadata": {},
   "outputs": [],
   "source": [
    "df['processor_speed'] = df['processor_speed'].str.replace('\\u2009','')"
   ]
  },
  {
   "cell_type": "code",
   "execution_count": 38,
   "id": "355055cb",
   "metadata": {},
   "outputs": [],
   "source": [
    "# finding the mean by which we can fill the null values of 'processor_speed'\n",
    "mean_processor_speed = round(df[df['processor_speed'].isnull()==False]['processor_speed'].str.replace(' ','').astype(np.float64).mean(),1)\n",
    "\n",
    "# filling null values of processor_speed\n",
    "df['processor_speed'] = df['processor_speed'].fillna(mean_processor_speed).astype(np.float64)"
   ]
  },
  {
   "cell_type": "code",
   "execution_count": 39,
   "id": "ded03ee4",
   "metadata": {},
   "outputs": [
    {
     "name": "stdout",
     "output_type": "stream",
     "text": [
      "0\n",
      "0\n",
      "0\n"
     ]
    }
   ],
   "source": [
    "# missing values of processor columns NOW\n",
    "print(df['processor_name'].isnull().sum())\n",
    "print(df['processor_cores'].isnull().sum())\n",
    "print(df['processor_speed'].isnull().sum())"
   ]
  },
  {
   "cell_type": "code",
   "execution_count": 40,
   "id": "3a29697c",
   "metadata": {},
   "outputs": [
    {
     "data": {
      "text/plain": [
       "Index(['brand', 'processor_name', 'processor_cores', 'processor_speed', 'os',\n",
       "       'ram', 'storage', 'battery_capacity', 'battery_power', 'DualSim',\n",
       "       'Volte', 'is_5G', 'is_Vo5G', 'wifi', 'ngc', 'irblaster', 'display_size',\n",
       "       'display_resolution', 'rear_camera', 'front_camera',\n",
       "       'memory_card_supported', 'rating', 'price'],\n",
       "      dtype='object')"
      ]
     },
     "execution_count": 40,
     "metadata": {},
     "output_type": "execute_result"
    }
   ],
   "source": [
    "df.columns"
   ]
  },
  {
   "cell_type": "markdown",
   "id": "837ea77a",
   "metadata": {},
   "source": [
    "### 3.  OS :"
   ]
  },
  {
   "cell_type": "code",
   "execution_count": 41,
   "id": "b63ef559",
   "metadata": {},
   "outputs": [
    {
     "data": {
      "text/plain": [
       "278"
      ]
     },
     "execution_count": 41,
     "metadata": {},
     "output_type": "execute_result"
    }
   ],
   "source": [
    "df['os'].isnull().sum()"
   ]
  },
  {
   "cell_type": "code",
   "execution_count": 42,
   "id": "175f1379",
   "metadata": {},
   "outputs": [
    {
     "data": {
      "text/plain": [
       "os\n",
       "Android v12                   287\n",
       "Android v11                   232\n",
       "Android v10                    57\n",
       "Android v13                    45\n",
       "Android v9.0 (Pie)             26\n",
       "Android v10.0                  22\n",
       "iOS v16                        14\n",
       "iOS v15                        10\n",
       "Android v8.1 (Oreo)            10\n",
       "Android v11.0                   4\n",
       "Android v8.0 (Oreo)             4\n",
       "Android v6.0 (Marshmallow)      3\n",
       "iOS v15.0                       3\n",
       "iOS v13                         3\n",
       "EMUI v12                        2\n",
       "Harmony v2.0                    2\n",
       "Android v5.1.1 (Lollipop)       2\n",
       "Android v7.1 (Nougat)           1\n",
       "HarmonyOS v2.0                  1\n",
       "Hongmeng OS v4.0                1\n",
       "iOS v17                         1\n",
       "Android v5.1 (Lollipop)         1\n",
       "iOS v12.3                       1\n",
       "Android v12.1                   1\n",
       "iOS v13.0                       1\n",
       "HarmonyOS v2                    1\n",
       "Android v9 (Pie)                1\n",
       "Name: count, dtype: int64"
      ]
     },
     "execution_count": 42,
     "metadata": {},
     "output_type": "execute_result"
    }
   ],
   "source": [
    "df['os'].value_counts()"
   ]
  },
  {
   "cell_type": "code",
   "execution_count": 43,
   "id": "75bf25ce",
   "metadata": {
    "scrolled": false
   },
   "outputs": [],
   "source": [
    "# 'OS' ---> 'os_name' and 'os_version'\n",
    "df['os'] = df['os'].str.split(' v',expand=True)[0]"
   ]
  },
  {
   "cell_type": "code",
   "execution_count": 44,
   "id": "593ad65b",
   "metadata": {
    "scrolled": false
   },
   "outputs": [
    {
     "data": {
      "text/html": [
       "<div>\n",
       "<style scoped>\n",
       "    .dataframe tbody tr th:only-of-type {\n",
       "        vertical-align: middle;\n",
       "    }\n",
       "\n",
       "    .dataframe tbody tr th {\n",
       "        vertical-align: top;\n",
       "    }\n",
       "\n",
       "    .dataframe thead th {\n",
       "        text-align: right;\n",
       "    }\n",
       "</style>\n",
       "<table border=\"1\" class=\"dataframe\">\n",
       "  <thead>\n",
       "    <tr style=\"text-align: right;\">\n",
       "      <th></th>\n",
       "      <th>brand</th>\n",
       "      <th>processor_name</th>\n",
       "      <th>processor_cores</th>\n",
       "      <th>processor_speed</th>\n",
       "      <th>os</th>\n",
       "      <th>ram</th>\n",
       "      <th>storage</th>\n",
       "      <th>battery_capacity</th>\n",
       "      <th>battery_power</th>\n",
       "      <th>DualSim</th>\n",
       "      <th>...</th>\n",
       "      <th>wifi</th>\n",
       "      <th>ngc</th>\n",
       "      <th>irblaster</th>\n",
       "      <th>display_size</th>\n",
       "      <th>display_resolution</th>\n",
       "      <th>rear_camera</th>\n",
       "      <th>front_camera</th>\n",
       "      <th>memory_card_supported</th>\n",
       "      <th>rating</th>\n",
       "      <th>price</th>\n",
       "    </tr>\n",
       "  </thead>\n",
       "  <tbody>\n",
       "    <tr>\n",
       "      <th>0</th>\n",
       "      <td>OnePlus</td>\n",
       "      <td>Snapdragon</td>\n",
       "      <td>8.0</td>\n",
       "      <td>3.2</td>\n",
       "      <td>Android</td>\n",
       "      <td>12 GB RAM</td>\n",
       "      <td>256 GB inbuilt</td>\n",
       "      <td>5000 mAh</td>\n",
       "      <td>100W</td>\n",
       "      <td>1</td>\n",
       "      <td>...</td>\n",
       "      <td>1</td>\n",
       "      <td>1</td>\n",
       "      <td>0</td>\n",
       "      <td>6.70</td>\n",
       "      <td>1440x3216</td>\n",
       "      <td>50.0</td>\n",
       "      <td>16.0</td>\n",
       "      <td>0.0</td>\n",
       "      <td>89.0</td>\n",
       "      <td>54999</td>\n",
       "    </tr>\n",
       "    <tr>\n",
       "      <th>1</th>\n",
       "      <td>OnePlus</td>\n",
       "      <td>Snapdragon</td>\n",
       "      <td>8.0</td>\n",
       "      <td>2.2</td>\n",
       "      <td>Android</td>\n",
       "      <td>6 GB RAM</td>\n",
       "      <td>128 GB inbuilt</td>\n",
       "      <td>5000 mAh</td>\n",
       "      <td>33W</td>\n",
       "      <td>1</td>\n",
       "      <td>...</td>\n",
       "      <td>1</td>\n",
       "      <td>0</td>\n",
       "      <td>0</td>\n",
       "      <td>6.59</td>\n",
       "      <td>1080x2412</td>\n",
       "      <td>64.0</td>\n",
       "      <td>16.0</td>\n",
       "      <td>1.0</td>\n",
       "      <td>81.0</td>\n",
       "      <td>19989</td>\n",
       "    </tr>\n",
       "    <tr>\n",
       "      <th>2</th>\n",
       "      <td>Samsung</td>\n",
       "      <td>Exynos</td>\n",
       "      <td>8.0</td>\n",
       "      <td>2.4</td>\n",
       "      <td>Android</td>\n",
       "      <td>4 GB RAM</td>\n",
       "      <td>64 GB inbuilt</td>\n",
       "      <td>5000 mAh</td>\n",
       "      <td>15W</td>\n",
       "      <td>1</td>\n",
       "      <td>...</td>\n",
       "      <td>1</td>\n",
       "      <td>0</td>\n",
       "      <td>0</td>\n",
       "      <td>6.60</td>\n",
       "      <td>1080x2408</td>\n",
       "      <td>50.0</td>\n",
       "      <td>13.0</td>\n",
       "      <td>1.0</td>\n",
       "      <td>75.0</td>\n",
       "      <td>16499</td>\n",
       "    </tr>\n",
       "    <tr>\n",
       "      <th>3</th>\n",
       "      <td>Motorola</td>\n",
       "      <td>Snapdragon</td>\n",
       "      <td>8.0</td>\n",
       "      <td>2.2</td>\n",
       "      <td>Android</td>\n",
       "      <td>6 GB RAM</td>\n",
       "      <td>128 GB inbuilt</td>\n",
       "      <td>5000 mAh</td>\n",
       "      <td>NaN</td>\n",
       "      <td>1</td>\n",
       "      <td>...</td>\n",
       "      <td>1</td>\n",
       "      <td>0</td>\n",
       "      <td>0</td>\n",
       "      <td>6.55</td>\n",
       "      <td>1080x2400</td>\n",
       "      <td>50.0</td>\n",
       "      <td>16.0</td>\n",
       "      <td>1.0</td>\n",
       "      <td>81.0</td>\n",
       "      <td>14999</td>\n",
       "    </tr>\n",
       "    <tr>\n",
       "      <th>4</th>\n",
       "      <td>Realme</td>\n",
       "      <td>Dimensity</td>\n",
       "      <td>8.0</td>\n",
       "      <td>2.6</td>\n",
       "      <td>Android</td>\n",
       "      <td>6 GB RAM</td>\n",
       "      <td>128 GB inbuilt</td>\n",
       "      <td>5000 mAh</td>\n",
       "      <td>67W</td>\n",
       "      <td>1</td>\n",
       "      <td>...</td>\n",
       "      <td>1</td>\n",
       "      <td>0</td>\n",
       "      <td>0</td>\n",
       "      <td>6.70</td>\n",
       "      <td>1080x2412</td>\n",
       "      <td>108.0</td>\n",
       "      <td>16.0</td>\n",
       "      <td>0.0</td>\n",
       "      <td>82.0</td>\n",
       "      <td>24999</td>\n",
       "    </tr>\n",
       "  </tbody>\n",
       "</table>\n",
       "<p>5 rows × 23 columns</p>\n",
       "</div>"
      ],
      "text/plain": [
       "      brand processor_name  processor_cores  processor_speed       os  \\\n",
       "0   OnePlus     Snapdragon              8.0              3.2  Android   \n",
       "1   OnePlus     Snapdragon              8.0              2.2  Android   \n",
       "2   Samsung         Exynos              8.0              2.4  Android   \n",
       "3  Motorola     Snapdragon              8.0              2.2  Android   \n",
       "4    Realme      Dimensity              8.0              2.6  Android   \n",
       "\n",
       "         ram          storage battery_capacity battery_power  DualSim  ...  \\\n",
       "0  12 GB RAM   256 GB inbuilt        5000 mAh           100W        1  ...   \n",
       "1   6 GB RAM   128 GB inbuilt        5000 mAh            33W        1  ...   \n",
       "2   4 GB RAM    64 GB inbuilt        5000 mAh            15W        1  ...   \n",
       "3   6 GB RAM   128 GB inbuilt        5000 mAh            NaN        1  ...   \n",
       "4   6 GB RAM   128 GB inbuilt        5000 mAh            67W        1  ...   \n",
       "\n",
       "   wifi  ngc  irblaster  display_size  display_resolution  rear_camera  \\\n",
       "0     1    1          0          6.70           1440x3216         50.0   \n",
       "1     1    0          0          6.59           1080x2412         64.0   \n",
       "2     1    0          0          6.60           1080x2408         50.0   \n",
       "3     1    0          0          6.55           1080x2400         50.0   \n",
       "4     1    0          0          6.70           1080x2412        108.0   \n",
       "\n",
       "   front_camera memory_card_supported  rating  price  \n",
       "0          16.0                   0.0    89.0  54999  \n",
       "1          16.0                   1.0    81.0  19989  \n",
       "2          13.0                   1.0    75.0  16499  \n",
       "3          16.0                   1.0    81.0  14999  \n",
       "4          16.0                   0.0    82.0  24999  \n",
       "\n",
       "[5 rows x 23 columns]"
      ]
     },
     "execution_count": 44,
     "metadata": {},
     "output_type": "execute_result"
    }
   ],
   "source": [
    "df.head()"
   ]
  },
  {
   "cell_type": "code",
   "execution_count": 45,
   "id": "898fe4aa",
   "metadata": {},
   "outputs": [
    {
     "data": {
      "text/plain": [
       "brand\n",
       "Others      66\n",
       "Xiaomi      34\n",
       "OnePlus     23\n",
       "OPPO        21\n",
       "Samsung     19\n",
       "Motorola    17\n",
       "Nokia       17\n",
       "Vivo        16\n",
       "iQOO        16\n",
       "Realme      16\n",
       "Apple       14\n",
       "Tecno        9\n",
       "POCO         6\n",
       "Huawei       4\n",
       "Name: count, dtype: int64"
      ]
     },
     "execution_count": 45,
     "metadata": {},
     "output_type": "execute_result"
    }
   ],
   "source": [
    "df[df['os'].isnull()==True]['brand'].value_counts()"
   ]
  },
  {
   "cell_type": "code",
   "execution_count": 46,
   "id": "8a16576e",
   "metadata": {
    "scrolled": false
   },
   "outputs": [],
   "source": [
    "# filling null values of 'os' column\n",
    "df['os'] = np.where((df['os'].isnull()==True) & (df['brand']=='Apple'),'iOS',df['os'])\n",
    "df['os'] = np.where((df['os'].isnull()==True) & (df['brand']=='Huawei'),'HarmonyOS',df['os'])"
   ]
  },
  {
   "cell_type": "code",
   "execution_count": 47,
   "id": "d80da0a2",
   "metadata": {},
   "outputs": [],
   "source": [
    "df['os'] = df['os'].fillna('Android')"
   ]
  },
  {
   "cell_type": "code",
   "execution_count": 48,
   "id": "4977c829",
   "metadata": {},
   "outputs": [],
   "source": [
    "# assign 'OTHERS' category for other OS\n",
    "main=['Android','iOS']\n",
    "df['os'] = df['os'].apply(lambda x:x if x in main else 'Others')"
   ]
  },
  {
   "cell_type": "code",
   "execution_count": 49,
   "id": "0543de99",
   "metadata": {},
   "outputs": [
    {
     "data": {
      "text/plain": [
       "0"
      ]
     },
     "execution_count": 49,
     "metadata": {},
     "output_type": "execute_result"
    }
   ],
   "source": [
    "df['os'].isnull().sum()"
   ]
  },
  {
   "cell_type": "code",
   "execution_count": 50,
   "id": "a49a2922",
   "metadata": {},
   "outputs": [
    {
     "name": "stdout",
     "output_type": "stream",
     "text": [
      "os\n",
      "Android    956\n",
      "iOS         47\n",
      "Others      11\n",
      "Name: count, dtype: int64\n"
     ]
    },
    {
     "data": {
      "image/png": "[encoded data removed]",
      "text/plain": [
       "<Figure size 1200x500 with 1 Axes>"
      ]
     },
     "metadata": {},
     "output_type": "display_data"
    }
   ],
   "source": [
    "plt.figure(figsize=(12,5))\n",
    "print(df['os'].value_counts())\n",
    "df['os'].value_counts().plot(kind='bar')\n",
    "plt.show()"
   ]
  },
  {
   "cell_type": "code",
   "execution_count": 51,
   "id": "916aafbe",
   "metadata": {},
   "outputs": [
    {
     "data": {
      "image/png": "[encoded data removed]",
      "text/plain": [
       "<Figure size 1200x400 with 1 Axes>"
      ]
     },
     "metadata": {},
     "output_type": "display_data"
    }
   ],
   "source": [
    "# price and os \n",
    "plt.figure(figsize=(12,4))\n",
    "sns.barplot(x=df.os, y=df.price)\n",
    "plt.xticks(rotation='vertical')\n",
    "plt.show()"
   ]
  },
  {
   "cell_type": "markdown",
   "id": "1eb1eb0c",
   "metadata": {},
   "source": [
    "### 4. Ram and Storage :"
   ]
  },
  {
   "cell_type": "code",
   "execution_count": 53,
   "id": "6cb45003",
   "metadata": {},
   "outputs": [
    {
     "data": {
      "text/plain": [
       "brand                      0\n",
       "processor_name             0\n",
       "processor_cores            0\n",
       "processor_speed            0\n",
       "os                         0\n",
       "ram                       26\n",
       "storage                   26\n",
       "battery_capacity          33\n",
       "battery_power            249\n",
       "DualSim                    0\n",
       "Volte                      0\n",
       "is_5G                      0\n",
       "is_Vo5G                    0\n",
       "wifi                       0\n",
       "ngc                        0\n",
       "irblaster                  0\n",
       "display_size              33\n",
       "display_resolution        33\n",
       "rear_camera               66\n",
       "front_camera              77\n",
       "memory_card_supported    278\n",
       "rating                   140\n",
       "price                      0\n",
       "dtype: int64"
      ]
     },
     "execution_count": 53,
     "metadata": {},
     "output_type": "execute_result"
    }
   ],
   "source": [
    "df.isnull().sum()"
   ]
  },
  {
   "cell_type": "code",
   "execution_count": 54,
   "id": "0de6276f",
   "metadata": {},
   "outputs": [],
   "source": [
    "df['ram'] = df['ram'].str.replace('\\u2009',' ')\n",
    "df['storage'] = df['storage'].str.replace('\\u2009',' ')"
   ]
  },
  {
   "cell_type": "code",
   "execution_count": 59,
   "id": "59692376",
   "metadata": {},
   "outputs": [],
   "source": [
    "df['storage'] = df['storage'].str.replace(' 1 TB inbuilt',' 1000 GB inbuilt')"
   ]
  },
  {
   "cell_type": "code",
   "execution_count": 60,
   "id": "1cb6bc07",
   "metadata": {},
   "outputs": [],
   "source": [
    "## 'ram' ---> 'is_ram_gb' and 'ram'\n",
    "df['is_ram_gb'] = df['ram'].str.split(expand=True)[1]\n",
    "df['ram'] = df['ram'].str.split(expand=True)[0]"
   ]
  },
  {
   "cell_type": "code",
   "execution_count": 61,
   "id": "dbfa7486",
   "metadata": {},
   "outputs": [],
   "source": [
    "## 'storage' ---> 'is_storage_gb' and 'storage'\n",
    "df['is_storage_gb'] = df['storage'].str.split(expand=True)[1]\n",
    "df['storage'] = df['storage'].str.split(expand=True)[0]"
   ]
  },
  {
   "cell_type": "markdown",
   "id": "abc60f0c",
   "metadata": {},
   "source": [
    "##### Ram and Storage observation :\n",
    "\n",
    "if Price <= 6,000 then ram,storage are in MBs else both are in GBs"
   ]
  },
  {
   "cell_type": "code",
   "execution_count": 62,
   "id": "4f7b2210",
   "metadata": {},
   "outputs": [
    {
     "name": "stdout",
     "output_type": "stream",
     "text": [
      "8\n",
      "512\n",
      "128\n",
      "128\n"
     ]
    }
   ],
   "source": [
    "# filling missing values \n",
    "print(df[(df['is_ram_gb']=='GB') & (df['ram'].isnull()==False)]['ram'].mode()[0])              # mode_gb_ram\n",
    "print(df[(df['is_ram_gb']=='MB') & (df['ram'].isnull()==False)]['ram'].mode()[0])              # mode_mb_ram\n",
    "print(df[(df['is_storage_gb']=='GB') & (df['storage'].isnull()==False)]['storage'].mode()[0])  # mode_gb_storage\n",
    "print(df[(df['is_storage_gb']=='MB') & (df['storage'].isnull()==False)]['storage'].mode()[0])  # mode_mb_storage"
   ]
  },
  {
   "cell_type": "code",
   "execution_count": 63,
   "id": "6a67537e",
   "metadata": {},
   "outputs": [],
   "source": [
    "df['ram'] = np.where((df['ram'].isnull()==True) & (df['price']>6000),'8',df['ram'])\n",
    "df['ram'] = np.where((df['ram'].isnull()==True) & (df['price']<6000),'512',df['ram'])\n",
    "df['is_ram_gb'] = np.where((df['is_ram_gb'].isnull()==True) & (df['price']>6000),'GB',df['is_ram_gb'])\n",
    "df['is_ram_gb'] = np.where((df['is_ram_gb'].isnull()==True) & (df['price']<6000),'MB',df['is_ram_gb'])\n",
    "\n",
    "df['storage'] = df['storage'].fillna('128')\n",
    "df['is_storage_gb'] = np.where((df['is_storage_gb'].isnull()==True) & (df['price']>6000),'GB',df['is_storage_gb'])\n",
    "df['is_storage_gb'] = np.where((df['is_storage_gb'].isnull()==True) & (df['price']<6000),'MB',df['is_storage_gb'])"
   ]
  },
  {
   "cell_type": "code",
   "execution_count": 64,
   "id": "ba4192ec",
   "metadata": {},
   "outputs": [],
   "source": [
    "df['ram'] = df['ram'].astype(np.int64)\n",
    "df['storage'] = df['storage'].astype(np.int64)"
   ]
  },
  {
   "cell_type": "code",
   "execution_count": 65,
   "id": "472c01e2",
   "metadata": {},
   "outputs": [],
   "source": [
    "df['is_ram_gb'] = df['is_ram_gb'].map({'GB':1,'MB':0})\n",
    "df['is_storage_gb'] = df['is_storage_gb'].map({'GB':1,'MB':0})"
   ]
  },
  {
   "cell_type": "code",
   "execution_count": 66,
   "id": "0aba004e",
   "metadata": {},
   "outputs": [
    {
     "data": {
      "text/plain": [
       "brand                      0\n",
       "processor_name             0\n",
       "processor_cores            0\n",
       "processor_speed            0\n",
       "os                         0\n",
       "ram                        0\n",
       "storage                    0\n",
       "battery_capacity          33\n",
       "battery_power            249\n",
       "DualSim                    0\n",
       "Volte                      0\n",
       "is_5G                      0\n",
       "is_Vo5G                    0\n",
       "wifi                       0\n",
       "ngc                        0\n",
       "irblaster                  0\n",
       "display_size              33\n",
       "display_resolution        33\n",
       "rear_camera               66\n",
       "front_camera              77\n",
       "memory_card_supported    278\n",
       "rating                   140\n",
       "price                      0\n",
       "is_ram_gb                  0\n",
       "is_storage_gb              0\n",
       "dtype: int64"
      ]
     },
     "execution_count": 66,
     "metadata": {},
     "output_type": "execute_result"
    }
   ],
   "source": [
    "df.isnull().sum()"
   ]
  },
  {
   "cell_type": "markdown",
   "id": "00470f76",
   "metadata": {},
   "source": [
    "### 5. Battery :"
   ]
  },
  {
   "cell_type": "code",
   "execution_count": 67,
   "id": "a139a57b",
   "metadata": {},
   "outputs": [
    {
     "data": {
      "text/html": [
       "<div>\n",
       "<style scoped>\n",
       "    .dataframe tbody tr th:only-of-type {\n",
       "        vertical-align: middle;\n",
       "    }\n",
       "\n",
       "    .dataframe tbody tr th {\n",
       "        vertical-align: top;\n",
       "    }\n",
       "\n",
       "    .dataframe thead th {\n",
       "        text-align: right;\n",
       "    }\n",
       "</style>\n",
       "<table border=\"1\" class=\"dataframe\">\n",
       "  <thead>\n",
       "    <tr style=\"text-align: right;\">\n",
       "      <th></th>\n",
       "      <th>brand</th>\n",
       "      <th>processor_name</th>\n",
       "      <th>processor_cores</th>\n",
       "      <th>processor_speed</th>\n",
       "      <th>os</th>\n",
       "      <th>ram</th>\n",
       "      <th>storage</th>\n",
       "      <th>battery_capacity</th>\n",
       "      <th>battery_power</th>\n",
       "      <th>DualSim</th>\n",
       "      <th>...</th>\n",
       "      <th>irblaster</th>\n",
       "      <th>display_size</th>\n",
       "      <th>display_resolution</th>\n",
       "      <th>rear_camera</th>\n",
       "      <th>front_camera</th>\n",
       "      <th>memory_card_supported</th>\n",
       "      <th>rating</th>\n",
       "      <th>price</th>\n",
       "      <th>is_ram_gb</th>\n",
       "      <th>is_storage_gb</th>\n",
       "    </tr>\n",
       "  </thead>\n",
       "  <tbody>\n",
       "    <tr>\n",
       "      <th>0</th>\n",
       "      <td>OnePlus</td>\n",
       "      <td>Snapdragon</td>\n",
       "      <td>8.0</td>\n",
       "      <td>3.2</td>\n",
       "      <td>Android</td>\n",
       "      <td>12</td>\n",
       "      <td>256</td>\n",
       "      <td>5000 mAh</td>\n",
       "      <td>100W</td>\n",
       "      <td>1</td>\n",
       "      <td>...</td>\n",
       "      <td>0</td>\n",
       "      <td>6.70</td>\n",
       "      <td>1440x3216</td>\n",
       "      <td>50.0</td>\n",
       "      <td>16.0</td>\n",
       "      <td>0.0</td>\n",
       "      <td>89.0</td>\n",
       "      <td>54999</td>\n",
       "      <td>1</td>\n",
       "      <td>1</td>\n",
       "    </tr>\n",
       "    <tr>\n",
       "      <th>1</th>\n",
       "      <td>OnePlus</td>\n",
       "      <td>Snapdragon</td>\n",
       "      <td>8.0</td>\n",
       "      <td>2.2</td>\n",
       "      <td>Android</td>\n",
       "      <td>6</td>\n",
       "      <td>128</td>\n",
       "      <td>5000 mAh</td>\n",
       "      <td>33W</td>\n",
       "      <td>1</td>\n",
       "      <td>...</td>\n",
       "      <td>0</td>\n",
       "      <td>6.59</td>\n",
       "      <td>1080x2412</td>\n",
       "      <td>64.0</td>\n",
       "      <td>16.0</td>\n",
       "      <td>1.0</td>\n",
       "      <td>81.0</td>\n",
       "      <td>19989</td>\n",
       "      <td>1</td>\n",
       "      <td>1</td>\n",
       "    </tr>\n",
       "    <tr>\n",
       "      <th>2</th>\n",
       "      <td>Samsung</td>\n",
       "      <td>Exynos</td>\n",
       "      <td>8.0</td>\n",
       "      <td>2.4</td>\n",
       "      <td>Android</td>\n",
       "      <td>4</td>\n",
       "      <td>64</td>\n",
       "      <td>5000 mAh</td>\n",
       "      <td>15W</td>\n",
       "      <td>1</td>\n",
       "      <td>...</td>\n",
       "      <td>0</td>\n",
       "      <td>6.60</td>\n",
       "      <td>1080x2408</td>\n",
       "      <td>50.0</td>\n",
       "      <td>13.0</td>\n",
       "      <td>1.0</td>\n",
       "      <td>75.0</td>\n",
       "      <td>16499</td>\n",
       "      <td>1</td>\n",
       "      <td>1</td>\n",
       "    </tr>\n",
       "    <tr>\n",
       "      <th>3</th>\n",
       "      <td>Motorola</td>\n",
       "      <td>Snapdragon</td>\n",
       "      <td>8.0</td>\n",
       "      <td>2.2</td>\n",
       "      <td>Android</td>\n",
       "      <td>6</td>\n",
       "      <td>128</td>\n",
       "      <td>5000 mAh</td>\n",
       "      <td>NaN</td>\n",
       "      <td>1</td>\n",
       "      <td>...</td>\n",
       "      <td>0</td>\n",
       "      <td>6.55</td>\n",
       "      <td>1080x2400</td>\n",
       "      <td>50.0</td>\n",
       "      <td>16.0</td>\n",
       "      <td>1.0</td>\n",
       "      <td>81.0</td>\n",
       "      <td>14999</td>\n",
       "      <td>1</td>\n",
       "      <td>1</td>\n",
       "    </tr>\n",
       "    <tr>\n",
       "      <th>4</th>\n",
       "      <td>Realme</td>\n",
       "      <td>Dimensity</td>\n",
       "      <td>8.0</td>\n",
       "      <td>2.6</td>\n",
       "      <td>Android</td>\n",
       "      <td>6</td>\n",
       "      <td>128</td>\n",
       "      <td>5000 mAh</td>\n",
       "      <td>67W</td>\n",
       "      <td>1</td>\n",
       "      <td>...</td>\n",
       "      <td>0</td>\n",
       "      <td>6.70</td>\n",
       "      <td>1080x2412</td>\n",
       "      <td>108.0</td>\n",
       "      <td>16.0</td>\n",
       "      <td>0.0</td>\n",
       "      <td>82.0</td>\n",
       "      <td>24999</td>\n",
       "      <td>1</td>\n",
       "      <td>1</td>\n",
       "    </tr>\n",
       "  </tbody>\n",
       "</table>\n",
       "<p>5 rows × 25 columns</p>\n",
       "</div>"
      ],
      "text/plain": [
       "      brand processor_name  processor_cores  processor_speed       os  ram  \\\n",
       "0   OnePlus     Snapdragon              8.0              3.2  Android   12   \n",
       "1   OnePlus     Snapdragon              8.0              2.2  Android    6   \n",
       "2   Samsung         Exynos              8.0              2.4  Android    4   \n",
       "3  Motorola     Snapdragon              8.0              2.2  Android    6   \n",
       "4    Realme      Dimensity              8.0              2.6  Android    6   \n",
       "\n",
       "   storage battery_capacity battery_power  DualSim  ...  irblaster  \\\n",
       "0      256        5000 mAh           100W        1  ...          0   \n",
       "1      128        5000 mAh            33W        1  ...          0   \n",
       "2       64        5000 mAh            15W        1  ...          0   \n",
       "3      128        5000 mAh            NaN        1  ...          0   \n",
       "4      128        5000 mAh            67W        1  ...          0   \n",
       "\n",
       "   display_size  display_resolution  rear_camera  front_camera  \\\n",
       "0          6.70           1440x3216         50.0          16.0   \n",
       "1          6.59           1080x2412         64.0          16.0   \n",
       "2          6.60           1080x2408         50.0          13.0   \n",
       "3          6.55           1080x2400         50.0          16.0   \n",
       "4          6.70           1080x2412        108.0          16.0   \n",
       "\n",
       "   memory_card_supported  rating  price  is_ram_gb  is_storage_gb  \n",
       "0                    0.0    89.0  54999          1              1  \n",
       "1                    1.0    81.0  19989          1              1  \n",
       "2                    1.0    75.0  16499          1              1  \n",
       "3                    1.0    81.0  14999          1              1  \n",
       "4                    0.0    82.0  24999          1              1  \n",
       "\n",
       "[5 rows x 25 columns]"
      ]
     },
     "execution_count": 67,
     "metadata": {},
     "output_type": "execute_result"
    }
   ],
   "source": [
    "df.head()"
   ]
  },
  {
   "cell_type": "code",
   "execution_count": 68,
   "id": "7d5bed39",
   "metadata": {},
   "outputs": [],
   "source": [
    "df['battery_capacity'] = df['battery_capacity'].str.replace('\\u2009mAh ','')\n",
    "df['battery_power'] = df['battery_power'].str.replace('W','')"
   ]
  },
  {
   "cell_type": "code",
   "execution_count": 69,
   "id": "a0c120f2",
   "metadata": {},
   "outputs": [
    {
     "name": "stdout",
     "output_type": "stream",
     "text": [
      "33\n",
      "249\n"
     ]
    }
   ],
   "source": [
    "# null values in 'battery column'\n",
    "print(df['battery_capacity'].isnull().sum())\n",
    "print(df['battery_power'].isnull().sum())"
   ]
  },
  {
   "cell_type": "code",
   "execution_count": 70,
   "id": "ad0510d5",
   "metadata": {},
   "outputs": [],
   "source": [
    "# filling null values of 'battery_capacity' column ---> mean()\n",
    "mean = round(df['battery_capacity'].fillna(0).astype(np.int64).mean(),0)\n",
    "df['battery_capacity'] = df['battery_capacity'].fillna(mean).astype(np.int64)"
   ]
  },
  {
   "cell_type": "code",
   "execution_count": 71,
   "id": "5a81dd0a",
   "metadata": {},
   "outputs": [],
   "source": [
    "# since the precentage of null values is very high, it's not efficient for imputation\n",
    "df = df.drop(['battery_power'],axis=1)"
   ]
  },
  {
   "cell_type": "code",
   "execution_count": 72,
   "id": "49ea514e",
   "metadata": {},
   "outputs": [
    {
     "data": {
      "text/plain": [
       "(1014, 24)"
      ]
     },
     "execution_count": 72,
     "metadata": {},
     "output_type": "execute_result"
    }
   ],
   "source": [
    "df.shape"
   ]
  },
  {
   "cell_type": "markdown",
   "id": "358d4aba",
   "metadata": {},
   "source": [
    "### 6. Features :"
   ]
  },
  {
   "cell_type": "code",
   "execution_count": 73,
   "id": "efcc0c1a",
   "metadata": {},
   "outputs": [
    {
     "data": {
      "text/plain": [
       "Index(['brand', 'processor_name', 'processor_cores', 'processor_speed', 'os',\n",
       "       'ram', 'storage', 'battery_capacity', 'DualSim', 'Volte', 'is_5G',\n",
       "       'is_Vo5G', 'wifi', 'ngc', 'irblaster', 'display_size',\n",
       "       'display_resolution', 'rear_camera', 'front_camera',\n",
       "       'memory_card_supported', 'rating', 'price', 'is_ram_gb',\n",
       "       'is_storage_gb'],\n",
       "      dtype='object')"
      ]
     },
     "execution_count": 73,
     "metadata": {},
     "output_type": "execute_result"
    }
   ],
   "source": [
    "df.columns"
   ]
  },
  {
   "cell_type": "code",
   "execution_count": 74,
   "id": "aa981ee7",
   "metadata": {},
   "outputs": [
    {
     "data": {
      "text/plain": [
       "brand                      0\n",
       "processor_name             0\n",
       "processor_cores            0\n",
       "processor_speed            0\n",
       "os                         0\n",
       "ram                        0\n",
       "storage                    0\n",
       "battery_capacity           0\n",
       "DualSim                    0\n",
       "Volte                      0\n",
       "is_5G                      0\n",
       "is_Vo5G                    0\n",
       "wifi                       0\n",
       "ngc                        0\n",
       "irblaster                  0\n",
       "display_size              33\n",
       "display_resolution        33\n",
       "rear_camera               66\n",
       "front_camera              77\n",
       "memory_card_supported    278\n",
       "rating                   140\n",
       "price                      0\n",
       "is_ram_gb                  0\n",
       "is_storage_gb              0\n",
       "dtype: int64"
      ]
     },
     "execution_count": 74,
     "metadata": {},
     "output_type": "execute_result"
    }
   ],
   "source": [
    "df.isnull().sum()"
   ]
  },
  {
   "cell_type": "markdown",
   "id": "ad43ff31",
   "metadata": {},
   "source": [
    "### 7. Display :"
   ]
  },
  {
   "cell_type": "code",
   "execution_count": 75,
   "id": "26e10bbe",
   "metadata": {},
   "outputs": [],
   "source": [
    "# filling missing values of 'display_size'\n",
    "mean_display_size = round(df['display_size'].describe()[1],2)\n",
    "df['display_size'] = df['display_size'].fillna(mean_display_size)"
   ]
  },
  {
   "cell_type": "code",
   "execution_count": 76,
   "id": "eebe304b",
   "metadata": {},
   "outputs": [],
   "source": [
    "# 'display_resolution' ---> 'display_width' and 'display_height'\n",
    "df['display_width'] = df['display_resolution'].str.replace(' ','').str.split('x',expand=True)[0]\n",
    "df['display_height'] = df['display_resolution'].str.replace(' ','').str.split('x',expand=True)[1]"
   ]
  },
  {
   "cell_type": "code",
   "execution_count": 77,
   "id": "dd656e62",
   "metadata": {},
   "outputs": [],
   "source": [
    "# filling missing values of 'display_width' and 'display_height'\n",
    "\n",
    "df['display_width'] = df['display_width'].fillna('0').astype(np.int64)\n",
    "df['display_height'] = df['display_height'].fillna('0').astype(np.int64)\n",
    "\n",
    "mean_display_width = round(df['display_width'].mean(),0)\n",
    "mean_display_height = round(df['display_height'].mean(),0)\n",
    "\n",
    "df['display_width'] = np.where(df['display_width']==0,mean_display_width,df['display_width'])\n",
    "df['display_height'] = np.where(df['display_height']==0,mean_display_height,df['display_height'])"
   ]
  },
  {
   "cell_type": "code",
   "execution_count": 78,
   "id": "65f9e5d0",
   "metadata": {},
   "outputs": [],
   "source": [
    "df = df.drop(['display_resolution'],axis=1)"
   ]
  },
  {
   "cell_type": "code",
   "execution_count": 79,
   "id": "78761c50",
   "metadata": {},
   "outputs": [
    {
     "data": {
      "text/plain": [
       "brand                      0\n",
       "processor_name             0\n",
       "processor_cores            0\n",
       "processor_speed            0\n",
       "os                         0\n",
       "ram                        0\n",
       "storage                    0\n",
       "battery_capacity           0\n",
       "DualSim                    0\n",
       "Volte                      0\n",
       "is_5G                      0\n",
       "is_Vo5G                    0\n",
       "wifi                       0\n",
       "ngc                        0\n",
       "irblaster                  0\n",
       "display_size               0\n",
       "rear_camera               66\n",
       "front_camera              77\n",
       "memory_card_supported    278\n",
       "rating                   140\n",
       "price                      0\n",
       "is_ram_gb                  0\n",
       "is_storage_gb              0\n",
       "display_width              0\n",
       "display_height             0\n",
       "dtype: int64"
      ]
     },
     "execution_count": 79,
     "metadata": {},
     "output_type": "execute_result"
    }
   ],
   "source": [
    "df.isnull().sum()"
   ]
  },
  {
   "cell_type": "code",
   "execution_count": 80,
   "id": "64bb228e",
   "metadata": {},
   "outputs": [
    {
     "name": "stdout",
     "output_type": "stream",
     "text": [
      "<class 'pandas.core.frame.DataFrame'>\n",
      "Index: 1014 entries, 0 to 1019\n",
      "Data columns (total 25 columns):\n",
      " #   Column                 Non-Null Count  Dtype  \n",
      "---  ------                 --------------  -----  \n",
      " 0   brand                  1014 non-null   object \n",
      " 1   processor_name         1014 non-null   object \n",
      " 2   processor_cores        1014 non-null   float64\n",
      " 3   processor_speed        1014 non-null   float64\n",
      " 4   os                     1014 non-null   object \n",
      " 5   ram                    1014 non-null   int64  \n",
      " 6   storage                1014 non-null   int64  \n",
      " 7   battery_capacity       1014 non-null   int64  \n",
      " 8   DualSim                1014 non-null   int64  \n",
      " 9   Volte                  1014 non-null   int64  \n",
      " 10  is_5G                  1014 non-null   int64  \n",
      " 11  is_Vo5G                1014 non-null   int64  \n",
      " 12  wifi                   1014 non-null   int64  \n",
      " 13  ngc                    1014 non-null   int64  \n",
      " 14  irblaster              1014 non-null   int64  \n",
      " 15  display_size           1014 non-null   float64\n",
      " 16  rear_camera            948 non-null    float64\n",
      " 17  front_camera           937 non-null    float64\n",
      " 18  memory_card_supported  736 non-null    float64\n",
      " 19  rating                 874 non-null    float64\n",
      " 20  price                  1014 non-null   int64  \n",
      " 21  is_ram_gb              1014 non-null   int64  \n",
      " 22  is_storage_gb          1014 non-null   int64  \n",
      " 23  display_width          1014 non-null   float64\n",
      " 24  display_height         1014 non-null   float64\n",
      "dtypes: float64(9), int64(13), object(3)\n",
      "memory usage: 206.0+ KB\n"
     ]
    }
   ],
   "source": [
    "df.info()"
   ]
  },
  {
   "cell_type": "markdown",
   "id": "c1a6bed5",
   "metadata": {},
   "source": [
    "### 8. Camera :"
   ]
  },
  {
   "cell_type": "code",
   "execution_count": 81,
   "id": "678ad68f",
   "metadata": {},
   "outputs": [],
   "source": [
    "# filling null values ---> 'camera' column\n",
    "df['rear_camera'] = df['rear_camera'].fillna(round(df['rear_camera'].describe()[1],0))\n",
    "df['front_camera'] = df['front_camera'].fillna(round(df['front_camera'].describe()[1],0))"
   ]
  },
  {
   "cell_type": "code",
   "execution_count": 82,
   "id": "68303f43",
   "metadata": {},
   "outputs": [
    {
     "data": {
      "text/plain": [
       "brand                      0\n",
       "processor_name             0\n",
       "processor_cores            0\n",
       "processor_speed            0\n",
       "os                         0\n",
       "ram                        0\n",
       "storage                    0\n",
       "battery_capacity           0\n",
       "DualSim                    0\n",
       "Volte                      0\n",
       "is_5G                      0\n",
       "is_Vo5G                    0\n",
       "wifi                       0\n",
       "ngc                        0\n",
       "irblaster                  0\n",
       "display_size               0\n",
       "rear_camera                0\n",
       "front_camera               0\n",
       "memory_card_supported    278\n",
       "rating                   140\n",
       "price                      0\n",
       "is_ram_gb                  0\n",
       "is_storage_gb              0\n",
       "display_width              0\n",
       "display_height             0\n",
       "dtype: int64"
      ]
     },
     "execution_count": 82,
     "metadata": {},
     "output_type": "execute_result"
    }
   ],
   "source": [
    "df.isnull().sum()"
   ]
  },
  {
   "cell_type": "markdown",
   "id": "3497bbf6",
   "metadata": {},
   "source": [
    "### 9. Memory Card :"
   ]
  },
  {
   "cell_type": "code",
   "execution_count": 83,
   "id": "1f663766",
   "metadata": {},
   "outputs": [
    {
     "name": "stdout",
     "output_type": "stream",
     "text": [
      "brand\n",
      "Samsung     107\n",
      "Xiaomi       89\n",
      "Vivo         78\n",
      "Realme       73\n",
      "OPPO         60\n",
      "Others       57\n",
      "Motorola     32\n",
      "Infinix      29\n",
      "POCO         28\n",
      "Tecno        24\n",
      "Nokia        18\n",
      "OnePlus      13\n",
      "iQOO         10\n",
      "Huawei        9\n",
      "Name: count, dtype: int64\n",
      "brand\n",
      "Apple       33\n",
      "Vivo        13\n",
      "Xiaomi      11\n",
      "Others      10\n",
      "Realme       8\n",
      "Samsung      7\n",
      "POCO         7\n",
      "OnePlus      6\n",
      "iQOO         6\n",
      "Motorola     4\n",
      "OPPO         3\n",
      "Huawei       1\n",
      "Name: count, dtype: int64\n"
     ]
    }
   ],
   "source": [
    "print(df[df['memory_card_supported']==1]['brand'].value_counts())\n",
    "print(df[df['memory_card_supported']==0]['brand'].value_counts())"
   ]
  },
  {
   "cell_type": "code",
   "execution_count": 84,
   "id": "a9420382",
   "metadata": {},
   "outputs": [
    {
     "data": {
      "text/plain": [
       "brand\n",
       "Others      60\n",
       "Xiaomi      36\n",
       "OPPO        24\n",
       "OnePlus     23\n",
       "Samsung     21\n",
       "Vivo        20\n",
       "Motorola    17\n",
       "iQOO        16\n",
       "Realme      16\n",
       "Apple       14\n",
       "Nokia       12\n",
       "Tecno        9\n",
       "POCO         6\n",
       "Huawei       4\n",
       "Name: count, dtype: int64"
      ]
     },
     "execution_count": 84,
     "metadata": {},
     "output_type": "execute_result"
    }
   ],
   "source": [
    "df[df['memory_card_supported'].isnull()==True]['brand'].value_counts()"
   ]
  },
  {
   "cell_type": "code",
   "execution_count": 85,
   "id": "72a24850",
   "metadata": {},
   "outputs": [
    {
     "data": {
      "text/plain": [
       "<Axes: xlabel='memory_card_supported', ylabel='price'>"
      ]
     },
     "execution_count": 85,
     "metadata": {},
     "output_type": "execute_result"
    },
    {
     "data": {
      "image/png": "[encoded data removed]",
      "text/plain": [
       "<Figure size 640x480 with 1 Axes>"
      ]
     },
     "metadata": {},
     "output_type": "display_data"
    }
   ],
   "source": [
    "sns.barplot(x=df['memory_card_supported'],y=df['price'])"
   ]
  },
  {
   "cell_type": "code",
   "execution_count": 86,
   "id": "eefc32b4",
   "metadata": {},
   "outputs": [],
   "source": [
    "# since the precentage of null values is very high, it's not efficient for imputation\n",
    "df = df.drop(['memory_card_supported'],axis=1)"
   ]
  },
  {
   "cell_type": "markdown",
   "id": "5b97c3ed",
   "metadata": {},
   "source": [
    "### 10. Rating :"
   ]
  },
  {
   "cell_type": "code",
   "execution_count": 87,
   "id": "b14e53e4",
   "metadata": {},
   "outputs": [
    {
     "data": {
      "text/plain": [
       "140"
      ]
     },
     "execution_count": 87,
     "metadata": {},
     "output_type": "execute_result"
    }
   ],
   "source": [
    "df['rating'].isnull().sum()"
   ]
  },
  {
   "cell_type": "code",
   "execution_count": 88,
   "id": "a7ff2f0a",
   "metadata": {},
   "outputs": [
    {
     "data": {
      "text/plain": [
       "dtype('float64')"
      ]
     },
     "execution_count": 88,
     "metadata": {},
     "output_type": "execute_result"
    }
   ],
   "source": [
    "df['rating'].dtype"
   ]
  },
  {
   "cell_type": "code",
   "execution_count": 89,
   "id": "558d228f",
   "metadata": {},
   "outputs": [
    {
     "data": {
      "text/html": [
       "<div>\n",
       "<style scoped>\n",
       "    .dataframe tbody tr th:only-of-type {\n",
       "        vertical-align: middle;\n",
       "    }\n",
       "\n",
       "    .dataframe tbody tr th {\n",
       "        vertical-align: top;\n",
       "    }\n",
       "\n",
       "    .dataframe thead th {\n",
       "        text-align: right;\n",
       "    }\n",
       "</style>\n",
       "<table border=\"1\" class=\"dataframe\">\n",
       "  <thead>\n",
       "    <tr style=\"text-align: right;\">\n",
       "      <th></th>\n",
       "      <th>brand</th>\n",
       "      <th>rating</th>\n",
       "    </tr>\n",
       "  </thead>\n",
       "  <tbody>\n",
       "    <tr>\n",
       "      <th>0</th>\n",
       "      <td>Apple</td>\n",
       "      <td>76.795455</td>\n",
       "    </tr>\n",
       "    <tr>\n",
       "      <th>1</th>\n",
       "      <td>Huawei</td>\n",
       "      <td>79.900000</td>\n",
       "    </tr>\n",
       "    <tr>\n",
       "      <th>2</th>\n",
       "      <td>Infinix</td>\n",
       "      <td>76.285714</td>\n",
       "    </tr>\n",
       "    <tr>\n",
       "      <th>3</th>\n",
       "      <td>Motorola</td>\n",
       "      <td>80.104167</td>\n",
       "    </tr>\n",
       "    <tr>\n",
       "      <th>4</th>\n",
       "      <td>Nokia</td>\n",
       "      <td>75.300000</td>\n",
       "    </tr>\n",
       "    <tr>\n",
       "      <th>5</th>\n",
       "      <td>OPPO</td>\n",
       "      <td>78.641975</td>\n",
       "    </tr>\n",
       "    <tr>\n",
       "      <th>6</th>\n",
       "      <td>OnePlus</td>\n",
       "      <td>82.236842</td>\n",
       "    </tr>\n",
       "    <tr>\n",
       "      <th>7</th>\n",
       "      <td>Others</td>\n",
       "      <td>78.524390</td>\n",
       "    </tr>\n",
       "    <tr>\n",
       "      <th>8</th>\n",
       "      <td>POCO</td>\n",
       "      <td>78.700000</td>\n",
       "    </tr>\n",
       "    <tr>\n",
       "      <th>9</th>\n",
       "      <td>Realme</td>\n",
       "      <td>76.445652</td>\n",
       "    </tr>\n",
       "    <tr>\n",
       "      <th>10</th>\n",
       "      <td>Samsung</td>\n",
       "      <td>78.724138</td>\n",
       "    </tr>\n",
       "    <tr>\n",
       "      <th>11</th>\n",
       "      <td>Tecno</td>\n",
       "      <td>73.677419</td>\n",
       "    </tr>\n",
       "    <tr>\n",
       "      <th>12</th>\n",
       "      <td>Vivo</td>\n",
       "      <td>77.156250</td>\n",
       "    </tr>\n",
       "    <tr>\n",
       "      <th>13</th>\n",
       "      <td>Xiaomi</td>\n",
       "      <td>78.746032</td>\n",
       "    </tr>\n",
       "    <tr>\n",
       "      <th>14</th>\n",
       "      <td>iQOO</td>\n",
       "      <td>82.218750</td>\n",
       "    </tr>\n",
       "  </tbody>\n",
       "</table>\n",
       "</div>"
      ],
      "text/plain": [
       "       brand     rating\n",
       "0      Apple  76.795455\n",
       "1     Huawei  79.900000\n",
       "2    Infinix  76.285714\n",
       "3   Motorola  80.104167\n",
       "4      Nokia  75.300000\n",
       "5       OPPO  78.641975\n",
       "6    OnePlus  82.236842\n",
       "7     Others  78.524390\n",
       "8       POCO  78.700000\n",
       "9     Realme  76.445652\n",
       "10   Samsung  78.724138\n",
       "11     Tecno  73.677419\n",
       "12      Vivo  77.156250\n",
       "13    Xiaomi  78.746032\n",
       "14      iQOO  82.218750"
      ]
     },
     "execution_count": 89,
     "metadata": {},
     "output_type": "execute_result"
    }
   ],
   "source": [
    "# brand_wise rating \n",
    "ratings = df[['brand','rating']].groupby(['brand'],as_index=False).mean()\n",
    "ratings"
   ]
  },
  {
   "cell_type": "code",
   "execution_count": 90,
   "id": "0077918d",
   "metadata": {},
   "outputs": [
    {
     "data": {
      "text/plain": [
       "array(['Samsung', 'OnePlus', 'OPPO', 'Others', 'Vivo', 'Xiaomi', 'Nokia',\n",
       "       'Realme', 'Motorola', 'POCO', 'Apple', 'Infinix', 'Tecno',\n",
       "       'Huawei'], dtype=object)"
      ]
     },
     "execution_count": 90,
     "metadata": {},
     "output_type": "execute_result"
    }
   ],
   "source": [
    "df[df['rating'].isnull()==True]['brand'].unique()"
   ]
  },
  {
   "cell_type": "code",
   "execution_count": 91,
   "id": "34e7c679",
   "metadata": {},
   "outputs": [],
   "source": [
    "# rating column can't be used as a input in prediction from the user logically\n",
    "df = df.drop(['rating'],axis=1)"
   ]
  },
  {
   "cell_type": "code",
   "execution_count": 92,
   "id": "a2ae7437",
   "metadata": {},
   "outputs": [
    {
     "name": "stdout",
     "output_type": "stream",
     "text": [
      "<class 'pandas.core.frame.DataFrame'>\n",
      "Index: 1014 entries, 0 to 1019\n",
      "Data columns (total 23 columns):\n",
      " #   Column            Non-Null Count  Dtype  \n",
      "---  ------            --------------  -----  \n",
      " 0   brand             1014 non-null   object \n",
      " 1   processor_name    1014 non-null   object \n",
      " 2   processor_cores   1014 non-null   float64\n",
      " 3   processor_speed   1014 non-null   float64\n",
      " 4   os                1014 non-null   object \n",
      " 5   ram               1014 non-null   int64  \n",
      " 6   storage           1014 non-null   int64  \n",
      " 7   battery_capacity  1014 non-null   int64  \n",
      " 8   DualSim           1014 non-null   int64  \n",
      " 9   Volte             1014 non-null   int64  \n",
      " 10  is_5G             1014 non-null   int64  \n",
      " 11  is_Vo5G           1014 non-null   int64  \n",
      " 12  wifi              1014 non-null   int64  \n",
      " 13  ngc               1014 non-null   int64  \n",
      " 14  irblaster         1014 non-null   int64  \n",
      " 15  display_size      1014 non-null   float64\n",
      " 16  rear_camera       1014 non-null   float64\n",
      " 17  front_camera      1014 non-null   float64\n",
      " 18  price             1014 non-null   int64  \n",
      " 19  is_ram_gb         1014 non-null   int64  \n",
      " 20  is_storage_gb     1014 non-null   int64  \n",
      " 21  display_width     1014 non-null   float64\n",
      " 22  display_height    1014 non-null   float64\n",
      "dtypes: float64(7), int64(13), object(3)\n",
      "memory usage: 190.1+ KB\n"
     ]
    }
   ],
   "source": [
    "df.info()"
   ]
  },
  {
   "cell_type": "code",
   "execution_count": 93,
   "id": "bdb463d6",
   "metadata": {},
   "outputs": [
    {
     "data": {
      "text/plain": [
       "Index(['brand', 'processor_name', 'processor_cores', 'processor_speed', 'os',\n",
       "       'ram', 'storage', 'battery_capacity', 'DualSim', 'Volte', 'is_5G',\n",
       "       'is_Vo5G', 'wifi', 'ngc', 'irblaster', 'display_size', 'rear_camera',\n",
       "       'front_camera', 'price', 'is_ram_gb', 'is_storage_gb', 'display_width',\n",
       "       'display_height'],\n",
       "      dtype='object')"
      ]
     },
     "execution_count": 93,
     "metadata": {},
     "output_type": "execute_result"
    }
   ],
   "source": [
    "df.columns"
   ]
  },
  {
   "cell_type": "code",
   "execution_count": 94,
   "id": "089ed6b5",
   "metadata": {},
   "outputs": [],
   "source": [
    "df = df[['brand', 'processor_name', 'processor_cores', 'processor_speed', 'os',\n",
    "       'ram', 'is_ram_gb', 'storage', 'is_storage_gb', 'battery_capacity', 'DualSim', 'Volte', 'is_5G',\n",
    "       'is_Vo5G', 'wifi', 'ngc', 'irblaster', 'display_size', 'display_height', 'display_width', 'rear_camera',\n",
    "       'front_camera', 'price']]"
   ]
  },
  {
   "cell_type": "code",
   "execution_count": 97,
   "id": "2871323f",
   "metadata": {},
   "outputs": [],
   "source": [
    "# export as csv\n",
    "df.to_csv('processed_smartphones.csv',index=False)"
   ]
  },
  {
   "cell_type": "code",
   "execution_count": null,
   "id": "123ee0f5",
   "metadata": {},
   "outputs": [],
   "source": []
  }
 ],
 "metadata": {
  "kernelspec": {
   "display_name": "Python 3 (ipykernel)",
   "language": "python",
   "name": "python3"
  },
  "language_info": {
   "codemirror_mode": {
    "name": "ipython",
    "version": 3
   },
   "file_extension": ".py",
   "mimetype": "text/x-python",
   "name": "python",
   "nbconvert_exporter": "python",
   "pygments_lexer": "ipython3",
   "version": "3.11.5"
  }
 },
 "nbformat": 4,
 "nbformat_minor": 5
}
