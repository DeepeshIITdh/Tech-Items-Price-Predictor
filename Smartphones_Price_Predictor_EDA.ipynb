{
 "cells": [
  {
   "cell_type": "code",
   "execution_count": 1,
   "id": "64317d37",
   "metadata": {},
   "outputs": [],
   "source": [
    "import pandas as pd \n",
    "import numpy as np \n",
    "import matplotlib.pyplot as plt\n",
    "import seaborn as sns"
   ]
  },
  {
   "cell_type": "code",
   "execution_count": 2,
   "id": "dce02ce4",
   "metadata": {},
   "outputs": [],
   "source": [
    "# load the dataset\n",
    "df = pd.read_csv('clean_smartphones.csv')"
   ]
  },
  {
   "cell_type": "markdown",
   "id": "5d23808e",
   "metadata": {},
   "source": [
    "## Understanding the Data :"
   ]
  },
  {
   "cell_type": "code",
   "execution_count": 3,
   "id": "67c6d5cd",
   "metadata": {
    "scrolled": true
   },
   "outputs": [
    {
     "data": {
      "text/html": [
       "<div>\n",
       "<style scoped>\n",
       "    .dataframe tbody tr th:only-of-type {\n",
       "        vertical-align: middle;\n",
       "    }\n",
       "\n",
       "    .dataframe tbody tr th {\n",
       "        vertical-align: top;\n",
       "    }\n",
       "\n",
       "    .dataframe thead th {\n",
       "        text-align: right;\n",
       "    }\n",
       "</style>\n",
       "<table border=\"1\" class=\"dataframe\">\n",
       "  <thead>\n",
       "    <tr style=\"text-align: right;\">\n",
       "      <th></th>\n",
       "      <th>brand</th>\n",
       "      <th>processor_name</th>\n",
       "      <th>processor_cores</th>\n",
       "      <th>processor_speed</th>\n",
       "      <th>os</th>\n",
       "      <th>ram</th>\n",
       "      <th>storage</th>\n",
       "      <th>battery_capacity</th>\n",
       "      <th>battery_power</th>\n",
       "      <th>DualSim</th>\n",
       "      <th>...</th>\n",
       "      <th>wifi</th>\n",
       "      <th>ngc</th>\n",
       "      <th>irblaster</th>\n",
       "      <th>display_size</th>\n",
       "      <th>display_resolution</th>\n",
       "      <th>rear_camera</th>\n",
       "      <th>front_camera</th>\n",
       "      <th>memory_card_supported</th>\n",
       "      <th>rating</th>\n",
       "      <th>price</th>\n",
       "    </tr>\n",
       "  </thead>\n",
       "  <tbody>\n",
       "    <tr>\n",
       "      <th>0</th>\n",
       "      <td>OnePlus</td>\n",
       "      <td>Snapdragon</td>\n",
       "      <td>8.0</td>\n",
       "      <td>3.2</td>\n",
       "      <td>Android v13</td>\n",
       "      <td>12 GB RAM</td>\n",
       "      <td>256 GB inbuilt</td>\n",
       "      <td>5000 mAh</td>\n",
       "      <td>100W</td>\n",
       "      <td>1</td>\n",
       "      <td>...</td>\n",
       "      <td>1</td>\n",
       "      <td>1</td>\n",
       "      <td>0</td>\n",
       "      <td>6.70</td>\n",
       "      <td>1440x3216</td>\n",
       "      <td>50.0</td>\n",
       "      <td>16.0</td>\n",
       "      <td>0.0</td>\n",
       "      <td>89.0</td>\n",
       "      <td>54999</td>\n",
       "    </tr>\n",
       "    <tr>\n",
       "      <th>1</th>\n",
       "      <td>OnePlus</td>\n",
       "      <td>Snapdragon</td>\n",
       "      <td>8.0</td>\n",
       "      <td>2.2</td>\n",
       "      <td>Android v12</td>\n",
       "      <td>6 GB RAM</td>\n",
       "      <td>128 GB inbuilt</td>\n",
       "      <td>5000 mAh</td>\n",
       "      <td>33W</td>\n",
       "      <td>1</td>\n",
       "      <td>...</td>\n",
       "      <td>1</td>\n",
       "      <td>0</td>\n",
       "      <td>0</td>\n",
       "      <td>6.59</td>\n",
       "      <td>1080x2412</td>\n",
       "      <td>64.0</td>\n",
       "      <td>16.0</td>\n",
       "      <td>1.0</td>\n",
       "      <td>81.0</td>\n",
       "      <td>19989</td>\n",
       "    </tr>\n",
       "    <tr>\n",
       "      <th>2</th>\n",
       "      <td>Samsung</td>\n",
       "      <td>Exynos</td>\n",
       "      <td>8.0</td>\n",
       "      <td>2.4</td>\n",
       "      <td>Android v13</td>\n",
       "      <td>4 GB RAM</td>\n",
       "      <td>64 GB inbuilt</td>\n",
       "      <td>5000 mAh</td>\n",
       "      <td>15W</td>\n",
       "      <td>1</td>\n",
       "      <td>...</td>\n",
       "      <td>1</td>\n",
       "      <td>0</td>\n",
       "      <td>0</td>\n",
       "      <td>6.60</td>\n",
       "      <td>1080x2408</td>\n",
       "      <td>50.0</td>\n",
       "      <td>13.0</td>\n",
       "      <td>1.0</td>\n",
       "      <td>75.0</td>\n",
       "      <td>16499</td>\n",
       "    </tr>\n",
       "    <tr>\n",
       "      <th>3</th>\n",
       "      <td>Motorola</td>\n",
       "      <td>Snapdragon</td>\n",
       "      <td>8.0</td>\n",
       "      <td>2.2</td>\n",
       "      <td>Android v12</td>\n",
       "      <td>6 GB RAM</td>\n",
       "      <td>128 GB inbuilt</td>\n",
       "      <td>5000 mAh</td>\n",
       "      <td>NaN</td>\n",
       "      <td>1</td>\n",
       "      <td>...</td>\n",
       "      <td>1</td>\n",
       "      <td>0</td>\n",
       "      <td>0</td>\n",
       "      <td>6.55</td>\n",
       "      <td>1080x2400</td>\n",
       "      <td>50.0</td>\n",
       "      <td>16.0</td>\n",
       "      <td>1.0</td>\n",
       "      <td>81.0</td>\n",
       "      <td>14999</td>\n",
       "    </tr>\n",
       "    <tr>\n",
       "      <th>4</th>\n",
       "      <td>Realme</td>\n",
       "      <td>Dimensity</td>\n",
       "      <td>8.0</td>\n",
       "      <td>2.6</td>\n",
       "      <td>Android v13</td>\n",
       "      <td>6 GB RAM</td>\n",
       "      <td>128 GB inbuilt</td>\n",
       "      <td>5000 mAh</td>\n",
       "      <td>67W</td>\n",
       "      <td>1</td>\n",
       "      <td>...</td>\n",
       "      <td>1</td>\n",
       "      <td>0</td>\n",
       "      <td>0</td>\n",
       "      <td>6.70</td>\n",
       "      <td>1080x2412</td>\n",
       "      <td>108.0</td>\n",
       "      <td>16.0</td>\n",
       "      <td>0.0</td>\n",
       "      <td>82.0</td>\n",
       "      <td>24999</td>\n",
       "    </tr>\n",
       "  </tbody>\n",
       "</table>\n",
       "<p>5 rows × 23 columns</p>\n",
       "</div>"
      ],
      "text/plain": [
       "      brand processor_name  processor_cores processor_speed           os  \\\n",
       "0   OnePlus     Snapdragon              8.0            3.2   Android v13   \n",
       "1   OnePlus     Snapdragon              8.0            2.2   Android v12   \n",
       "2   Samsung         Exynos              8.0            2.4   Android v13   \n",
       "3  Motorola     Snapdragon              8.0            2.2   Android v12   \n",
       "4    Realme      Dimensity              8.0            2.6   Android v13   \n",
       "\n",
       "         ram          storage battery_capacity battery_power  DualSim  ...  \\\n",
       "0  12 GB RAM   256 GB inbuilt        5000 mAh           100W        1  ...   \n",
       "1   6 GB RAM   128 GB inbuilt        5000 mAh            33W        1  ...   \n",
       "2   4 GB RAM    64 GB inbuilt        5000 mAh            15W        1  ...   \n",
       "3   6 GB RAM   128 GB inbuilt        5000 mAh            NaN        1  ...   \n",
       "4   6 GB RAM   128 GB inbuilt        5000 mAh            67W        1  ...   \n",
       "\n",
       "   wifi  ngc  irblaster  display_size  display_resolution  rear_camera  \\\n",
       "0     1    1          0          6.70           1440x3216         50.0   \n",
       "1     1    0          0          6.59           1080x2412         64.0   \n",
       "2     1    0          0          6.60           1080x2408         50.0   \n",
       "3     1    0          0          6.55           1080x2400         50.0   \n",
       "4     1    0          0          6.70           1080x2412        108.0   \n",
       "\n",
       "   front_camera memory_card_supported  rating  price  \n",
       "0          16.0                   0.0    89.0  54999  \n",
       "1          16.0                   1.0    81.0  19989  \n",
       "2          13.0                   1.0    75.0  16499  \n",
       "3          16.0                   1.0    81.0  14999  \n",
       "4          16.0                   0.0    82.0  24999  \n",
       "\n",
       "[5 rows x 23 columns]"
      ]
     },
     "execution_count": 3,
     "metadata": {},
     "output_type": "execute_result"
    }
   ],
   "source": [
    "df.head()"
   ]
  },
  {
   "cell_type": "code",
   "execution_count": 4,
   "id": "69d3446c",
   "metadata": {},
   "outputs": [
    {
     "data": {
      "text/plain": [
       "(1020, 23)"
      ]
     },
     "execution_count": 4,
     "metadata": {},
     "output_type": "execute_result"
    }
   ],
   "source": [
    "df.shape"
   ]
  },
  {
   "cell_type": "code",
   "execution_count": 14,
   "id": "0128700a",
   "metadata": {
    "scrolled": false
   },
   "outputs": [
    {
     "data": {
      "text/plain": [
       "brand                     0.000000\n",
       "processor_name            5.196078\n",
       "processor_cores           3.921569\n",
       "processor_speed           8.725490\n",
       "os                       27.254902\n",
       "ram                       2.647059\n",
       "storage                   2.647059\n",
       "battery_capacity          3.235294\n",
       "battery_power            24.509804\n",
       "DualSim                   0.000000\n",
       "Volte                     0.000000\n",
       "is_5G                     0.000000\n",
       "is_Vo5G                   0.000000\n",
       "wifi                      0.000000\n",
       "ngc                       0.000000\n",
       "irblaster                 0.000000\n",
       "display_size              3.235294\n",
       "display_resolution        3.235294\n",
       "rear_camera               6.470588\n",
       "front_camera              7.549020\n",
       "memory_card_supported    27.254902\n",
       "rating                   13.823529\n",
       "price                     0.000000\n",
       "dtype: float64"
      ]
     },
     "execution_count": 14,
     "metadata": {},
     "output_type": "execute_result"
    }
   ],
   "source": [
    "# missing values percentage\n",
    "(df.isnull().sum()/1020)*100"
   ]
  },
  {
   "cell_type": "code",
   "execution_count": 6,
   "id": "7a0eb9f6",
   "metadata": {},
   "outputs": [
    {
     "data": {
      "text/plain": [
       "2"
      ]
     },
     "execution_count": 6,
     "metadata": {},
     "output_type": "execute_result"
    }
   ],
   "source": [
    "df.duplicated().sum()"
   ]
  },
  {
   "cell_type": "code",
   "execution_count": 7,
   "id": "b602046c",
   "metadata": {},
   "outputs": [],
   "source": [
    "df = df.drop_duplicates().reset_index(drop=True)"
   ]
  },
  {
   "cell_type": "code",
   "execution_count": 8,
   "id": "59abbce8",
   "metadata": {},
   "outputs": [
    {
     "data": {
      "text/html": [
       "<div>\n",
       "<style scoped>\n",
       "    .dataframe tbody tr th:only-of-type {\n",
       "        vertical-align: middle;\n",
       "    }\n",
       "\n",
       "    .dataframe tbody tr th {\n",
       "        vertical-align: top;\n",
       "    }\n",
       "\n",
       "    .dataframe thead th {\n",
       "        text-align: right;\n",
       "    }\n",
       "</style>\n",
       "<table border=\"1\" class=\"dataframe\">\n",
       "  <thead>\n",
       "    <tr style=\"text-align: right;\">\n",
       "      <th></th>\n",
       "      <th>brand</th>\n",
       "      <th>processor_name</th>\n",
       "      <th>processor_cores</th>\n",
       "      <th>processor_speed</th>\n",
       "      <th>os</th>\n",
       "      <th>ram</th>\n",
       "      <th>storage</th>\n",
       "      <th>battery_capacity</th>\n",
       "      <th>battery_power</th>\n",
       "      <th>DualSim</th>\n",
       "      <th>...</th>\n",
       "      <th>wifi</th>\n",
       "      <th>ngc</th>\n",
       "      <th>irblaster</th>\n",
       "      <th>display_size</th>\n",
       "      <th>display_resolution</th>\n",
       "      <th>rear_camera</th>\n",
       "      <th>front_camera</th>\n",
       "      <th>memory_card_supported</th>\n",
       "      <th>rating</th>\n",
       "      <th>price</th>\n",
       "    </tr>\n",
       "  </thead>\n",
       "  <tbody>\n",
       "    <tr>\n",
       "      <th>0</th>\n",
       "      <td>OnePlus</td>\n",
       "      <td>Snapdragon</td>\n",
       "      <td>8.0</td>\n",
       "      <td>3.2</td>\n",
       "      <td>Android v13</td>\n",
       "      <td>12 GB RAM</td>\n",
       "      <td>256 GB inbuilt</td>\n",
       "      <td>5000 mAh</td>\n",
       "      <td>100W</td>\n",
       "      <td>1</td>\n",
       "      <td>...</td>\n",
       "      <td>1</td>\n",
       "      <td>1</td>\n",
       "      <td>0</td>\n",
       "      <td>6.70</td>\n",
       "      <td>1440x3216</td>\n",
       "      <td>50.0</td>\n",
       "      <td>16.0</td>\n",
       "      <td>0.0</td>\n",
       "      <td>89.0</td>\n",
       "      <td>54999</td>\n",
       "    </tr>\n",
       "    <tr>\n",
       "      <th>1</th>\n",
       "      <td>OnePlus</td>\n",
       "      <td>Snapdragon</td>\n",
       "      <td>8.0</td>\n",
       "      <td>2.2</td>\n",
       "      <td>Android v12</td>\n",
       "      <td>6 GB RAM</td>\n",
       "      <td>128 GB inbuilt</td>\n",
       "      <td>5000 mAh</td>\n",
       "      <td>33W</td>\n",
       "      <td>1</td>\n",
       "      <td>...</td>\n",
       "      <td>1</td>\n",
       "      <td>0</td>\n",
       "      <td>0</td>\n",
       "      <td>6.59</td>\n",
       "      <td>1080x2412</td>\n",
       "      <td>64.0</td>\n",
       "      <td>16.0</td>\n",
       "      <td>1.0</td>\n",
       "      <td>81.0</td>\n",
       "      <td>19989</td>\n",
       "    </tr>\n",
       "    <tr>\n",
       "      <th>2</th>\n",
       "      <td>Samsung</td>\n",
       "      <td>Exynos</td>\n",
       "      <td>8.0</td>\n",
       "      <td>2.4</td>\n",
       "      <td>Android v13</td>\n",
       "      <td>4 GB RAM</td>\n",
       "      <td>64 GB inbuilt</td>\n",
       "      <td>5000 mAh</td>\n",
       "      <td>15W</td>\n",
       "      <td>1</td>\n",
       "      <td>...</td>\n",
       "      <td>1</td>\n",
       "      <td>0</td>\n",
       "      <td>0</td>\n",
       "      <td>6.60</td>\n",
       "      <td>1080x2408</td>\n",
       "      <td>50.0</td>\n",
       "      <td>13.0</td>\n",
       "      <td>1.0</td>\n",
       "      <td>75.0</td>\n",
       "      <td>16499</td>\n",
       "    </tr>\n",
       "    <tr>\n",
       "      <th>3</th>\n",
       "      <td>Motorola</td>\n",
       "      <td>Snapdragon</td>\n",
       "      <td>8.0</td>\n",
       "      <td>2.2</td>\n",
       "      <td>Android v12</td>\n",
       "      <td>6 GB RAM</td>\n",
       "      <td>128 GB inbuilt</td>\n",
       "      <td>5000 mAh</td>\n",
       "      <td>NaN</td>\n",
       "      <td>1</td>\n",
       "      <td>...</td>\n",
       "      <td>1</td>\n",
       "      <td>0</td>\n",
       "      <td>0</td>\n",
       "      <td>6.55</td>\n",
       "      <td>1080x2400</td>\n",
       "      <td>50.0</td>\n",
       "      <td>16.0</td>\n",
       "      <td>1.0</td>\n",
       "      <td>81.0</td>\n",
       "      <td>14999</td>\n",
       "    </tr>\n",
       "    <tr>\n",
       "      <th>4</th>\n",
       "      <td>Realme</td>\n",
       "      <td>Dimensity</td>\n",
       "      <td>8.0</td>\n",
       "      <td>2.6</td>\n",
       "      <td>Android v13</td>\n",
       "      <td>6 GB RAM</td>\n",
       "      <td>128 GB inbuilt</td>\n",
       "      <td>5000 mAh</td>\n",
       "      <td>67W</td>\n",
       "      <td>1</td>\n",
       "      <td>...</td>\n",
       "      <td>1</td>\n",
       "      <td>0</td>\n",
       "      <td>0</td>\n",
       "      <td>6.70</td>\n",
       "      <td>1080x2412</td>\n",
       "      <td>108.0</td>\n",
       "      <td>16.0</td>\n",
       "      <td>0.0</td>\n",
       "      <td>82.0</td>\n",
       "      <td>24999</td>\n",
       "    </tr>\n",
       "  </tbody>\n",
       "</table>\n",
       "<p>5 rows × 23 columns</p>\n",
       "</div>"
      ],
      "text/plain": [
       "      brand processor_name  processor_cores processor_speed           os  \\\n",
       "0   OnePlus     Snapdragon              8.0            3.2   Android v13   \n",
       "1   OnePlus     Snapdragon              8.0            2.2   Android v12   \n",
       "2   Samsung         Exynos              8.0            2.4   Android v13   \n",
       "3  Motorola     Snapdragon              8.0            2.2   Android v12   \n",
       "4    Realme      Dimensity              8.0            2.6   Android v13   \n",
       "\n",
       "         ram          storage battery_capacity battery_power  DualSim  ...  \\\n",
       "0  12 GB RAM   256 GB inbuilt        5000 mAh           100W        1  ...   \n",
       "1   6 GB RAM   128 GB inbuilt        5000 mAh            33W        1  ...   \n",
       "2   4 GB RAM    64 GB inbuilt        5000 mAh            15W        1  ...   \n",
       "3   6 GB RAM   128 GB inbuilt        5000 mAh            NaN        1  ...   \n",
       "4   6 GB RAM   128 GB inbuilt        5000 mAh            67W        1  ...   \n",
       "\n",
       "   wifi  ngc  irblaster  display_size  display_resolution  rear_camera  \\\n",
       "0     1    1          0          6.70           1440x3216         50.0   \n",
       "1     1    0          0          6.59           1080x2412         64.0   \n",
       "2     1    0          0          6.60           1080x2408         50.0   \n",
       "3     1    0          0          6.55           1080x2400         50.0   \n",
       "4     1    0          0          6.70           1080x2412        108.0   \n",
       "\n",
       "   front_camera memory_card_supported  rating  price  \n",
       "0          16.0                   0.0    89.0  54999  \n",
       "1          16.0                   1.0    81.0  19989  \n",
       "2          13.0                   1.0    75.0  16499  \n",
       "3          16.0                   1.0    81.0  14999  \n",
       "4          16.0                   0.0    82.0  24999  \n",
       "\n",
       "[5 rows x 23 columns]"
      ]
     },
     "execution_count": 8,
     "metadata": {},
     "output_type": "execute_result"
    }
   ],
   "source": [
    "df.head()"
   ]
  },
  {
   "cell_type": "code",
   "execution_count": 9,
   "id": "1d4c13bb",
   "metadata": {},
   "outputs": [
    {
     "name": "stdout",
     "output_type": "stream",
     "text": [
      "<class 'pandas.core.frame.DataFrame'>\n",
      "RangeIndex: 1018 entries, 0 to 1017\n",
      "Data columns (total 23 columns):\n",
      " #   Column                 Non-Null Count  Dtype  \n",
      "---  ------                 --------------  -----  \n",
      " 0   brand                  1018 non-null   object \n",
      " 1   processor_name         965 non-null    object \n",
      " 2   processor_cores        978 non-null    float64\n",
      " 3   processor_speed        929 non-null    object \n",
      " 4   os                     740 non-null    object \n",
      " 5   ram                    991 non-null    object \n",
      " 6   storage                991 non-null    object \n",
      " 7   battery_capacity       985 non-null    object \n",
      " 8   battery_power          767 non-null    object \n",
      " 9   DualSim                1018 non-null   int64  \n",
      " 10  Volte                  1018 non-null   int64  \n",
      " 11  is_5G                  1018 non-null   int64  \n",
      " 12  is_Vo5G                1018 non-null   int64  \n",
      " 13  wifi                   1018 non-null   int64  \n",
      " 14  ngc                    1018 non-null   int64  \n",
      " 15  irblaster              1018 non-null   int64  \n",
      " 16  display_size           985 non-null    float64\n",
      " 17  display_resolution     985 non-null    object \n",
      " 18  rear_camera            952 non-null    float64\n",
      " 19  front_camera           941 non-null    float64\n",
      " 20  memory_card_supported  740 non-null    float64\n",
      " 21  rating                 877 non-null    float64\n",
      " 22  price                  1018 non-null   int64  \n",
      "dtypes: float64(6), int64(8), object(9)\n",
      "memory usage: 183.1+ KB\n"
     ]
    }
   ],
   "source": [
    "df.info()"
   ]
  },
  {
   "cell_type": "markdown",
   "id": "e331ed61",
   "metadata": {},
   "source": [
    "## Exploratory Data Analysis :"
   ]
  },
  {
   "cell_type": "markdown",
   "id": "62e0cbc5",
   "metadata": {},
   "source": [
    "### 1. Brand :"
   ]
  },
  {
   "cell_type": "code",
   "execution_count": 44,
   "id": "96147aa7",
   "metadata": {},
   "outputs": [],
   "source": [
    "df['brand'] = df['brand'].str.replace('itel','Itel')"
   ]
  },
  {
   "cell_type": "code",
   "execution_count": 50,
   "id": "ed33dd5a",
   "metadata": {},
   "outputs": [
    {
     "name": "stdout",
     "output_type": "stream",
     "text": [
      "[(137, 'Xiaomi'), (135, 'Samsung'), (111, 'Vivo'), (97, 'Realme'), (87, 'OPPO'), (53, 'Motorola'), (47, 'Apple'), (42, 'OnePlus'), (41, 'POCO'), (33, 'Tecno'), (32, 'iQOO'), (30, 'Nokia'), (29, 'Infinix'), (16, 'Huawei')]\n"
     ]
    },
    {
     "data": {
      "image/png": "[encoded data removed]",
      "text/plain": [
       "<Figure size 1200x400 with 1 Axes>"
      ]
     },
     "metadata": {},
     "output_type": "display_data"
    }
   ],
   "source": [
    "plt.figure(figsize=(12,4))\n",
    "print([(df['brand'].value_counts().values[i],df['brand'].value_counts().index[i]) for i in range(14)])\n",
    "df['brand'].value_counts().plot(kind='bar')\n",
    "plt.show()"
   ]
  },
  {
   "cell_type": "markdown",
   "id": "216d50da",
   "metadata": {},
   "source": [
    "#### Price and Brand --"
   ]
  },
  {
   "cell_type": "code",
   "execution_count": 11,
   "id": "38113389",
   "metadata": {},
   "outputs": [],
   "source": [
    "# vertu is clearly a outlier\n",
    "df.drop([430],axis=0,inplace=True)"
   ]
  },
  {
   "cell_type": "code",
   "execution_count": 12,
   "id": "61199a05",
   "metadata": {},
   "outputs": [
    {
     "data": {
      "image/png": "[encoded data removed]",
      "text/plain": [
       "<Figure size 1200x400 with 1 Axes>"
      ]
     },
     "metadata": {},
     "output_type": "display_data"
    }
   ],
   "source": [
    "plt.figure(figsize=(12,4))\n",
    "sns.barplot(x=df['brand'],y=df['price'])\n",
    "plt.xticks(rotation='vertical')\n",
    "plt.show()"
   ]
  },
  {
   "cell_type": "markdown",
   "id": "c228a418",
   "metadata": {},
   "source": [
    "### 2. Processor :"
   ]
  },
  {
   "cell_type": "code",
   "execution_count": 15,
   "id": "bff73dee",
   "metadata": {},
   "outputs": [
    {
     "name": "stdout",
     "output_type": "stream",
     "text": [
      "[(416, 'Snapdragon'), (202, 'Helio'), (175, 'Dimensity'), (50, 'Exynos'), (45, 'Bionic'), (35, 'Unisoc'), (24, 'Tiger'), (9, 'Google'), (7, 'Kirin'), (1, 'Fusion')]\n"
     ]
    },
    {
     "data": {
      "image/png": "[encoded data removed]",
      "text/plain": [
       "<Figure size 1200x400 with 1 Axes>"
      ]
     },
     "metadata": {},
     "output_type": "display_data"
    }
   ],
   "source": [
    "# processor name\n",
    "plt.figure(figsize=(12,4))\n",
    "print([(df['processor_name'].value_counts().values[i],df['processor_name'].value_counts().index[i]) for i in range(10)])\n",
    "df['processor_name'].value_counts().plot(kind='bar')\n",
    "plt.show()"
   ]
  },
  {
   "cell_type": "code",
   "execution_count": 45,
   "id": "8e49676f",
   "metadata": {
    "scrolled": true
   },
   "outputs": [
    {
     "data": {
      "text/plain": [
       "brand\n",
       "Samsung      15\n",
       "Nokia        12\n",
       "Itel          6\n",
       "iKall         4\n",
       "Eunity        3\n",
       "Jio           2\n",
       "Tesla         1\n",
       "Tecno         1\n",
       "Huawei        1\n",
       "BlackZone     1\n",
       "LG            1\n",
       "Motorola      1\n",
       "Karbonn       1\n",
       "Apple         1\n",
       "Zanco         1\n",
       "Namotel       1\n",
       "XTouch        1\n",
       "Name: count, dtype: int64"
      ]
     },
     "execution_count": 45,
     "metadata": {},
     "output_type": "execute_result"
    }
   ],
   "source": [
    "# brands whose 'processor_name' is missing\n",
    "df[df['processor_name'].isnull()==True]['brand'].value_counts()"
   ]
  },
  {
   "cell_type": "code",
   "execution_count": 46,
   "id": "9c183ea3",
   "metadata": {
    "scrolled": false
   },
   "outputs": [
    {
     "name": "stdout",
     "output_type": "stream",
     "text": [
      "[['Apple' 'Bionic' 45]\n",
      " ['Apple' 'Fusion' 1]\n",
      " ['Asus' 'Dimensity' 2]\n",
      " ['Asus' 'Snapdragon' 5]\n",
      " ['BLU' 'Dimensity' 1]\n",
      " ['Blackview' 'Helio' 1]\n",
      " ['CAT' 'Snapdragon' 1]\n",
      " ['Cola' 'Helio' 1]\n",
      " ['DIZO' 'Unisoc' 1]\n",
      " ['Doogee' 'Dimensity' 1]\n",
      " ['Doogee' 'Helio' 1]\n",
      " ['Duoqin' 'Helio' 1]\n",
      " ['Gionee' 'Helio' 1]\n",
      " ['Gionee' 'Tiger' 2]\n",
      " ['Google' 'Google' 9]\n",
      " ['Google' 'Snapdragon' 5]\n",
      " ['Honor' 'Dimensity' 1]\n",
      " ['Honor' 'Helio' 2]\n",
      " ['Honor' 'Snapdragon' 10]\n",
      " ['Huawei' 'Kirin' 7]\n",
      " ['Huawei' 'Snapdragon' 8]\n",
      " ['Infinix' 'Dimensity' 6]\n",
      " ['Infinix' 'Helio' 20]\n",
      " ['Infinix' 'Tiger' 3]\n",
      " ['Itel' 'Unisoc' 8]\n",
      " ['Jio' 'Snapdragon' 3]\n",
      " ['LG' 'Snapdragon' 3]\n",
      " ['Lava' 'Dimensity' 2]\n",
      " ['Lava' 'Helio' 2]\n",
      " ['LeEco' 'Tiger' 1]\n",
      " ['Leitz' 'Snapdragon' 1]\n",
      " ['Lenovo' 'Snapdragon' 2]\n",
      " ['Letv' 'Tiger' 2]\n",
      " ['Letv' 'Unisoc' 1]\n",
      " ['Lyf' 'Snapdragon' 3]\n",
      " ['Micromax' 'Tiger' 1]\n",
      " ['Micromax' 'Unisoc' 2]\n",
      " ['Motorola' 'Dimensity' 2]\n",
      " ['Motorola' 'Helio' 11]\n",
      " ['Motorola' 'Snapdragon' 37]\n",
      " ['Motorola' 'Tiger' 2]\n",
      " ['Nokia' 'Snapdragon' 10]\n",
      " ['Nokia' 'Unisoc' 8]\n",
      " ['Nothing' 'Snapdragon' 5]\n",
      " ['Nubia' 'Snapdragon' 6]\n",
      " ['OPPO' 'Dimensity' 22]\n",
      " ['OPPO' 'Helio' 23]\n",
      " ['OPPO' 'Snapdragon' 42]\n",
      " ['OnePlus' 'Dimensity' 11]\n",
      " ['OnePlus' 'Snapdragon' 31]\n",
      " ['OukItel' 'Helio' 3]\n",
      " ['POCO' 'Dimensity' 14]\n",
      " ['POCO' 'Helio' 11]\n",
      " ['POCO' 'Snapdragon' 16]\n",
      " ['Realme' 'Dimensity' 27]\n",
      " ['Realme' 'Helio' 16]\n",
      " ['Realme' 'Snapdragon' 32]\n",
      " ['Realme' 'Tiger' 13]\n",
      " ['Realme' 'Unisoc' 9]\n",
      " ['Royole' 'Snapdragon' 2]\n",
      " ['Samsung' 'Dimensity' 11]\n",
      " ['Samsung' 'Exynos' 50]\n",
      " ['Samsung' 'Helio' 20]\n",
      " ['Samsung' 'Snapdragon' 36]\n",
      " ['Samsung' 'Unisoc' 3]\n",
      " ['Sharp' 'Snapdragon' 1]\n",
      " ['Sony' 'Helio' 1]\n",
      " ['Sony' 'Snapdragon' 8]\n",
      " ['TCL' 'Helio' 1]\n",
      " ['Tecno' 'Dimensity' 6]\n",
      " ['Tecno' 'Helio' 23]\n",
      " ['Tecno' 'Unisoc' 3]\n",
      " ['Vivo' 'Dimensity' 32]\n",
      " ['Vivo' 'Helio' 31]\n",
      " ['Vivo' 'Snapdragon' 48]\n",
      " ['Xiaomi' 'Dimensity' 35]\n",
      " ['Xiaomi' 'Helio' 33]\n",
      " ['Xiaomi' 'Snapdragon' 69]\n",
      " ['ZTE' 'Snapdragon' 2]\n",
      " ['iQOO' 'Dimensity' 2]\n",
      " ['iQOO' 'Snapdragon' 30]]\n"
     ]
    }
   ],
   "source": [
    "# groupby 'brand' and 'processor_name'\n",
    "print(df.groupby(by=['brand','processor_name'],as_index=False).size().values)"
   ]
  },
  {
   "cell_type": "code",
   "execution_count": null,
   "id": "63b9b068",
   "metadata": {},
   "outputs": [],
   "source": []
  },
  {
   "cell_type": "code",
   "execution_count": null,
   "id": "6b51338d",
   "metadata": {},
   "outputs": [],
   "source": []
  }
 ],
 "metadata": {
  "kernelspec": {
   "display_name": "Python 3 (ipykernel)",
   "language": "python",
   "name": "python3"
  },
  "language_info": {
   "codemirror_mode": {
    "name": "ipython",
    "version": 3
   },
   "file_extension": ".py",
   "mimetype": "text/x-python",
   "name": "python",
   "nbconvert_exporter": "python",
   "pygments_lexer": "ipython3",
   "version": "3.11.5"
  }
 },
 "nbformat": 4,
 "nbformat_minor": 5
}
